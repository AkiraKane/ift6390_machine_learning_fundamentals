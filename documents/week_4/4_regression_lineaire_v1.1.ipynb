{
 "metadata": {
  "name": "",
  "signature": "sha256:ae0d76ed8a4c818f9f8268b87aac093c1ed87d74ad946a8b885e51731bd0ad72"
 },
 "nbformat": 3,
 "nbformat_minor": 0,
 "worksheets": [
  {
   "cells": [
    {
     "cell_type": "heading",
     "level": 1,
     "metadata": {},
     "source": [
      "R\u00e9gression lin\u00e9aire"
     ]
    },
    {
     "cell_type": "markdown",
     "metadata": {},
     "source": [
      "Le prochain mod\u00e8le abord\u00e9 sera la r\u00e9gression lin\u00e9aire avant de voir la classification lin\u00e9aire \u00e0 la prochaine s\u00e9ance. La r\u00e9gression se d\u00e9finit par la simple formule suivante\n",
      "\n",
      "$$\\hat{y} =\\sum_{j=1}^d w_jx_j+b$$\n",
      "\n",
      "O\u00f9 $d$ est le nombre de dimension de l'exemple $x$. $w$ et $b$ sont les poids et le biais respectivement. $\\hat{y}$ cera aujourd'hui un simple scalaire, mais il pourrait aussi \u00eatre un vecteur et dans ce cas $W$ devrait \u00eatre une matrice!\n",
      "\n",
      "Pour entra\u00eener le mod\u00e8le, on va minimiser l'erreur quadratique\n",
      "\n",
      "$$E = \\frac{1}{n}\\sum_{i=1}^n (y_i-\\hat{y_i})^2$$\n",
      "\n",
      "L'algorithme de descente de gradient est frequemment utilis\u00e9 comme r\u00e8gle de mise \u00e0 jour des param\u00e8tres afin d'optimiser l'erreur. Pour l'utiliser, nous devons calculer le gradient de l'erreur par rapport \u00e0 nos param\u00e8tres, soit $w$ et $b$. Nous aurons ensuite la r\u00e8gle de mise \u00e0 jour pour atteindre l'erreur minimale. \n",
      "\n",
      "Calculez le gradient par rapport \u00e0 $w$ et $b$ et passez \u00e0 la premi\u00e8re section. N'h\u00e9sitez pas \u00e0 poser des question! "
     ]
    },
    {
     "cell_type": "code",
     "collapsed": false,
     "input": [
      "%load_ext autoreload\n",
      "%autoreload 2\n",
      "%pylab inline\n",
      "%aimport numpy\n",
      "np=numpy\n",
      "import utilitaires4\n",
      "import time"
     ],
     "language": "python",
     "metadata": {},
     "outputs": [
      {
       "output_type": "stream",
       "stream": "stdout",
       "text": [
        "Populating the interactive namespace from numpy and matplotlib\n"
       ]
      }
     ],
     "prompt_number": 2
    },
    {
     "cell_type": "heading",
     "level": 2,
     "metadata": {},
     "source": [
      "1 - R\u00e9gression lin\u00e9aire en ligne"
     ]
    },
    {
     "cell_type": "markdown",
     "metadata": {},
     "source": [
      "La descente de gradient stochastique (c'est-\u00e0-dire o\u00f9 on fait une mise \u00e0 jour par exemple visit\u00e9) est facile \u00e0 impl\u00e9menter. Nous commencerons donc par celle-ci. Vous impl\u00e9menterez la descente de gradient par batch \u00e0 la prochaine section. \n",
      "\n",
      "La premi\u00e8re fonction \u00e0 apprendre par votre mod\u00e8le est celle affich\u00e9 par le code suivant."
     ]
    },
    {
     "cell_type": "code",
     "collapsed": false,
     "input": [
      "x, y = utilitaires4.fonction_1()\n",
      "\n",
      "plt.scatter(x, y)\n",
      "\n",
      "plt.show()"
     ],
     "language": "python",
     "metadata": {},
     "outputs": [
      {
       "metadata": {},
       "output_type": "display_data",
       "png": "[encoded data removed]",
       "text": [
        "<matplotlib.figure.Figure at 0x21b7650>"
       ]
      }
     ],
     "prompt_number": 3
    },
    {
     "cell_type": "markdown",
     "metadata": {},
     "source": [
      "Completez la fonction `apprend_enligne` et ex\u00e9cutez la cellule suivante pour tester son apprentissage. Le mod\u00e8le devrait ajuster ses param\u00e8tres aux donn\u00e9es sans probl\u00e8mes. Regardez l'erreur qui devrait diminuer \u00e0 chaque \u00e9poque et la repr\u00e9sentation du mod\u00e8le qui devrait s'approcher des donn\u00e9es sur le graphique.\n",
      "\n",
      "La mise \u00e0 jour stochastique se fait de la mani\u00e8re suivante\n",
      "\n",
      "$$ w_{t+1} \\leftarrow w_t - \\eta\\frac{\\partial E_i}{\\partial W}$$\n",
      "\n",
      "$$ b_{t+1} \\leftarrow b_t - \\eta\\frac{\\partial E_i}{\\partial b}$$\n",
      "\n",
      "O\u00f9 $\\eta$ est le taux d'apprentissage, un hyper-param\u00e8tre qu'il faut ajuster \u00e0 la main pour optimiser l'apprentissage de l'algorithme. $E_i$ est l'erreur quadratique sur l'exemple $x_i$. Il n'y a donc pas de somme $\\sum_{i=0}^n$. Regardez l'\u00e9quation de la section 2 pour comparer si \u00e7a ne vous semble pas clair."
     ]
    },
    {
     "cell_type": "code",
     "collapsed": false,
     "input": [
      "def apprend_enligne(x, y, n_epoch, learning_rate):\n",
      "    \"\"\"\n",
      "    Apprend les param\u00e8tres w et b en minimisant l'erreur de quadratique de mani\u00e8re stochastique.\n",
      "        \n",
      "    Parameters\n",
      "    ----------\n",
      "    x : array\n",
      "        vecteur d'exemples, chaque exemple est de dimension 1. x est donc un vecteur de dimension n\n",
      "    y : array\n",
      "        vecteur de cibles de dimensions n\n",
      "    n_epoch : int\n",
      "        nombre d'\u00e9poque d'entra\u00eenement\n",
      "    learning_rate : float\n",
      "        taux d'apprentissage de l'algorithme\n",
      "\n",
      "    Returns\n",
      "    -------\n",
      "    w : float\n",
      "        poids dans la formule y = w*x + b\n",
      "    b : float\n",
      "        biais dans la formule y = w*x + b\n",
      "    \"\"\"\n",
      "    \n",
      "    # on initialise les param\u00e8tres W et b\n",
      "    w = 0.\n",
      "    b = 1\n",
      "\n",
      "    start = time.clock()\n",
      "    # pour chaque \u00e9poque\n",
      "    for i in range(n_epoch):\n",
      "        \n",
      "        # pour chaque example de l'ensemble\n",
      "        for j in xrange(x.shape[0]):\n",
      "            \n",
      "            y_hat = # impl\u00e9mentez la pr\u00e9diction y_hat\n",
      "        \n",
      "            w = # impl\u00e9mentez la r\u00e8gle de mise \u00e0 jour\n",
      "            b = # impl\u00e9mentez la r\u00e8gle de mise \u00e0 jour\n",
      "\n",
      "        if i%(n_epoch/4) == 0:\n",
      "            y_hat = # impl\u00e9mentez la pr\u00e9diction y_hat\n",
      "            utilitaires4.plot(x, y, y_hat)\n",
      "            \n",
      "            print \"\u00e9poque #%d\" % (i+1)\n",
      "            print \"erreur quadratique = %f\" % (np.sum((y-y_hat)**2)/float(x.shape[0]))\n",
      "    end = time.clock()\n",
      "\n",
      "    print \"L'entra\u00eenement a pris %f seconds (%d exemples visit\u00e9 par seconde)\" % (end-start, (n_epoch*x.shape[0])/float(end-start))\n",
      "    \n",
      "    return w, b\n",
      "\n"
     ],
     "language": "python",
     "metadata": {},
     "outputs": []
    },
    {
     "cell_type": "code",
     "collapsed": false,
     "input": [
      "x, y = utilitaires4.fonction_1()\n",
      "\n",
      "w, b = apprend_enligne(x, y, n_epoch=20, learning_rate=0.1)\n",
      "\n",
      "plt.clf()\n",
      "\n",
      "print \"w=%f, b=%f\" % (w, b)"
     ],
     "language": "python",
     "metadata": {},
     "outputs": []
    },
    {
     "cell_type": "heading",
     "level": 2,
     "metadata": {},
     "source": [
      "2 - R\u00e9gression lin\u00e9aire par batch"
     ]
    },
    {
     "cell_type": "markdown",
     "metadata": {},
     "source": [
      "Completez la fonction `apprend_par_batch` et ex\u00e9cutez la cellule suivante pour tester son apprentissage. \n",
      "\n",
      "La mise \u00e0 jour par batch se fait de la mani\u00e8re suivante\n",
      "\n",
      "$$ w_{t+1} \\leftarrow w_t - \\eta\\frac{1}{n}\\sum_{i=1}^n\\frac{\\partial E_i}{\\partial W}$$\n",
      "\n",
      "$$ b_{t+1} \\leftarrow b_t - \\eta\\frac{1}{n}\\sum_{i=1}^n\\frac{\\partial E_i}{\\partial b}$$\n",
      "\n",
      "O\u00f9 $\\eta$, encore une fois, est le taux d'apprentissage. Remarquez qu'ici on somme bien sur tout l'ensemble. Il y aura donc une seule mise \u00e0 jour par \u00e9poque, mais elle sera beaucoup moins bruit\u00e9e."
     ]
    },
    {
     "cell_type": "code",
     "collapsed": false,
     "input": [
      "def apprend_par_batch(x, y, n_epoch, learning_rate):\n",
      "    \"\"\"\n",
      "    Apprend les param\u00e8tres w et b en minimisant l'erreur de quadratique par batch.\n",
      "        \n",
      "    Parameters\n",
      "    ----------\n",
      "    x : array\n",
      "        vecteur d'exemples, chaque exemple est de dimension 1. x est donc un vecteur de dimension n\n",
      "    y : array\n",
      "        vecteur de cibles de dimensions n\n",
      "    n_epoch : int\n",
      "        nombre d'\u00e9poque d'entra\u00eenement\n",
      "    learning_rate : float\n",
      "        taux d'apprentissage de l'algorithme\n",
      "\n",
      "    Returns\n",
      "    -------\n",
      "    w : float\n",
      "        poids dans la formule y = w*x + b\n",
      "    b : float\n",
      "        biais dans la formule y = w*x + b\n",
      "    \"\"\"\n",
      "    \n",
      "    # on initialise les param\u00e8tres W et b\n",
      "    w = 0.\n",
      "    b = 1\n",
      "\n",
      "    start = time.clock()\n",
      "    # pour chaque \u00e9poque\n",
      "    for i in range(n_epoch):\n",
      "\n",
      "        y_hat = # impl\u00e9mentez la pr\u00e9diction y_hat\n",
      "        \n",
      "        w = # impl\u00e9mentez la r\u00e8gle de mise \u00e0 jour\n",
      "        b = # impl\u00e9mentez la r\u00e8gle de mise \u00e0 jour\n",
      "\n",
      "        if i%(n_epoch/4) == 0:\n",
      "            y_hat = # impl\u00e9mentez la pr\u00e9diction y_hat\n",
      "            utilitaires4.plot(x, y, y_hat)\n",
      "            \n",
      "            print \"\u00e9poque #%d\" % (i+1)\n",
      "            print \"erreur quadratique = %f\" % (np.sum((y-y_hat)**2)/float(x.shape[0]))\n",
      "\n",
      "    end = time.clock()\n",
      "\n",
      "    print \"L'entra\u00eenement a pris %f seconds (%d exemples visit\u00e9 par seconde)\" % (end-start, (n_epoch*x.shape[0])/float(end-start))\n",
      "        \n",
      "    return w, b\n",
      "            \n"
     ],
     "language": "python",
     "metadata": {},
     "outputs": []
    },
    {
     "cell_type": "code",
     "collapsed": false,
     "input": [
      "x, y = utilitaires4.fonction_1()\n",
      "w, b = apprend_par_batch(x, y, n_epoch=250, learning_rate=0.1)\n",
      "    \n",
      "plt.clf()\n",
      "\n",
      "print \"w=%f, b=%f\" % (w, b)"
     ],
     "language": "python",
     "metadata": {},
     "outputs": []
    },
    {
     "cell_type": "markdown",
     "metadata": {},
     "source": [
      "Avez vous remarqu\u00e9 la diff\u00e9rence de temps de calcul? Le temps absolu de convergence est le m\u00eame (en seconde), mais plus d'exemples ont \u00e9t\u00e9 vu dans le m\u00eame temps pour l'entra\u00eenement par batch. Il existe un compromis pour les ensembles trop gros o\u00f9 calculer la moyenne totale \u00e0 chaque \u00e9poque prendrait trop de temps. On appelle ce compromis les mini-batch. On it\u00e8re \u00e0 travers l'ensemble comme avec la descente de gradient stochastique, mais par mini-batch o\u00f9 on calcule la moyenne. Nous verrons cela plus en d\u00e9tail dans une prochaine d\u00e9mo."
     ]
    },
    {
     "cell_type": "heading",
     "level": 2,
     "metadata": {},
     "source": [
      "3 - R\u00e9gression lin\u00e9aire sur donn\u00e9es non lin\u00e9aires"
     ]
    },
    {
     "cell_type": "markdown",
     "metadata": {},
     "source": [
      "Enfin, c'est bien beau tout \u00e7a, mais des donn\u00e9es lin\u00e9aires, \u00e7a ne court pas les rues. Il existe malgr\u00e9 tout une astuce pour permettre d'entra\u00eener efficacement un mod\u00e8le lin\u00e9aire sur des donn\u00e9es non-lin\u00e9aires. Il suffit de transformer les donn\u00e9es en ajoutant des dimensions. Nous verrons l'astuce du noyaux qui en d\u00e9coule d'ici quelques s\u00e9ances. Pour l'instant, nous verrons qu'on peut apprendre un polyn\u00f4me avec un mod\u00e8le lin\u00e9aire. \n",
      "\n",
      "Ex\u00e9cutez la cellule suivante et observez le comportement du mod\u00e8le lin\u00e9aire sur un simple polynome de troisi\u00e8me degr\u00e9e."
     ]
    },
    {
     "cell_type": "code",
     "collapsed": false,
     "input": [
      "x, y = utilitaires4.fonction_2()\n",
      "w, b = apprend_par_batch(x, y, n_epoch=250, learning_rate=0.1)\n",
      "    \n",
      "plt.clf()\n",
      "\n",
      "print \"w=%f, b=%f\" % (w, b)"
     ],
     "language": "python",
     "metadata": {},
     "outputs": []
    },
    {
     "cell_type": "markdown",
     "metadata": {},
     "source": [
      "Pas terrible hein? Il suffit maintenant d'augmenter l'ensemble de donn\u00e9e en y ajoutant les valeurs de $x$ au carr\u00e9e, au cube, etc. Completez la fonction suivante. Vous aurez besoin de la fonction `numpy.concatenate`. Pensez bien \u00e0 quel axe utiliser! Ex\u00e9cutez la cellule prochaine pour tester votre impl\u00e9mentation."
     ]
    },
    {
     "cell_type": "code",
     "collapsed": false,
     "input": [
      "def polynomes(x,p=2):\n",
      "    \"\"\"\n",
      "    Prend les examples x et concatene les degr\u00e9es suivant\n",
      "    \n",
      "    Prend en entr\u00e9e une matrice X pouvant avoir plus d'une dimension.\n",
      "        \n",
      "    Parameters\n",
      "    ----------\n",
      "    x : array\n",
      "        vecteur de dimension n\n",
      "    p : int\n",
      "        degr\u00e9e maximal. la matrice retourn\u00e9 aura les degr\u00e9es 1 \u00e0 p inclusivement\n",
      "\n",
      "    Returns\n",
      "    -------\n",
      "    X : array\n",
      "        matrice de dimension (n, p)\n",
      "        \n",
      "    Examples\n",
      "    --------\n",
      "    >>> x = np.array([1,2,3])\n",
      "    >>> polynomes(x, n=3)\n",
      "    [[1, 1,  1],\n",
      "     [2, 4,  8],\n",
      "     [3, 9, 27]]\n",
      "    \"\"\"\n",
      "    \n",
      "    # premi\u00e8rement reshaper x pour pouvoir le concatener sur le bon axe\n",
      "    X = #\n",
      "    # maintenant faire la concatenation avec les degr\u00e9es demand\u00e9s\n",
      "    X = #\n",
      "    \n",
      "    return X"
     ],
     "language": "python",
     "metadata": {},
     "outputs": []
    },
    {
     "cell_type": "code",
     "collapsed": false,
     "input": [
      "x, y = utilitaires4.fonction_2()\n",
      "\n",
      "# test avec polynome = 2\n",
      "assert polynomes(x,p=2).shape == (x.shape[0], 2), \\\n",
      "    \"Le polynome de degr\u00e9 deux devrait avoir le format %s, mais a le format %s\" % \\\n",
      "        ((x.shape[0], 2), polynomes(x, p=2).shape)\n",
      "assert np.allclose(polynomes(x,p=2)[:,1], x**2), \"La deuxi\u00e8me dimension devrait \u00eatre X**2\" \n",
      "\n",
      "# test avec polynome = 5\n",
      "assert polynomes(x,p=5).shape == (x.shape[0], 5), \\\n",
      "    \"Le polynome de degr\u00e9 cinq devrait avoir le format %s, mais a le format %s\" % \\\n",
      "        ((x.shape[0], 2), polynomes(x, p=2).shape)\n",
      "assert np.allclose(polynomes(x,p=5)[:,4], x**5), \"La cinqui\u00e8me dimension devrait \u00eatre X**5\" \n",
      "\n",
      "print \"La fonction polynomes passe les tests!\""
     ],
     "language": "python",
     "metadata": {},
     "outputs": []
    },
    {
     "cell_type": "markdown",
     "metadata": {},
     "source": [
      "Il reste enfin \u00e0 impl\u00e9menter la function `apprend_par_batch_multi_dim`. Elle est essentiellement la m\u00eame fonction que `apprend_par_batch` \u00e0 la diff\u00e9rence pr\u00e8s que maintenant le `X` en entr\u00e9e est une matrice et nous avons un **vecteur** de poids `w` et non plus un simple **scalaire**. Vous pourrez finalement tester la derni\u00e8re impl\u00e9mentation de la d\u00e9mo en ex\u00e9cutant la deni\u00e8re cellule. N'oubliez pas de jouer avec la valeur de p dans la fonction `polynomes` pour observer l'impact sur le comportememt du mod\u00e8le lin\u00e9aire."
     ]
    },
    {
     "cell_type": "code",
     "collapsed": false,
     "input": [
      "def apprend_par_batch_multi_dim(X, y, n_epoch, learning_rate):\n",
      "    \"\"\"\n",
      "    Apprend les param\u00e8tres w et b en minimisant l'erreur de quadratique par batch.\n",
      "    \n",
      "    Prend en entr\u00e9e une matrice X pouvant avoir plus d'une dimension.\n",
      "        \n",
      "    Parameters\n",
      "    ----------\n",
      "    x : array\n",
      "        matrice d'exemples de dimensions (n,d). O\u00f9 n est le nombre d'exemples \n",
      "        et d le nombre de dimensions de chaque exemple\n",
      "    y : array\n",
      "        vecteur de cibles de dimensions n\n",
      "    n_epoch : int\n",
      "        nombre d'\u00e9poque d'entra\u00eenement\n",
      "    learning_rate : float\n",
      "        taux d'apprentissage de l'algorithme\n",
      "\n",
      "    Returns\n",
      "    -------\n",
      "    w : array\n",
      "        vecteur de poids de dimension d dans la formule y = w*x + b o\u00f9 w et x sont des vecteurs\n",
      "    b : float\n",
      "        biais dans la formule y = w*x + b o\u00f9 w et x sont des vecteurs\n",
      "    \"\"\"\n",
      "    \n",
      "    # on initialise les param\u00e8tres W et b\n",
      "    w = np.zeros(X.shape[1])\n",
      "    b = 1\n",
      "\n",
      "    start = time.clock()\n",
      "    # pour chaque \u00e9poque\n",
      "    for i in range(n_epoch):\n",
      "        \n",
      "        y_hat = # impl\u00e9mentez la pr\u00e9diction y_hat\n",
      "        \n",
      "        w = # impl\u00e9mentez la r\u00e8gle de mise \u00e0 jour\n",
      "        b = # impl\u00e9mentez la r\u00e8gle de mise \u00e0 jour\n",
      "\n",
      "        if i%(n_epoch/4) == 0:\n",
      "            y_hat = # impl\u00e9mentez la pr\u00e9diction y_hat\n",
      "            utilitaires4.plot(x, y, y_hat)\n",
      "            \n",
      "            print \"\u00e9poque #%d\" % (i+1)\n",
      "            print \"erreur quadratique = %f\" % (np.sum((y-y_hat)**2)/float(x.shape[0]))\n",
      "\n",
      "    end = time.clock()\n",
      "\n",
      "    print \"L'entra\u00eenement a pris %f seconds (%d exemples visit\u00e9 par seconde)\" % (end-start, (n_epoch*x.shape[0])/float(end-start))\n",
      "        \n",
      "    return w, b\n",
      "            \n"
     ],
     "language": "python",
     "metadata": {},
     "outputs": []
    },
    {
     "cell_type": "code",
     "collapsed": false,
     "input": [
      "x, y = utilitaires4.fonction_2()\n",
      "\n",
      "X = polynomes(x,p=2)\n",
      "\n",
      "w, b = apprend_par_batch_multi_dim(X, y, n_epoch=30, learning_rate=0.1)\n",
      "\n",
      "plt.clf()\n",
      "\n",
      "print \"w=%s, b=%f\" % (str(w), b)"
     ],
     "language": "python",
     "metadata": {},
     "outputs": []
    },
    {
     "cell_type": "markdown",
     "metadata": {},
     "source": [
      "Et voil\u00e0! Dans le fond, c'est pas tr\u00e8s sorcier. On fourni au mod\u00e8le $x$, $x^2$ et $x^3$. Il apprend donc directement \n",
      "\n",
      "$$ y = w_1x +w_2x^2+w_3x^3 + b$$\n",
      "\n",
      "On poussera l'id\u00e9e un peu plus \u00e0 la prochaine d\u00e9mo dans le cadre de la classification lin\u00e9aire."
     ]
    }
   ],
   "metadata": {}
  }
 ]
}