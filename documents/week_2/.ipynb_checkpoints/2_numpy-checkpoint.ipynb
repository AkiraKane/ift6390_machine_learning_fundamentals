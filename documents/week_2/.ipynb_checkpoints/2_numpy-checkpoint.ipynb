{
 "metadata": {
  "name": "",
  "signature": "sha256:35749589fa72045e3399f439efa5d083ca39e90d22f09271081f7caba61b7040"
 },
 "nbformat": 3,
 "nbformat_minor": 0,
 "worksheets": [
  {
   "cells": [
    {
     "cell_type": "heading",
     "level": 1,
     "metadata": {},
     "source": [
      "Rappel pour Python"
     ]
    },
    {
     "cell_type": "markdown",
     "metadata": {},
     "source": [
      "Revoyons quelques concepts de base avec Python.\n",
      "\n",
      "* **Usage de `help`.**    \n",
      "    Au besoin, afin d'obtenir de l'information sur l'usage et les param\u00e8tres d'une fonction, utilisez help (ex: help(range)).\n"
     ]
    },
    {
     "cell_type": "code",
     "collapsed": true,
     "input": [
      "help(range)"
     ],
     "language": "python",
     "metadata": {},
     "outputs": []
    },
    {
     "cell_type": "markdown",
     "metadata": {},
     "source": [
      "* **Structure `list`, fonction `range`**.    \n",
      "    Cr\u00e9ez une liste croissante des nombres allant de 0 \u00e0 10. Cr\u00e9ez une liste d\u00e9croissante des m\u00eames nombres.\n"
     ]
    },
    {
     "cell_type": "code",
     "collapsed": false,
     "input": [
      "a = [i for i in range(0, 11)]\n",
      "\n",
      "b = [i for i in range(10,-1, -1)]\n",
      "\n",
      "print(a)\n",
      "print(b)"
     ],
     "language": "python",
     "metadata": {},
     "outputs": [
      {
       "output_type": "stream",
       "stream": "stdout",
       "text": [
        "[0, 1, 2, 3, 4, 5, 6, 7, 8, 9, 10]\n",
        "[10, 9, 8, 7, 6, 5, 4, 3, 2, 1, 0]\n"
       ]
      }
     ],
     "prompt_number": 11
    },
    {
     "cell_type": "markdown",
     "metadata": {},
     "source": [
      "* **Structure `for`**.        \n",
      "    Additionnez les listes terme \u00e0 terme: essayez avec l'op\u00e9rateur +. Que se passe-t'il? Faites-le maintenant avec une boucle for.\n"
     ]
    },
    {
     "cell_type": "code",
     "collapsed": false,
     "input": [
      "print(a + b)\n",
      "\n",
      "c = [a[i] + b[i] for i in range(0, 11)]\n",
      "    \n",
      "print(c)"
     ],
     "language": "python",
     "metadata": {},
     "outputs": [
      {
       "output_type": "stream",
       "stream": "stdout",
       "text": [
        "[0, 1, 2, 3, 4, 5, 6, 7, 8, 9, 10, 10, 9, 8, 7, 6, 5, 4, 3, 2, 1, 0]\n",
        "[10, 10, 10, 10, 10, 10, 10, 10, 10, 10, 10]\n"
       ]
      }
     ],
     "prompt_number": 12
    },
    {
     "cell_type": "markdown",
     "metadata": {},
     "source": [
      "* **Structure `def`**.      \n",
      "    Voici comment on pourrait d\u00e9finir une fonction \"plus un\":\n",
      "\n",
      "        def plus_un(s):\n",
      "            s = s + 1\n",
      "            return s\n",
      "\n",
      "    Notez l'importance de l'indentation!"
     ]
    },
    {
     "cell_type": "code",
     "collapsed": false,
     "input": [],
     "language": "python",
     "metadata": {},
     "outputs": []
    },
    {
     "cell_type": "heading",
     "level": 1,
     "metadata": {},
     "source": [
      "Numpy: manipulations de base"
     ]
    },
    {
     "cell_type": "markdown",
     "metadata": {},
     "source": [
      "*Note:* Si vous \u00eates familier avec matlab, cette [page web](http://www.scipy.org/NumPy_for_Matlab_Users) vous permettra de voir les principales correspondances matlab/numpy en terme de syntaxe.\n",
      "\n"
     ]
    },
    {
     "cell_type": "heading",
     "level": 3,
     "metadata": {},
     "source": [
      "Manipulations de base"
     ]
    },
    {
     "cell_type": "markdown",
     "metadata": {},
     "source": [
      "Commen\u00e7ons par quelques manipulations de base.\n",
      "\n",
      "* Avec la fonction `arange` de numpy, cr\u00e9ez un tableau d'\u00e9l\u00e9ments 0 \u00e0 10 exclusivement."
     ]
    },
    {
     "cell_type": "code",
     "collapsed": false,
     "input": [
      "import numpy as np\n",
      "np_a = np.arange(0, 100)\n",
      "print np_a"
     ],
     "language": "python",
     "metadata": {},
     "outputs": [
      {
       "output_type": "stream",
       "stream": "stdout",
       "text": [
        "[ 0  1  2  3  4  5  6  7  8  9 10 11 12 13 14 15 16 17 18 19 20 21 22 23 24\n",
        " 25 26 27 28 29 30 31 32 33 34 35 36 37 38 39 40 41 42 43 44 45 46 47 48 49\n",
        " 50 51 52 53 54 55 56 57 58 59 60 61 62 63 64 65 66 67 68 69 70 71 72 73 74\n",
        " 75 76 77 78 79 80 81 82 83 84 85 86 87 88 89 90 91 92 93 94 95 96 97 98 99]\n"
       ]
      }
     ],
     "prompt_number": 2
    },
    {
     "cell_type": "markdown",
     "metadata": {},
     "source": [
      "* D\u00e9terminez le type du tableau avec la fonction `type`. D\u00e9terminez maintenant le type d'un \u00e9l\u00e9ment du tableau (utilisez l'op\u00e9rateur []). Affichez la dimension du tableau (qui est de type tuple): `print le_tableau.shape`."
     ]
    },
    {
     "cell_type": "code",
     "collapsed": false,
     "input": [
      "np_a.shape"
     ],
     "language": "python",
     "metadata": {},
     "outputs": [
      {
       "metadata": {},
       "output_type": "pyout",
       "prompt_number": 28,
       "text": [
        "(100,)"
       ]
      }
     ],
     "prompt_number": 28
    },
    {
     "cell_type": "markdown",
     "metadata": {},
     "source": [
      "* Acc\u00e9dez aux \u00e9l\u00e9ments 3 \u00e0 6 \u00e0 l'aide de l'op\u00e9rateur \u00ab:\u00bb."
     ]
    },
    {
     "cell_type": "code",
     "collapsed": false,
     "input": [
      "np_a[3:6]"
     ],
     "language": "python",
     "metadata": {},
     "outputs": [
      {
       "metadata": {},
       "output_type": "pyout",
       "prompt_number": 29,
       "text": [
        "array([3, 4, 5])"
       ]
      }
     ],
     "prompt_number": 29
    },
    {
     "cell_type": "markdown",
     "metadata": {},
     "source": [
      "* Maintenant, cr\u00e9ez un second tableau de 10 \u00e9l\u00e9ments, cette fois-ci en convertissant une liste d'\u00e9l\u00e9ments (x = [1,7,3,...]) en tableau \u00e0 l'aide de la fonction array. \n"
     ]
    },
    {
     "cell_type": "code",
     "collapsed": false,
     "input": [
      "np.array([1,7,3])"
     ],
     "language": "python",
     "metadata": {},
     "outputs": [
      {
       "metadata": {},
       "output_type": "pyout",
       "prompt_number": 33,
       "text": [
        "array([1, 7, 3])"
       ]
      }
     ],
     "prompt_number": 33
    },
    {
     "cell_type": "markdown",
     "metadata": {},
     "source": [
      "* Remarquez que vous pouvez maintenant utiliser l'op\u00e9rateur + pour faire une addition terme \u00e0 terme des deux tableaux. Subtilit\u00e9 \u00e0 garder \u00e0 l'esprit: numpy contient \u00e0 la fois une classe ndarray et une classe matrix qui, bien \u00e9videmment, se comportent diff\u00e9remment. Par exemple, l'op\u00e9rateur * est, dans le premier cas, une multiplication terme \u00e0 terme, tandis qu'il consiste en une multiplication matricielle dans le second cas."
     ]
    },
    {
     "cell_type": "code",
     "collapsed": false,
     "input": [
      "np.arange(0,10) * np.arange(0, 10)"
     ],
     "language": "python",
     "metadata": {},
     "outputs": [
      {
       "metadata": {},
       "output_type": "pyout",
       "prompt_number": 3,
       "text": [
        "array([ 0,  1,  4,  9, 16, 25, 36, 49, 64, 81])"
       ]
      }
     ],
     "prompt_number": 3
    },
    {
     "cell_type": "markdown",
     "metadata": {},
     "source": [
      "* Modifiez la dimension de l'un de vos tableaux : (tab.shape = 2,3). Que se passe-t'il? Essayer avec (tab.shape = 2,5). Confirmez la nouvelle dimension \u00e0 l'aide de la fonction shape."
     ]
    },
    {
     "cell_type": "code",
     "collapsed": false,
     "input": [
      "x = np.array([[1,2,3], [4,5,6]], np.int32)\n",
      "x.shape\n",
      "np.resize(x, (3,2))"
     ],
     "language": "python",
     "metadata": {},
     "outputs": [
      {
       "metadata": {},
       "output_type": "pyout",
       "prompt_number": 46,
       "text": [
        "array([[1, 2],\n",
        "       [3, 4],\n",
        "       [5, 6]], dtype=int32)"
       ]
      }
     ],
     "prompt_number": 46
    },
    {
     "cell_type": "heading",
     "level": 3,
     "metadata": {},
     "source": [
      "Statistiques"
     ]
    },
    {
     "cell_type": "markdown",
     "metadata": {},
     "source": [
      "Nous allons maintenant g\u00e9n\u00e9rer quelques donn\u00e9es et en v\u00e9rifier les statistiques.\n",
      "\n",
      "* Cr\u00e9ez un tableau de dimension 100 lignes par 2 colonnes. Vous pouvez utiliser la fonction ones ou zeros.\n"
     ]
    },
    {
     "cell_type": "code",
     "collapsed": false,
     "input": [
      "data = np.zeros((100, 2))\n",
      "print"
     ],
     "language": "python",
     "metadata": {},
     "outputs": [
      {
       "output_type": "stream",
       "stream": "stdout",
       "text": [
        "\n"
       ]
      }
     ],
     "prompt_number": 5
    },
    {
     "cell_type": "markdown",
     "metadata": {},
     "source": [
      "* Remplissez chacune de ces colonnes avec des \u00e9chantillons tir\u00e9s de deux gaussiennes. \n",
      "  * Pour se faire, utilisez la fonction normal afin de g\u00e9n\u00e9rer d'abord 100 observations de moyenne 0 et d'\u00e9cart type 1. Utilisez help afin de conna\u00eetre les param\u00e8tres de la fonction normal. \n",
      "  * Remplissez la premi\u00e8re colonne (tableau[:,0]) \u00e0 l'aide de ces observations. Si vous avez de la difficult\u00e9, regardez quelle est la dimension des diff\u00e9rents tableaux avec la fonction shape.\n",
      "  * Faites de m\u00eame pour la deuxi\u00e8me colonne, mais cette fois-ci avec une gaussienne de moyenne 0 et d'\u00e9cart-type 5.\n"
     ]
    },
    {
     "cell_type": "code",
     "collapsed": false,
     "input": [
      "data[:,0] = [np.random.normal(0,1) for _ in range(0, 100)]\n",
      "data[:,1] = [np.random.normal(0,5) for _ in range(0, 100)]\n",
      "print(data)"
     ],
     "language": "python",
     "metadata": {},
     "outputs": [
      {
       "output_type": "stream",
       "stream": "stdout",
       "text": [
        "[[ -0.12554895  -0.74713535]\n",
        " [ -2.37781855  -3.8543647 ]\n",
        " [  1.60938015  -1.63677385]\n",
        " [ -0.8535288    2.53742945]\n",
        " [ -0.82801439   7.54610157]\n",
        " [  0.52906229   3.71790486]\n",
        " [ -1.48385273  -2.66155025]\n",
        " [  0.47741656  -2.28840782]\n",
        " [  1.07963564   4.32559002]\n",
        " [ -0.67916959   5.83037156]\n",
        " [ -0.92821387   4.50928099]\n",
        " [  1.91723403  -4.21614115]\n",
        " [  1.38329743  -5.08283119]\n",
        " [ -0.29540742  -3.86958013]\n",
        " [ -1.53428559  -8.86336618]\n",
        " [ -0.93498072  -2.29987509]\n",
        " [ -1.14062204   2.58105437]\n",
        " [  1.37710067   6.15020757]\n",
        " [ -0.50974296  -0.22251639]\n",
        " [ -0.43070254  -4.16974672]\n",
        " [ -0.97682656  -3.54524068]\n",
        " [ -0.78383756  -4.99882649]\n",
        " [ -0.05384611  -3.79040304]\n",
        " [ -0.18422328  -1.84768195]\n",
        " [ -0.14286581   3.51856919]\n",
        " [  1.39075364   1.7931826 ]\n",
        " [  0.16323991  -2.78098687]\n",
        " [ -0.1768064   -3.92532238]\n",
        " [  1.17944038  10.60687413]\n",
        " [ -0.36321935   1.93530038]\n",
        " [  0.27285032   3.54139246]\n",
        " [  0.40230026   3.02377149]\n",
        " [ -0.97762944   3.25318573]\n",
        " [ -0.75171392   6.84805973]\n",
        " [ -1.54161859 -10.5287037 ]\n",
        " [ -0.08120448  -1.91443364]\n",
        " [ -1.76824245   0.06053749]\n",
        " [ -1.43719082  -1.4966892 ]\n",
        " [ -1.15198709  -6.75988296]\n",
        " [  0.95293759 -11.26197972]\n",
        " [  0.387736    -0.46688466]\n",
        " [  0.53086211   3.08131732]\n",
        " [ -1.18746071   6.22894158]\n",
        " [ -1.39442174  -1.12438428]\n",
        " [ -0.96725802   7.2607183 ]\n",
        " [  0.08968504  -7.25293378]\n",
        " [ -0.65970839   1.78774681]\n",
        " [  0.03260063   5.17209868]\n",
        " [ -2.80660694   2.35827069]\n",
        " [  0.38404866   1.55248902]\n",
        " [ -0.14298909   1.76030646]\n",
        " [  1.23107398   4.50060705]\n",
        " [ -1.17370692   6.00115359]\n",
        " [  1.08096371   3.66708922]\n",
        " [  1.84861897  -6.6805217 ]\n",
        " [  0.84187882  10.67038896]\n",
        " [  0.569356     4.51574774]\n",
        " [ -2.38342096   3.95555823]\n",
        " [ -1.21846929  -0.6340802 ]\n",
        " [ -0.15373055  -3.33668209]\n",
        " [ -0.53134206  -2.72569316]\n",
        " [  0.48137198   4.17931523]\n",
        " [ -0.29176788   0.30422529]\n",
        " [ -1.00794692  -3.17659457]\n",
        " [  1.02449068  -0.89588628]\n",
        " [  1.33374559  -4.26485904]\n",
        " [ -0.71185426  -4.53472165]\n",
        " [ -0.04109707  -5.61925086]\n",
        " [ -0.19572452  -4.29639284]\n",
        " [ -0.23427505  -2.18406066]\n",
        " [  0.10089807   7.99126463]\n",
        " [ -0.20318655  -4.92377364]\n",
        " [  1.36405238   1.22945564]\n",
        " [ -0.06860681  -0.04571039]\n",
        " [  1.90920612  -6.8167252 ]\n",
        " [  0.66524363  -8.96822814]\n",
        " [ -0.83716179  -2.1438156 ]\n",
        " [  0.53294074   4.39762475]\n",
        " [  0.50625957  -1.64749243]\n",
        " [  1.22683849   1.78555503]\n",
        " [ -2.20327972  -0.54201209]\n",
        " [  0.02439296   0.14059626]\n",
        " [  0.03470127  -3.37378719]\n",
        " [  0.42682668   0.63282066]\n",
        " [  1.0744971   -1.4140163 ]\n",
        " [ -1.15011836  -9.94000622]\n",
        " [  0.43363931  -9.91197423]\n",
        " [ -1.4738826   -4.37520431]\n",
        " [  0.75208234  -1.46501345]\n",
        " [  0.23140733  -5.15852516]\n",
        " [  0.24538185  -2.28384157]\n",
        " [ -0.67600394   5.36348854]\n",
        " [ -1.86028943  -4.52515995]\n",
        " [ -0.29552967   4.2582473 ]\n",
        " [ -0.08641285   7.80710514]\n",
        " [ -0.94914247   7.1191645 ]\n",
        " [  0.51948499  -6.39571802]\n",
        " [  0.15675197  -0.66639501]\n",
        " [ -0.61781795  -2.33704688]\n",
        " [ -1.59991293  -1.57821695]]\n"
       ]
      }
     ],
     "prompt_number": 52
    },
    {
     "cell_type": "markdown",
     "metadata": {},
     "source": [
      "* Validez vos donn\u00e9es \u00e0 l'aide des fonctions mean et std. Faites-le en utilisant l'argument axis."
     ]
    },
    {
     "cell_type": "code",
     "collapsed": false,
     "input": [
      "print(np.mean(data[:,0]))\n",
      "print(np.std(data[:,0]))\n",
      "print(np.mean(data[:,1]))\n",
      "print(np.std(data[:,1]))\n"
     ],
     "language": "python",
     "metadata": {},
     "outputs": [
      {
       "output_type": "stream",
       "stream": "stdout",
       "text": [
        "-0.168605396174\n",
        "1.01340313576\n",
        "-0.389679377628\n",
        "4.7842126292\n"
       ]
      }
     ],
     "prompt_number": 57
    },
    {
     "cell_type": "heading",
     "level": 1,
     "metadata": {},
     "source": [
      "On s'amuse avec des fleurs"
     ]
    },
    {
     "cell_type": "markdown",
     "metadata": {},
     "source": [
      "Nous allons maintenant nous int\u00e9resser \u00e0 un jeu de donn\u00e9es r\u00e9elles, bien que petit. Il s'agit d'[iris](http://en.wikipedia.org/wiki/Iris_flower_data_set), disponible [ici](http://www.iro.umontreal.ca/%7Edift3395/files/iris.txt). Commencez par t\u00e9l\u00e9charger le fichier et le mettre dans le m\u00eane dossier que ce fichier notebook, puis chargez le jeu de donn\u00e9es avec la fonction numpy loadtxt :\n",
      "\n",
      " "
     ]
    },
    {
     "cell_type": "code",
     "collapsed": false,
     "input": [
      "iris = np.loadtxt('iris.txt')"
     ],
     "language": "python",
     "metadata": {},
     "outputs": [],
     "prompt_number": 6
    },
    {
     "cell_type": "heading",
     "level": 3,
     "metadata": {},
     "source": [
      "Travailler avec des `array` numpy"
     ]
    },
    {
     "cell_type": "markdown",
     "metadata": {},
     "source": [
      "Vous avez maintenant acc\u00e8s \u00e0 un *array* nomm\u00e9 iris.\n",
      "\n",
      "* Visualisez des \u00e9l\u00e9ments du jeu de donn\u00e9es"
     ]
    },
    {
     "cell_type": "code",
     "collapsed": false,
     "input": [
      "print iris.shape\n",
      "print iris"
     ],
     "language": "python",
     "metadata": {},
     "outputs": [
      {
       "output_type": "stream",
       "stream": "stdout",
       "text": [
        "(150, 5)\n",
        "[[ 5.1  3.5  1.4  0.2  1. ]\n",
        " [ 4.9  3.   1.4  0.2  1. ]\n",
        " [ 4.7  3.2  1.3  0.2  1. ]\n",
        " [ 4.6  3.1  1.5  0.2  1. ]\n",
        " [ 5.   3.6  1.4  0.2  1. ]\n",
        " [ 5.4  3.9  1.7  0.4  1. ]\n",
        " [ 4.6  3.4  1.4  0.3  1. ]\n",
        " [ 5.   3.4  1.5  0.2  1. ]\n",
        " [ 4.4  2.9  1.4  0.2  1. ]\n",
        " [ 4.9  3.1  1.5  0.1  1. ]\n",
        " [ 5.4  3.7  1.5  0.2  1. ]\n",
        " [ 4.8  3.4  1.6  0.2  1. ]\n",
        " [ 4.8  3.   1.4  0.1  1. ]\n",
        " [ 4.3  3.   1.1  0.1  1. ]\n",
        " [ 5.8  4.   1.2  0.2  1. ]\n",
        " [ 5.7  4.4  1.5  0.4  1. ]\n",
        " [ 5.4  3.9  1.3  0.4  1. ]\n",
        " [ 5.1  3.5  1.4  0.3  1. ]\n",
        " [ 5.7  3.8  1.7  0.3  1. ]\n",
        " [ 5.1  3.8  1.5  0.3  1. ]\n",
        " [ 5.4  3.4  1.7  0.2  1. ]\n",
        " [ 5.1  3.7  1.5  0.4  1. ]\n",
        " [ 4.6  3.6  1.   0.2  1. ]\n",
        " [ 5.1  3.3  1.7  0.5  1. ]\n",
        " [ 4.8  3.4  1.9  0.2  1. ]\n",
        " [ 5.   3.   1.6  0.2  1. ]\n",
        " [ 5.   3.4  1.6  0.4  1. ]\n",
        " [ 5.2  3.5  1.5  0.2  1. ]\n",
        " [ 5.2  3.4  1.4  0.2  1. ]\n",
        " [ 4.7  3.2  1.6  0.2  1. ]\n",
        " [ 4.8  3.1  1.6  0.2  1. ]\n",
        " [ 5.4  3.4  1.5  0.4  1. ]\n",
        " [ 5.2  4.1  1.5  0.1  1. ]\n",
        " [ 5.5  4.2  1.4  0.2  1. ]\n",
        " [ 4.9  3.1  1.5  0.2  1. ]\n",
        " [ 5.   3.2  1.2  0.2  1. ]\n",
        " [ 5.5  3.5  1.3  0.2  1. ]\n",
        " [ 4.9  3.6  1.4  0.1  1. ]\n",
        " [ 4.4  3.   1.3  0.2  1. ]\n",
        " [ 5.1  3.4  1.5  0.2  1. ]\n",
        " [ 5.   3.5  1.3  0.3  1. ]\n",
        " [ 4.5  2.3  1.3  0.3  1. ]\n",
        " [ 4.4  3.2  1.3  0.2  1. ]\n",
        " [ 5.   3.5  1.6  0.6  1. ]\n",
        " [ 5.1  3.8  1.9  0.4  1. ]\n",
        " [ 4.8  3.   1.4  0.3  1. ]\n",
        " [ 5.1  3.8  1.6  0.2  1. ]\n",
        " [ 4.6  3.2  1.4  0.2  1. ]\n",
        " [ 5.3  3.7  1.5  0.2  1. ]\n",
        " [ 5.   3.3  1.4  0.2  1. ]\n",
        " [ 7.   3.2  4.7  1.4  2. ]\n",
        " [ 6.4  3.2  4.5  1.5  2. ]\n",
        " [ 6.9  3.1  4.9  1.5  2. ]\n",
        " [ 5.5  2.3  4.   1.3  2. ]\n",
        " [ 6.5  2.8  4.6  1.5  2. ]\n",
        " [ 5.7  2.8  4.5  1.3  2. ]\n",
        " [ 6.3  3.3  4.7  1.6  2. ]\n",
        " [ 4.9  2.4  3.3  1.   2. ]\n",
        " [ 6.6  2.9  4.6  1.3  2. ]\n",
        " [ 5.2  2.7  3.9  1.4  2. ]\n",
        " [ 5.   2.   3.5  1.   2. ]\n",
        " [ 5.9  3.   4.2  1.5  2. ]\n",
        " [ 6.   2.2  4.   1.   2. ]\n",
        " [ 6.1  2.9  4.7  1.4  2. ]\n",
        " [ 5.6  2.9  3.6  1.3  2. ]\n",
        " [ 6.7  3.1  4.4  1.4  2. ]\n",
        " [ 5.6  3.   4.5  1.5  2. ]\n",
        " [ 5.8  2.7  4.1  1.   2. ]\n",
        " [ 6.2  2.2  4.5  1.5  2. ]\n",
        " [ 5.6  2.5  3.9  1.1  2. ]\n",
        " [ 5.9  3.2  4.8  1.8  2. ]\n",
        " [ 6.1  2.8  4.   1.3  2. ]\n",
        " [ 6.3  2.5  4.9  1.5  2. ]\n",
        " [ 6.1  2.8  4.7  1.2  2. ]\n",
        " [ 6.4  2.9  4.3  1.3  2. ]\n",
        " [ 6.6  3.   4.4  1.4  2. ]\n",
        " [ 6.8  2.8  4.8  1.4  2. ]\n",
        " [ 6.7  3.   5.   1.7  2. ]\n",
        " [ 6.   2.9  4.5  1.5  2. ]\n",
        " [ 5.7  2.6  3.5  1.   2. ]\n",
        " [ 5.5  2.4  3.8  1.1  2. ]\n",
        " [ 5.5  2.4  3.7  1.   2. ]\n",
        " [ 5.8  2.7  3.9  1.2  2. ]\n",
        " [ 6.   2.7  5.1  1.6  2. ]\n",
        " [ 5.4  3.   4.5  1.5  2. ]\n",
        " [ 6.   3.4  4.5  1.6  2. ]\n",
        " [ 6.7  3.1  4.7  1.5  2. ]\n",
        " [ 6.3  2.3  4.4  1.3  2. ]\n",
        " [ 5.6  3.   4.1  1.3  2. ]\n",
        " [ 5.5  2.5  4.   1.3  2. ]\n",
        " [ 5.5  2.6  4.4  1.2  2. ]\n",
        " [ 6.1  3.   4.6  1.4  2. ]\n",
        " [ 5.8  2.6  4.   1.2  2. ]\n",
        " [ 5.   2.3  3.3  1.   2. ]\n",
        " [ 5.6  2.7  4.2  1.3  2. ]\n",
        " [ 5.7  3.   4.2  1.2  2. ]\n",
        " [ 5.7  2.9  4.2  1.3  2. ]\n",
        " [ 6.2  2.9  4.3  1.3  2. ]\n",
        " [ 5.1  2.5  3.   1.1  2. ]\n",
        " [ 5.7  2.8  4.1  1.3  2. ]\n",
        " [ 6.3  3.3  6.   2.5  3. ]\n",
        " [ 5.8  2.7  5.1  1.9  3. ]\n",
        " [ 7.1  3.   5.9  2.1  3. ]\n",
        " [ 6.3  2.9  5.6  1.8  3. ]\n",
        " [ 6.5  3.   5.8  2.2  3. ]\n",
        " [ 7.6  3.   6.6  2.1  3. ]\n",
        " [ 4.9  2.5  4.5  1.7  3. ]\n",
        " [ 7.3  2.9  6.3  1.8  3. ]\n",
        " [ 6.7  2.5  5.8  1.8  3. ]\n",
        " [ 7.2  3.6  6.1  2.5  3. ]\n",
        " [ 6.5  3.2  5.1  2.   3. ]\n",
        " [ 6.4  2.7  5.3  1.9  3. ]\n",
        " [ 6.8  3.   5.5  2.1  3. ]\n",
        " [ 5.7  2.5  5.   2.   3. ]\n",
        " [ 5.8  2.8  5.1  2.4  3. ]\n",
        " [ 6.4  3.2  5.3  2.3  3. ]\n",
        " [ 6.5  3.   5.5  1.8  3. ]\n",
        " [ 7.7  3.8  6.7  2.2  3. ]\n",
        " [ 7.7  2.6  6.9  2.3  3. ]\n",
        " [ 6.   2.2  5.   1.5  3. ]\n",
        " [ 6.9  3.2  5.7  2.3  3. ]\n",
        " [ 5.6  2.8  4.9  2.   3. ]\n",
        " [ 7.7  2.8  6.7  2.   3. ]\n",
        " [ 6.3  2.7  4.9  1.8  3. ]\n",
        " [ 6.7  3.3  5.7  2.1  3. ]\n",
        " [ 7.2  3.2  6.   1.8  3. ]\n",
        " [ 6.2  2.8  4.8  1.8  3. ]\n",
        " [ 6.1  3.   4.9  1.8  3. ]\n",
        " [ 6.4  2.8  5.6  2.1  3. ]\n",
        " [ 7.2  3.   5.8  1.6  3. ]\n",
        " [ 7.4  2.8  6.1  1.9  3. ]\n",
        " [ 7.9  3.8  6.4  2.   3. ]\n",
        " [ 6.4  2.8  5.6  2.2  3. ]\n",
        " [ 6.3  2.8  5.1  1.5  3. ]\n",
        " [ 6.1  2.6  5.6  1.4  3. ]\n",
        " [ 7.7  3.   6.1  2.3  3. ]\n",
        " [ 6.3  3.4  5.6  2.4  3. ]\n",
        " [ 6.4  3.1  5.5  1.8  3. ]\n",
        " [ 6.   3.   4.8  1.8  3. ]\n",
        " [ 6.9  3.1  5.4  2.1  3. ]\n",
        " [ 6.7  3.1  5.6  2.4  3. ]\n",
        " [ 6.9  3.1  5.1  2.3  3. ]\n",
        " [ 5.8  2.7  5.1  1.9  3. ]\n",
        " [ 6.8  3.2  5.9  2.3  3. ]\n",
        " [ 6.7  3.3  5.7  2.5  3. ]\n",
        " [ 6.7  3.   5.2  2.3  3. ]\n",
        " [ 6.3  2.5  5.   1.9  3. ]\n",
        " [ 6.5  3.   5.2  2.   3. ]\n",
        " [ 6.2  3.4  5.4  2.3  3. ]\n",
        " [ 5.9  3.   5.1  1.8  3. ]]\n"
       ]
      }
     ],
     "prompt_number": 59
    },
    {
     "cell_type": "markdown",
     "metadata": {},
     "source": [
      "L'acc\u00e8s aux \u00e9l\u00e9ments d'une matrice numpy se fait de mani\u00e8re similaire \u00e0 une liste python, \u00e0 la diff\u00e9rence qu'on peut acc\u00e8der \u00e0 un \u00e9l\u00e9ment de la sous liste directement. Remarquez la diff\u00e9rence pour acc\u00e8der au premier \u00e9l\u00e9ment."
     ]
    },
    {
     "cell_type": "code",
     "collapsed": false,
     "input": [
      "l = [[0,1,3],\n",
      "     [4,5,6],\n",
      "     [7,8,9]]\n",
      "         \n",
      "l[0][0] == np.array(l)[0,0]"
     ],
     "language": "python",
     "metadata": {},
     "outputs": []
    },
    {
     "cell_type": "markdown",
     "metadata": {},
     "source": [
      "L'avantage est qu'on peut d\u00e9terminer des intervales de mani\u00e8re beaucoup plus \u00e9fficace. Il est maintenant possible d'utiliser l'op\u00e9rateur \u00ab`:`\u00bb pour d\u00e9finir un intervale sur toutes les sous listes en m\u00eame temps"
     ]
    },
    {
     "cell_type": "code",
     "collapsed": false,
     "input": [
      "print np.array(l)\n",
      "print np.array(l)[1:,:2]\n",
      "\n",
      "([arr[:2] for arr in l[1:]]==np.array(l)[1:,:2]).all()"
     ],
     "language": "python",
     "metadata": {},
     "outputs": []
    },
    {
     "cell_type": "markdown",
     "metadata": {},
     "source": [
      "Le jeu de donn\u00e9es comporte 150 exemples: 50 pour chaque classe. Chaque rang\u00e9e correspond \u00e0 un exemple - quatre traits/caract\u00e9ristiques/features, plus la classe/le label/l'\u00e9tiquette soit (\"1\", \"2\", ou \"3\").\n",
      " \n",
      "* Acc\u00e8dez \u00e0 la 23e rang\u00e9e de l'`array` iris"
     ]
    },
    {
     "cell_type": "code",
     "collapsed": false,
     "input": [
      "iris[23,:]"
     ],
     "language": "python",
     "metadata": {},
     "outputs": [
      {
       "metadata": {},
       "output_type": "pyout",
       "prompt_number": 61,
       "text": [
        "array([ 5.1,  3.3,  1.7,  0.5,  1. ])"
       ]
      }
     ],
     "prompt_number": 61
    },
    {
     "cell_type": "markdown",
     "metadata": {},
     "source": [
      "* Acc\u00e8dez \u00e0 la 3e colonne\n"
     ]
    },
    {
     "cell_type": "code",
     "collapsed": false,
     "input": [
      "iris[:,3]"
     ],
     "language": "python",
     "metadata": {},
     "outputs": [
      {
       "metadata": {},
       "output_type": "pyout",
       "prompt_number": 62,
       "text": [
        "array([ 0.2,  0.2,  0.2,  0.2,  0.2,  0.4,  0.3,  0.2,  0.2,  0.1,  0.2,\n",
        "        0.2,  0.1,  0.1,  0.2,  0.4,  0.4,  0.3,  0.3,  0.3,  0.2,  0.4,\n",
        "        0.2,  0.5,  0.2,  0.2,  0.4,  0.2,  0.2,  0.2,  0.2,  0.4,  0.1,\n",
        "        0.2,  0.2,  0.2,  0.2,  0.1,  0.2,  0.2,  0.3,  0.3,  0.2,  0.6,\n",
        "        0.4,  0.3,  0.2,  0.2,  0.2,  0.2,  1.4,  1.5,  1.5,  1.3,  1.5,\n",
        "        1.3,  1.6,  1. ,  1.3,  1.4,  1. ,  1.5,  1. ,  1.4,  1.3,  1.4,\n",
        "        1.5,  1. ,  1.5,  1.1,  1.8,  1.3,  1.5,  1.2,  1.3,  1.4,  1.4,\n",
        "        1.7,  1.5,  1. ,  1.1,  1. ,  1.2,  1.6,  1.5,  1.6,  1.5,  1.3,\n",
        "        1.3,  1.3,  1.2,  1.4,  1.2,  1. ,  1.3,  1.2,  1.3,  1.3,  1.1,\n",
        "        1.3,  2.5,  1.9,  2.1,  1.8,  2.2,  2.1,  1.7,  1.8,  1.8,  2.5,\n",
        "        2. ,  1.9,  2.1,  2. ,  2.4,  2.3,  1.8,  2.2,  2.3,  1.5,  2.3,\n",
        "        2. ,  2. ,  1.8,  2.1,  1.8,  1.8,  1.8,  2.1,  1.6,  1.9,  2. ,\n",
        "        2.2,  1.5,  1.4,  2.3,  2.4,  1.8,  1.8,  2.1,  2.4,  2.3,  1.9,\n",
        "        2.3,  2.5,  2.3,  1.9,  2. ,  2.3,  1.8])"
       ]
      }
     ],
     "prompt_number": 62
    },
    {
     "cell_type": "markdown",
     "metadata": {},
     "source": [
      "* Maintenant, Acc\u00e8dez aux \u00e9l\u00e9ments des rang\u00e9es 0 \u00e0 9 en ne prenant que les colonne 1 et 2"
     ]
    },
    {
     "cell_type": "code",
     "collapsed": false,
     "input": [
      " iris[0:9, 0:2]"
     ],
     "language": "python",
     "metadata": {},
     "outputs": [
      {
       "metadata": {},
       "output_type": "pyout",
       "prompt_number": 64,
       "text": [
        "array([[ 5.1,  3.5],\n",
        "       [ 4.9,  3. ],\n",
        "       [ 4.7,  3.2],\n",
        "       [ 4.6,  3.1],\n",
        "       [ 5. ,  3.6],\n",
        "       [ 5.4,  3.9],\n",
        "       [ 4.6,  3.4],\n",
        "       [ 5. ,  3.4],\n",
        "       [ 4.4,  2.9]])"
       ]
      }
     ],
     "prompt_number": 64
    },
    {
     "cell_type": "markdown",
     "metadata": {},
     "source": [
      "L'index n\u00e9gatif peut \u00eatre utilis\u00e9 pour parti de la fin plut\u00f4t que du d\u00e9but d'une liste. \n"
     ]
    },
    {
     "cell_type": "code",
     "collapsed": false,
     "input": [
      "range(10)[-1]==9\n",
      "range(10)[-2]==8\n",
      "# etc"
     ],
     "language": "python",
     "metadata": {},
     "outputs": []
    },
    {
     "cell_type": "markdown",
     "metadata": {},
     "source": [
      "On peut aussi utiliser l'index n\u00e9gatif pour d\u00e9finir des intervales avec l'op\u00e9rateur \u00ab`:`\u00bb. Cela s'applique autant pour les index des listes python que pour les `array` numpy."
     ]
    },
    {
     "cell_type": "code",
     "collapsed": false,
     "input": [
      "print range(10)[2:-5]"
     ],
     "language": "python",
     "metadata": {},
     "outputs": []
    },
    {
     "cell_type": "markdown",
     "metadata": {},
     "source": [
      "* Utilisez judicieusement l'index pour acc\u00e8der \u00e0 la rang\u00e9e 23 et toutes ses colonnes sauf la derni\u00e8re"
     ]
    },
    {
     "cell_type": "code",
     "collapsed": false,
     "input": [],
     "language": "python",
     "metadata": {},
     "outputs": []
    },
    {
     "cell_type": "heading",
     "level": 3,
     "metadata": {},
     "source": [
      "Quelques fonctions utiles de numpy"
     ]
    },
    {
     "cell_type": "markdown",
     "metadata": {},
     "source": [
      "Nous poursuivons avec le jeu de donn\u00e9es iris (cf section pr\u00e9c\u00e9dente). Assurez-vous que vous comprenez les fonctions suivantes en les ex\u00e9cutant. Elles seront utiles pour la suite."
     ]
    },
    {
     "cell_type": "markdown",
     "metadata": {},
     "source": [
      "**sum** : Somme des \u00e9l\u00e9ments d'un vecteur/matrice        \n",
      "> `axis` sp\u00e9cifie sur quelle \"dimension\" il faut faire l'op\u00e9ration"
     ]
    },
    {
     "cell_type": "code",
     "collapsed": false,
     "input": [
      "print np.sum(iris)\n",
      "print np.sum(iris,axis=0)\n",
      "print np.sum(iris,axis=1)"
     ],
     "language": "python",
     "metadata": {},
     "outputs": [
      {
       "output_type": "stream",
       "stream": "stdout",
       "text": [
        "2378.7\n",
        "[ 876.5  458.6  563.7  179.9  300. ]\n",
        "[ 11.2  10.5  10.4  10.4  11.2  12.4  10.7  11.1   9.9  10.6  11.8  11.\n",
        "  10.3   9.5  12.2  13.   12.   11.3  12.5  11.7  11.7  11.7  10.4  11.6\n",
        "  11.3  10.8  11.4  11.4  11.2  10.7  10.7  11.7  11.9  12.3  10.7  10.6\n",
        "  11.5  11.    9.9  11.2  11.1   9.4  10.1  11.7  12.2  10.5  11.7  10.4\n",
        "  11.7  10.9  18.3  17.6  18.4  15.1  17.4  16.3  17.9  13.6  17.4  15.2\n",
        "  13.5  16.6  15.2  17.1  15.4  17.6  16.6  15.6  16.4  15.1  17.7  16.2\n",
        "  17.2  16.8  16.9  17.4  17.8  18.4  16.9  14.8  14.8  14.6  15.6  17.4\n",
        "  16.4  17.5  18.   16.3  16.   15.3  15.7  17.1  15.6  13.6  15.8  16.1\n",
        "  16.1  16.7  13.7  15.9  21.1  18.5  21.1  19.6  20.5  22.3  16.6  21.3\n",
        "  19.8  22.4  19.8  19.3  20.4  18.2  19.1  20.2  19.8  23.4  22.5  17.7\n",
        "  21.1  18.3  22.2  18.7  20.8  21.2  18.6  18.8  19.9  20.6  21.2  23.1\n",
        "  20.   18.7  18.7  22.1  20.7  19.8  18.6  20.5  20.8  20.4  18.5  21.2\n",
        "  21.2  20.2  18.7  19.7  20.3  18.8]\n"
       ]
      }
     ],
     "prompt_number": 68
    },
    {
     "cell_type": "markdown",
     "metadata": {},
     "source": [
      "**min**, **max** : Valeure(s) minimale(s) ou maximale(s) d'un vecteur/matrice\n",
      "> V\u00e9firiez l'effet d'`axis` dans ce cas ci"
     ]
    },
    {
     "cell_type": "code",
     "collapsed": false,
     "input": [
      "print np.min(iris)\n",
      "print np.min(iris,axis=0)\n",
      "print np.min(iris,axis=1)"
     ],
     "language": "python",
     "metadata": {},
     "outputs": [
      {
       "output_type": "stream",
       "stream": "stdout",
       "text": [
        "0.1\n",
        "[ 4.3  2.   1.   0.1  1. ]\n",
        "[ 0.2  0.2  0.2  0.2  0.2  0.4  0.3  0.2  0.2  0.1  0.2  0.2  0.1  0.1  0.2\n",
        "  0.4  0.4  0.3  0.3  0.3  0.2  0.4  0.2  0.5  0.2  0.2  0.4  0.2  0.2  0.2\n",
        "  0.2  0.4  0.1  0.2  0.2  0.2  0.2  0.1  0.2  0.2  0.3  0.3  0.2  0.6  0.4\n",
        "  0.3  0.2  0.2  0.2  0.2  1.4  1.5  1.5  1.3  1.5  1.3  1.6  1.   1.3  1.4\n",
        "  1.   1.5  1.   1.4  1.3  1.4  1.5  1.   1.5  1.1  1.8  1.3  1.5  1.2  1.3\n",
        "  1.4  1.4  1.7  1.5  1.   1.1  1.   1.2  1.6  1.5  1.6  1.5  1.3  1.3  1.3\n",
        "  1.2  1.4  1.2  1.   1.3  1.2  1.3  1.3  1.1  1.3  2.5  1.9  2.1  1.8  2.2\n",
        "  2.1  1.7  1.8  1.8  2.5  2.   1.9  2.1  2.   2.4  2.3  1.8  2.2  2.3  1.5\n",
        "  2.3  2.   2.   1.8  2.1  1.8  1.8  1.8  2.1  1.6  1.9  2.   2.2  1.5  1.4\n",
        "  2.3  2.4  1.8  1.8  2.1  2.4  2.3  1.9  2.3  2.5  2.3  1.9  2.   2.3  1.8]\n"
       ]
      }
     ],
     "prompt_number": 70
    },
    {
     "cell_type": "markdown",
     "metadata": {},
     "source": [
      "**argmax**, **argmin** : Index de(s) valeur(s) minimale(s) ou maximale(s) d'un vecteur/matrice"
     ]
    },
    {
     "cell_type": "code",
     "collapsed": false,
     "input": [
      "print np.argmin(iris)\n",
      "print np.argmin(iris,axis=0)\n",
      "print np.argmin(iris,axis=1)"
     ],
     "language": "python",
     "metadata": {},
     "outputs": [
      {
       "output_type": "stream",
       "stream": "stdout",
       "text": [
        "48\n",
        "[13 60 22  9  0]\n",
        "[3 3 3 3 3 3 3 3 3 3 3 3 3 3 3 3 3 3 3 3 3 3 3 3 3 3 3 3 3 3 3 3 3 3 3 3 3\n",
        " 3 3 3 3 3 3 3 3 3 3 3 3 3 3 3 3 3 3 3 3 3 3 3 3 3 3 3 3 3 3 3 3 3 3 3 3 3\n",
        " 3 3 3 3 3 3 3 3 3 3 3 3 3 3 3 3 3 3 3 3 3 3 3 3 3 3 3 3 3 3 3 3 3 3 3 3 3\n",
        " 3 3 3 3 3 3 3 3 3 3 3 3 3 3 3 3 3 3 3 3 3 3 3 3 3 3 3 3 3 3 3 3 3 3 3 3 3\n",
        " 3 3]\n"
       ]
      }
     ],
     "prompt_number": 71
    },
    {
     "cell_type": "markdown",
     "metadata": {},
     "source": [
      "**abs** : Valeur absolue"
     ]
    },
    {
     "cell_type": "code",
     "collapsed": false,
     "input": [
      "np.abs(iris[:,1:4])\n"
     ],
     "language": "python",
     "metadata": {},
     "outputs": [
      {
       "metadata": {},
       "output_type": "pyout",
       "prompt_number": 72,
       "text": [
        "array([[ 3.5,  1.4,  0.2],\n",
        "       [ 3. ,  1.4,  0.2],\n",
        "       [ 3.2,  1.3,  0.2],\n",
        "       [ 3.1,  1.5,  0.2],\n",
        "       [ 3.6,  1.4,  0.2],\n",
        "       [ 3.9,  1.7,  0.4],\n",
        "       [ 3.4,  1.4,  0.3],\n",
        "       [ 3.4,  1.5,  0.2],\n",
        "       [ 2.9,  1.4,  0.2],\n",
        "       [ 3.1,  1.5,  0.1],\n",
        "       [ 3.7,  1.5,  0.2],\n",
        "       [ 3.4,  1.6,  0.2],\n",
        "       [ 3. ,  1.4,  0.1],\n",
        "       [ 3. ,  1.1,  0.1],\n",
        "       [ 4. ,  1.2,  0.2],\n",
        "       [ 4.4,  1.5,  0.4],\n",
        "       [ 3.9,  1.3,  0.4],\n",
        "       [ 3.5,  1.4,  0.3],\n",
        "       [ 3.8,  1.7,  0.3],\n",
        "       [ 3.8,  1.5,  0.3],\n",
        "       [ 3.4,  1.7,  0.2],\n",
        "       [ 3.7,  1.5,  0.4],\n",
        "       [ 3.6,  1. ,  0.2],\n",
        "       [ 3.3,  1.7,  0.5],\n",
        "       [ 3.4,  1.9,  0.2],\n",
        "       [ 3. ,  1.6,  0.2],\n",
        "       [ 3.4,  1.6,  0.4],\n",
        "       [ 3.5,  1.5,  0.2],\n",
        "       [ 3.4,  1.4,  0.2],\n",
        "       [ 3.2,  1.6,  0.2],\n",
        "       [ 3.1,  1.6,  0.2],\n",
        "       [ 3.4,  1.5,  0.4],\n",
        "       [ 4.1,  1.5,  0.1],\n",
        "       [ 4.2,  1.4,  0.2],\n",
        "       [ 3.1,  1.5,  0.2],\n",
        "       [ 3.2,  1.2,  0.2],\n",
        "       [ 3.5,  1.3,  0.2],\n",
        "       [ 3.6,  1.4,  0.1],\n",
        "       [ 3. ,  1.3,  0.2],\n",
        "       [ 3.4,  1.5,  0.2],\n",
        "       [ 3.5,  1.3,  0.3],\n",
        "       [ 2.3,  1.3,  0.3],\n",
        "       [ 3.2,  1.3,  0.2],\n",
        "       [ 3.5,  1.6,  0.6],\n",
        "       [ 3.8,  1.9,  0.4],\n",
        "       [ 3. ,  1.4,  0.3],\n",
        "       [ 3.8,  1.6,  0.2],\n",
        "       [ 3.2,  1.4,  0.2],\n",
        "       [ 3.7,  1.5,  0.2],\n",
        "       [ 3.3,  1.4,  0.2],\n",
        "       [ 3.2,  4.7,  1.4],\n",
        "       [ 3.2,  4.5,  1.5],\n",
        "       [ 3.1,  4.9,  1.5],\n",
        "       [ 2.3,  4. ,  1.3],\n",
        "       [ 2.8,  4.6,  1.5],\n",
        "       [ 2.8,  4.5,  1.3],\n",
        "       [ 3.3,  4.7,  1.6],\n",
        "       [ 2.4,  3.3,  1. ],\n",
        "       [ 2.9,  4.6,  1.3],\n",
        "       [ 2.7,  3.9,  1.4],\n",
        "       [ 2. ,  3.5,  1. ],\n",
        "       [ 3. ,  4.2,  1.5],\n",
        "       [ 2.2,  4. ,  1. ],\n",
        "       [ 2.9,  4.7,  1.4],\n",
        "       [ 2.9,  3.6,  1.3],\n",
        "       [ 3.1,  4.4,  1.4],\n",
        "       [ 3. ,  4.5,  1.5],\n",
        "       [ 2.7,  4.1,  1. ],\n",
        "       [ 2.2,  4.5,  1.5],\n",
        "       [ 2.5,  3.9,  1.1],\n",
        "       [ 3.2,  4.8,  1.8],\n",
        "       [ 2.8,  4. ,  1.3],\n",
        "       [ 2.5,  4.9,  1.5],\n",
        "       [ 2.8,  4.7,  1.2],\n",
        "       [ 2.9,  4.3,  1.3],\n",
        "       [ 3. ,  4.4,  1.4],\n",
        "       [ 2.8,  4.8,  1.4],\n",
        "       [ 3. ,  5. ,  1.7],\n",
        "       [ 2.9,  4.5,  1.5],\n",
        "       [ 2.6,  3.5,  1. ],\n",
        "       [ 2.4,  3.8,  1.1],\n",
        "       [ 2.4,  3.7,  1. ],\n",
        "       [ 2.7,  3.9,  1.2],\n",
        "       [ 2.7,  5.1,  1.6],\n",
        "       [ 3. ,  4.5,  1.5],\n",
        "       [ 3.4,  4.5,  1.6],\n",
        "       [ 3.1,  4.7,  1.5],\n",
        "       [ 2.3,  4.4,  1.3],\n",
        "       [ 3. ,  4.1,  1.3],\n",
        "       [ 2.5,  4. ,  1.3],\n",
        "       [ 2.6,  4.4,  1.2],\n",
        "       [ 3. ,  4.6,  1.4],\n",
        "       [ 2.6,  4. ,  1.2],\n",
        "       [ 2.3,  3.3,  1. ],\n",
        "       [ 2.7,  4.2,  1.3],\n",
        "       [ 3. ,  4.2,  1.2],\n",
        "       [ 2.9,  4.2,  1.3],\n",
        "       [ 2.9,  4.3,  1.3],\n",
        "       [ 2.5,  3. ,  1.1],\n",
        "       [ 2.8,  4.1,  1.3],\n",
        "       [ 3.3,  6. ,  2.5],\n",
        "       [ 2.7,  5.1,  1.9],\n",
        "       [ 3. ,  5.9,  2.1],\n",
        "       [ 2.9,  5.6,  1.8],\n",
        "       [ 3. ,  5.8,  2.2],\n",
        "       [ 3. ,  6.6,  2.1],\n",
        "       [ 2.5,  4.5,  1.7],\n",
        "       [ 2.9,  6.3,  1.8],\n",
        "       [ 2.5,  5.8,  1.8],\n",
        "       [ 3.6,  6.1,  2.5],\n",
        "       [ 3.2,  5.1,  2. ],\n",
        "       [ 2.7,  5.3,  1.9],\n",
        "       [ 3. ,  5.5,  2.1],\n",
        "       [ 2.5,  5. ,  2. ],\n",
        "       [ 2.8,  5.1,  2.4],\n",
        "       [ 3.2,  5.3,  2.3],\n",
        "       [ 3. ,  5.5,  1.8],\n",
        "       [ 3.8,  6.7,  2.2],\n",
        "       [ 2.6,  6.9,  2.3],\n",
        "       [ 2.2,  5. ,  1.5],\n",
        "       [ 3.2,  5.7,  2.3],\n",
        "       [ 2.8,  4.9,  2. ],\n",
        "       [ 2.8,  6.7,  2. ],\n",
        "       [ 2.7,  4.9,  1.8],\n",
        "       [ 3.3,  5.7,  2.1],\n",
        "       [ 3.2,  6. ,  1.8],\n",
        "       [ 2.8,  4.8,  1.8],\n",
        "       [ 3. ,  4.9,  1.8],\n",
        "       [ 2.8,  5.6,  2.1],\n",
        "       [ 3. ,  5.8,  1.6],\n",
        "       [ 2.8,  6.1,  1.9],\n",
        "       [ 3.8,  6.4,  2. ],\n",
        "       [ 2.8,  5.6,  2.2],\n",
        "       [ 2.8,  5.1,  1.5],\n",
        "       [ 2.6,  5.6,  1.4],\n",
        "       [ 3. ,  6.1,  2.3],\n",
        "       [ 3.4,  5.6,  2.4],\n",
        "       [ 3.1,  5.5,  1.8],\n",
        "       [ 3. ,  4.8,  1.8],\n",
        "       [ 3.1,  5.4,  2.1],\n",
        "       [ 3.1,  5.6,  2.4],\n",
        "       [ 3.1,  5.1,  2.3],\n",
        "       [ 2.7,  5.1,  1.9],\n",
        "       [ 3.2,  5.9,  2.3],\n",
        "       [ 3.3,  5.7,  2.5],\n",
        "       [ 3. ,  5.2,  2.3],\n",
        "       [ 2.5,  5. ,  1.9],\n",
        "       [ 3. ,  5.2,  2. ],\n",
        "       [ 3.4,  5.4,  2.3],\n",
        "       [ 3. ,  5.1,  1.8]])"
       ]
      }
     ],
     "prompt_number": 72
    },
    {
     "cell_type": "markdown",
     "metadata": {},
     "source": [
      "** \\*\\* ** : exposant"
     ]
    },
    {
     "cell_type": "code",
     "collapsed": false,
     "input": [
      "iris[0,:-1]**4.5"
     ],
     "language": "python",
     "metadata": {},
     "outputs": [
      {
       "metadata": {},
       "output_type": "pyout",
       "prompt_number": 11,
       "text": [
        "array([  1.52779749e+03,   2.80741231e+02,   4.54544242e+00,\n",
        "         7.15541753e-04])"
       ]
      }
     ],
     "prompt_number": 11
    },
    {
     "cell_type": "markdown",
     "metadata": {},
     "source": [
      "** shuffle ** : Trier al\u00e9atoirement les \u00e9l\u00e9ments d'une s\u00e9quence/vecteur\n",
      "\n"
     ]
    },
    {
     "cell_type": "code",
     "collapsed": false,
     "input": [
      "seq = np.arange(10)\n",
      "np.random.shuffle(seq)"
     ],
     "language": "python",
     "metadata": {},
     "outputs": []
    },
    {
     "cell_type": "markdown",
     "metadata": {},
     "source": [
      "Il y a beaucoup d'autres fonctions math\u00e9matiques utiles : numpy.mean, numpy.std, numpy.cov, numpy.dot, numpy.invert, numpy.unique, numpy.vsplit, numpy.vstack, numpy.hsplit, numpy.hstack. Testez les pour mieux les comprendres ou regardez la [documentation](http://docs.scipy.org/doc/numpy/reference/index.html)"
     ]
    },
    {
     "cell_type": "code",
     "collapsed": false,
     "input": [],
     "language": "python",
     "metadata": {},
     "outputs": []
    },
    {
     "cell_type": "heading",
     "level": 1,
     "metadata": {},
     "source": [
      "Dessiner des fleurs avec Matplotlib"
     ]
    },
    {
     "cell_type": "markdown",
     "metadata": {},
     "source": [
      "La librairie `matplotlib` sert \u00e0 cr\u00e9er des graphiques. Voici diff\u00e9rentes fonction pratiques pour visualiser un ensemble de donn\u00e9es comme `iris`.\n",
      "\n",
      "Si on veut afficher des graphiques \u00e0 l'int\u00e9rieur d'un notebook, il est important d'ajouter la ligne suivante qui sera valide pour toute les cellules de code suivantes. "
     ]
    },
    {
     "cell_type": "code",
     "collapsed": false,
     "input": [
      "%pylab inline"
     ],
     "language": "python",
     "metadata": {},
     "outputs": [
      {
       "output_type": "stream",
       "stream": "stdout",
       "text": [
        "Populating the interactive namespace from numpy and matplotlib\n"
       ]
      },
      {
       "output_type": "stream",
       "stream": "stderr",
       "text": [
        "WARNING: pylab import has clobbered these variables: ['pylab']\n",
        "`%pylab --no-import-all` prevents importing * from pylab and numpy\n"
       ]
      }
     ],
     "prompt_number": 8
    },
    {
     "cell_type": "markdown",
     "metadata": {},
     "source": [
      "Histogramme d'\u00e9l\u00e9ments d'un vecteur"
     ]
    },
    {
     "cell_type": "code",
     "collapsed": false,
     "input": [
      "import pylab\n",
      "pylab.hist(iris[:,2])"
     ],
     "language": "python",
     "metadata": {},
     "outputs": [
      {
       "metadata": {},
       "output_type": "pyout",
       "prompt_number": 9,
       "text": [
        "(array([ 37.,  13.,   0.,   3.,   8.,  26.,  29.,  18.,  11.,   5.]),\n",
        " array([ 1.  ,  1.59,  2.18,  2.77,  3.36,  3.95,  4.54,  5.13,  5.72,\n",
        "        6.31,  6.9 ]),\n",
        " <a list of 10 Patch objects>)"
       ]
      },
      {
       "metadata": {},
       "output_type": "display_data",
       "png": "[encoded data removed]",
       "text": [
        "<matplotlib.figure.Figure at 0x7f4224026710>"
       ]
      }
     ],
     "prompt_number": 9
    },
    {
     "cell_type": "markdown",
     "metadata": {},
     "source": [
      "Afficher un nuage de points (\"scatterplot\")"
     ]
    },
    {
     "cell_type": "code",
     "collapsed": false,
     "input": [
      "pylab.scatter(iris[:,2],iris[:,3])"
     ],
     "language": "python",
     "metadata": {},
     "outputs": [
      {
       "metadata": {},
       "output_type": "pyout",
       "prompt_number": 10,
       "text": [
        "<matplotlib.collections.PathCollection at 0x7f421d4c8b90>"
       ]
      },
      {
       "metadata": {},
       "output_type": "display_data",
       "png": "[encoded data removed]",
       "text": [
        "<matplotlib.figure.Figure at 0x7f42240263d0>"
       ]
      }
     ],
     "prompt_number": 10
    },
    {
     "cell_type": "markdown",
     "metadata": {},
     "source": [
      "Afficher un nuage de points (\"scatterplot\")"
     ]
    },
    {
     "cell_type": "code",
     "collapsed": false,
     "input": [
      "pylab.scatter(iris[:,2],iris[:,3],c=iris[:,-1])"
     ],
     "language": "python",
     "metadata": {},
     "outputs": [
      {
       "metadata": {},
       "output_type": "pyout",
       "prompt_number": 9,
       "text": [
        "<matplotlib.collections.CircleCollection at 0x27b8250>"
       ]
      },
      {
       "metadata": {},
       "output_type": "display_data",
       "png": "[encoded data removed]",
       "text": [
        "<matplotlib.figure.Figure at 0x23225d0>"
       ]
      }
     ],
     "prompt_number": 9
    },
    {
     "cell_type": "markdown",
     "metadata": {},
     "source": [
      "Exemple plus compliqu\u00e9"
     ]
    },
    {
     "cell_type": "code",
     "collapsed": false,
     "input": [
      "support = linspace(-3,3,100) # linspace va generer un vecteur de 100 nombres entre -3 et 3\n",
      "fn = sin(support) \n",
      "bruit = randn(100)*0.1 # bruit Gaussien, moyenne=0, variance= sqrt(0.1)\n",
      "pylab.plot(support, fn) \n",
      "pylab.plot(support, fn + bruit,'--')\n",
      "pylab.grid(True) # affiche un grille\n",
      "pylab.xlabel('x')\n",
      "pylab.ylabel('f')\n",
      "pylab.legend(('f(x) sans bruit','f(x) avec bruit'))"
     ],
     "language": "python",
     "metadata": {},
     "outputs": [
      {
       "metadata": {},
       "output_type": "pyout",
       "prompt_number": 10,
       "text": [
        "<matplotlib.legend.Legend at 0x27e77d0>"
       ]
      },
      {
       "metadata": {},
       "output_type": "display_data",
       "png": "[encoded data removed]",
       "text": [
        "<matplotlib.figure.Figure at 0x27c3b10>"
       ]
      }
     ],
     "prompt_number": 10
    },
    {
     "cell_type": "markdown",
     "metadata": {},
     "source": [
      "###Ce n'est qu'un d\u00e9but\n",
      "\n",
      "Vous poss\u00e9dez maintenant quelques notions de base, mais il vous faudra davantage pour \u00eatre \u00e0 l'aise. Il vous faut donc adopter une approche exploratrice: feuilletez les tutoriels!"
     ]
    },
    {
     "cell_type": "code",
     "collapsed": false,
     "input": [],
     "language": "python",
     "metadata": {},
     "outputs": []
    }
   ],
   "metadata": {}
  }
 ]
}