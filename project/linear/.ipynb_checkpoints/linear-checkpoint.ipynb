{
 "metadata": {
  "name": "",
  "signature": "sha256:5c2abb8054d87a247abd124b6879c7f3d44c8c50436ae6a359cc54ab1f760e9c"
 },
 "nbformat": 3,
 "nbformat_minor": 0,
 "worksheets": [
  {
   "cells": [
    {
     "cell_type": "code",
     "collapsed": false,
     "input": [
      "import numpy as np\n",
      "import cPickle\n",
      "from sklearn import linear_model"
     ],
     "language": "python",
     "metadata": {},
     "outputs": [],
     "prompt_number": 3
    },
    {
     "cell_type": "code",
     "collapsed": false,
     "input": [
      "f = open(\"mnist.pkl\", \"rb\")\n",
      "(train_x, train_y), (valid_x, valid_y), (test_x, test_y)= cPickle.load(f)\n",
      "train_x = np.concatenate((train_x, valid_x))\n",
      "train_y = np.concatenate((train_y, valid_y))"
     ],
     "language": "python",
     "metadata": {},
     "outputs": [],
     "prompt_number": 50
    },
    {
     "cell_type": "code",
     "collapsed": false,
     "input": [
      "lin_classifier = linear_model.SGDClassifier()\n",
      "lin_classifier.fit(train_x, train_y)"
     ],
     "language": "python",
     "metadata": {},
     "outputs": [
      {
       "metadata": {},
       "output_type": "pyout",
       "prompt_number": 52,
       "text": [
        "SGDClassifier(alpha=0.0001, class_weight=None, epsilon=0.1, eta0=0.0,\n",
        "       fit_intercept=True, l1_ratio=0.15, learning_rate='optimal',\n",
        "       loss='hinge', n_iter=5, n_jobs=1, penalty='l2', power_t=0.5,\n",
        "       random_state=None, shuffle=False, verbose=0, warm_start=False)"
       ]
      }
     ],
     "prompt_number": 52
    },
    {
     "cell_type": "code",
     "collapsed": false,
     "input": [
      "# separate the set per class\n",
      "\n",
      "def separate_data_per_class(data, classes):\n",
      "    # will return a dict {class -> data}\n",
      "    separated_data = dict()\n",
      "    for i in range(0, len(classes)):\n",
      "        if (classes[i] in separated_data):\n",
      "            separated_data[classes[i]] = np.vstack((separated_data[classes[i]], data[i]))\n",
      "        else:\n",
      "            separated_data[classes[i]] = data[i]\n",
      "    return separated_data\n",
      "\n"
     ],
     "language": "python",
     "metadata": {},
     "outputs": [],
     "prompt_number": 59
    },
    {
     "cell_type": "code",
     "collapsed": false,
     "input": [
      "class_to_data = separate_data_per_class(train_x, train_y)"
     ],
     "language": "python",
     "metadata": {},
     "outputs": [],
     "prompt_number": 61
    },
    {
     "cell_type": "code",
     "collapsed": false,
     "input": [
      "# check the overall accuracy\n",
      "def accuracy(data, target, classifier):\n",
      "    return np.sum(np.equal(classifier.predict(data), target)) / float(len(target))\n",
      "\n",
      "train_accuracy = accuracy(train_x, train_y, lin_classifier)\n",
      "test_accuracy = accuracy(test_x, test_y, lin_classifier)\n",
      "\n",
      "print train_accuracy\n",
      "print test_accuracy"
     ],
     "language": "python",
     "metadata": {},
     "outputs": [
      {
       "output_type": "stream",
       "stream": "stdout",
       "text": [
        "0.883716666667\n",
        "0.878\n"
       ]
      }
     ],
     "prompt_number": 68
    },
    {
     "cell_type": "code",
     "collapsed": false,
     "input": [],
     "language": "python",
     "metadata": {},
     "outputs": [
      {
       "metadata": {},
       "output_type": "pyout",
       "prompt_number": 78,
       "text": [
        "[(0, array([[ 0.,  0.,  0., ...,  0.,  0.,  0.],\n",
        "         [ 0.,  0.,  0., ...,  0.,  0.,  0.],\n",
        "         [ 0.,  0.,  0., ...,  0.,  0.,  0.],\n",
        "         ..., \n",
        "         [ 0.,  0.,  0., ...,  0.,  0.,  0.],\n",
        "         [ 0.,  0.,  0., ...,  0.,  0.,  0.],\n",
        "         [ 0.,  0.,  0., ...,  0.,  0.,  0.]], dtype=float32)),\n",
        " (1, array([[ 0.,  0.,  0., ...,  0.,  0.,  0.],\n",
        "         [ 0.,  0.,  0., ...,  0.,  0.,  0.],\n",
        "         [ 0.,  0.,  0., ...,  0.,  0.,  0.],\n",
        "         ..., \n",
        "         [ 0.,  0.,  0., ...,  0.,  0.,  0.],\n",
        "         [ 0.,  0.,  0., ...,  0.,  0.,  0.],\n",
        "         [ 0.,  0.,  0., ...,  0.,  0.,  0.]], dtype=float32)),\n",
        " (2, array([[ 0.,  0.,  0., ...,  0.,  0.,  0.],\n",
        "         [ 0.,  0.,  0., ...,  0.,  0.,  0.],\n",
        "         [ 0.,  0.,  0., ...,  0.,  0.,  0.],\n",
        "         ..., \n",
        "         [ 0.,  0.,  0., ...,  0.,  0.,  0.],\n",
        "         [ 0.,  0.,  0., ...,  0.,  0.,  0.],\n",
        "         [ 0.,  0.,  0., ...,  0.,  0.,  0.]], dtype=float32)),\n",
        " (3, array([[ 0.,  0.,  0., ...,  0.,  0.,  0.],\n",
        "         [ 0.,  0.,  0., ...,  0.,  0.,  0.],\n",
        "         [ 0.,  0.,  0., ...,  0.,  0.,  0.],\n",
        "         ..., \n",
        "         [ 0.,  0.,  0., ...,  0.,  0.,  0.],\n",
        "         [ 0.,  0.,  0., ...,  0.,  0.,  0.],\n",
        "         [ 0.,  0.,  0., ...,  0.,  0.,  0.]], dtype=float32)),\n",
        " (4, array([[ 0.,  0.,  0., ...,  0.,  0.,  0.],\n",
        "         [ 0.,  0.,  0., ...,  0.,  0.,  0.],\n",
        "         [ 0.,  0.,  0., ...,  0.,  0.,  0.],\n",
        "         ..., \n",
        "         [ 0.,  0.,  0., ...,  0.,  0.,  0.],\n",
        "         [ 0.,  0.,  0., ...,  0.,  0.,  0.],\n",
        "         [ 0.,  0.,  0., ...,  0.,  0.,  0.]], dtype=float32)),\n",
        " (5, array([[ 0.,  0.,  0., ...,  0.,  0.,  0.],\n",
        "         [ 0.,  0.,  0., ...,  0.,  0.,  0.],\n",
        "         [ 0.,  0.,  0., ...,  0.,  0.,  0.],\n",
        "         ..., \n",
        "         [ 0.,  0.,  0., ...,  0.,  0.,  0.],\n",
        "         [ 0.,  0.,  0., ...,  0.,  0.,  0.],\n",
        "         [ 0.,  0.,  0., ...,  0.,  0.,  0.]], dtype=float32)),\n",
        " (6, array([[ 0.,  0.,  0., ...,  0.,  0.,  0.],\n",
        "         [ 0.,  0.,  0., ...,  0.,  0.,  0.],\n",
        "         [ 0.,  0.,  0., ...,  0.,  0.,  0.],\n",
        "         ..., \n",
        "         [ 0.,  0.,  0., ...,  0.,  0.,  0.],\n",
        "         [ 0.,  0.,  0., ...,  0.,  0.,  0.],\n",
        "         [ 0.,  0.,  0., ...,  0.,  0.,  0.]], dtype=float32)),\n",
        " (7, array([[ 0.,  0.,  0., ...,  0.,  0.,  0.],\n",
        "         [ 0.,  0.,  0., ...,  0.,  0.,  0.],\n",
        "         [ 0.,  0.,  0., ...,  0.,  0.,  0.],\n",
        "         ..., \n",
        "         [ 0.,  0.,  0., ...,  0.,  0.,  0.],\n",
        "         [ 0.,  0.,  0., ...,  0.,  0.,  0.],\n",
        "         [ 0.,  0.,  0., ...,  0.,  0.,  0.]], dtype=float32)),\n",
        " (8, array([[ 0.,  0.,  0., ...,  0.,  0.,  0.],\n",
        "         [ 0.,  0.,  0., ...,  0.,  0.,  0.],\n",
        "         [ 0.,  0.,  0., ...,  0.,  0.,  0.],\n",
        "         ..., \n",
        "         [ 0.,  0.,  0., ...,  0.,  0.,  0.],\n",
        "         [ 0.,  0.,  0., ...,  0.,  0.,  0.],\n",
        "         [ 0.,  0.,  0., ...,  0.,  0.,  0.]], dtype=float32)),\n",
        " (9, array([[ 0.,  0.,  0., ...,  0.,  0.,  0.],\n",
        "         [ 0.,  0.,  0., ...,  0.,  0.,  0.],\n",
        "         [ 0.,  0.,  0., ...,  0.,  0.,  0.],\n",
        "         ..., \n",
        "         [ 0.,  0.,  0., ...,  0.,  0.,  0.],\n",
        "         [ 0.,  0.,  0., ...,  0.,  0.,  0.],\n",
        "         [ 0.,  0.,  0., ...,  0.,  0.,  0.]], dtype=float32))]"
       ]
      }
     ],
     "prompt_number": 78
    },
    {
     "cell_type": "code",
     "collapsed": false,
     "input": [
      "# check the class-specific information\n",
      "# per-class misclassification rate\n",
      "# per-class misclassification identities\n",
      "def class_stats(class_to_data, classifier):\n",
      "    class_accuracy = dict()\n",
      "    class_destination = dict()\n",
      "    \n",
      "    for (c, data) in class_to_data.iteritems():\n",
      "        predicted = classifier.predict(data)\n",
      "        predictions_length = float(len(predicted))\n",
      "        \n",
      "        class_accuracy[c] = np.sum(map(lambda x:x==c, predicted)) / predictions_length\n",
      "        \n",
      "        class_destination[c] = dict()\n",
      "        \n",
      "        # initialize the destinations with 0\n",
      "        for d in class_to_data.keys():\n",
      "            class_destination[c][d] = 0\n",
      "        \n",
      "        for predicted_class in predicted:\n",
      "            class_destination[c][predicted_class] += 1\n",
      "            \n",
      "        \n",
      "    return (class_accuracy, class_destination)\n",
      "\n",
      "stats = class_stats(class_to_data, lin_classifier)"
     ],
     "language": "python",
     "metadata": {},
     "outputs": [],
     "prompt_number": 87
    },
    {
     "cell_type": "code",
     "collapsed": false,
     "input": [
      "stats[0]"
     ],
     "language": "python",
     "metadata": {},
     "outputs": [
      {
       "metadata": {},
       "output_type": "pyout",
       "prompt_number": 89,
       "text": [
        "{0: 0.95998649333108221,\n",
        " 1: 0.97345001483239391,\n",
        " 2: 0.82846592816381337,\n",
        " 3: 0.93263741640841624,\n",
        " 4: 0.86597055802807255,\n",
        " 5: 0.71278361925843936,\n",
        " 6: 0.95251774248056775,\n",
        " 7: 0.92146847565841983,\n",
        " 8: 0.75012818321654418,\n",
        " 9: 0.90737939149436875}"
       ]
      }
     ],
     "prompt_number": 89
    },
    {
     "cell_type": "code",
     "collapsed": false,
     "input": [
      "stats[1][8]"
     ],
     "language": "python",
     "metadata": {},
     "outputs": [
      {
       "metadata": {},
       "output_type": "pyout",
       "prompt_number": 92,
       "text": [
        "{0: 19, 1: 290, 2: 88, 3: 604, 4: 84, 5: 90, 6: 46, 7: 34, 8: 4389, 9: 207}"
       ]
      }
     ],
     "prompt_number": 92
    },
    {
     "cell_type": "code",
     "collapsed": false,
     "input": [
      "a = dict()\n",
      "a[2] = 3\n",
      "a[5] = 4\n",
      "for i in enumerate(a):\n",
      "    print i\n",
      "a.keys()"
     ],
     "language": "python",
     "metadata": {},
     "outputs": [
      {
       "output_type": "stream",
       "stream": "stdout",
       "text": [
        "(0, 2)\n",
        "(1, 5)\n"
       ]
      },
      {
       "metadata": {},
       "output_type": "pyout",
       "prompt_number": 82,
       "text": [
        "[2, 5]"
       ]
      }
     ],
     "prompt_number": 82
    }
   ],
   "metadata": {}
  }
 ]
}