{
 "metadata": {
  "name": "",
  "signature": "sha256:9a4dbae8deba25eed668678d5079967e7bd1d8a5062a65c63fb745b884bbdc31"
 },
 "nbformat": 3,
 "nbformat_minor": 0,
 "worksheets": [
  {
   "cells": [
    {
     "cell_type": "code",
     "collapsed": false,
     "input": [
      "%load_ext autoreload\n",
      "%autoreload 2\n",
      "%pylab inline\n",
      "%aimport numpy\n",
      "np=numpy"
     ],
     "language": "python",
     "metadata": {},
     "outputs": [
      {
       "output_type": "stream",
       "stream": "stdout",
       "text": [
        "Populating the interactive namespace from numpy and matplotlib\n"
       ]
      }
     ],
     "prompt_number": 1
    },
    {
     "cell_type": "code",
     "collapsed": false,
     "input": [
      "import numpy as np\n",
      "import cPickle\n",
      "from sklearn import linear_model\n",
      "#import pylab"
     ],
     "language": "python",
     "metadata": {},
     "outputs": [],
     "prompt_number": 2
    },
    {
     "cell_type": "code",
     "collapsed": false,
     "input": [
      "# uncomment if must recreate the pkl files (it's pretty long)\n",
      "\"\"\"\n",
      "\n",
      "def separate_data_per_class(data, classes):\n",
      "    # will return a dict {class -> data}\n",
      "    separated_data = dict()\n",
      "    for i in range(0, len(classes)):\n",
      "        if (classes[i] in separated_data):\n",
      "            separated_data[classes[i]] = np.vstack((separated_data[classes[i]], data[i]))\n",
      "        else:\n",
      "            separated_data[classes[i]] = data[i]\n",
      "    return separated_data\n",
      "\n",
      "\n",
      "f = open(\"mnist.pkl\", \"rb\")\n",
      "(train_x, train_y), (valid_x, valid_y), (test_x, test_y)= cPickle.load(f)\n",
      "# the validation set is appended to the training\n",
      "train_x = np.concatenate((train_x, valid_x))\n",
      "train_y = np.concatenate((train_y, valid_y))\n",
      "f.close()\n",
      "\n",
      "# separate the training data per class\n",
      "train_data = separate_data_per_class(train_x, train_y)\n",
      "f = open(\"train_data.pkl\", \"wb\")\n",
      "cPickle.dump(train_data, f)\n",
      "f.close()\n",
      "\n",
      "# separate the testing data per class\n",
      "test_data = separate_data_per_class(test_x, test_y)\n",
      "f = open(\"test_data.pkl\", \"wb\")\n",
      "cPickle.dump(test_data, f)\n",
      "f.close()\n",
      "\n",
      "\"\"\""
     ],
     "language": "python",
     "metadata": {},
     "outputs": [
      {
       "metadata": {},
       "output_type": "pyout",
       "prompt_number": 3,
       "text": [
        "'\\n\\ndef separate_data_per_class(data, classes):\\n    # will return a dict {class -> data}\\n    separated_data = dict()\\n    for i in range(0, len(classes)):\\n        if (classes[i] in separated_data):\\n            separated_data[classes[i]] = np.vstack((separated_data[classes[i]], data[i]))\\n        else:\\n            separated_data[classes[i]] = data[i]\\n    return separated_data\\n\\n\\nf = open(\"mnist.pkl\", \"rb\")\\n(train_x, train_y), (valid_x, valid_y), (test_x, test_y)= cPickle.load(f)\\n# the validation set is appended to the training\\ntrain_x = np.concatenate((train_x, valid_x))\\ntrain_y = np.concatenate((train_y, valid_y))\\nf.close()\\n\\n# separate the training data per class\\ntrain_data = separate_data_per_class(train_x, train_y)\\nf = open(\"train_data.pkl\", \"wb\")\\ncPickle.dump(train_data, f)\\nf.close()\\n\\n# separate the testing data per class\\ntest_data = separate_data_per_class(test_x, test_y)\\nf = open(\"test_data.pkl\", \"wb\")\\ncPickle.dump(test_data, f)\\nf.close()\\n\\n'"
       ]
      }
     ],
     "prompt_number": 3
    },
    {
     "cell_type": "code",
     "collapsed": false,
     "input": [
      "# data loading\n",
      "\n",
      "# load training data\n",
      "f = open(\"mnist.pkl\", \"rb\")\n",
      "(train_x, train_y), (valid_x, valid_y), (test_x, test_y)= cPickle.load(f)\n",
      "# the validation set is appended to the training\n",
      "#train_x = np.concatenate((train_x, valid_x))\n",
      "#train_y = np.concatenate((train_y, valid_y))\n",
      "f.close()\n",
      "\n",
      "# load CLASS->DATA\n",
      "# load train data\n",
      "f = open(\"train_data.pkl\", \"rb\")\n",
      "train_data = cPickle.load(f)\n",
      "f.close()\n",
      "\n",
      "# load test data\n",
      "f = open(\"test_data.pkl\", \"rb\")\n",
      "test_data = cPickle.load(f)\n",
      "f.close()\n"
     ],
     "language": "python",
     "metadata": {},
     "outputs": [],
     "prompt_number": 18
    },
    {
     "cell_type": "code",
     "collapsed": false,
     "input": [
      "# initialize the model\n",
      "lin_classifier = linear_model.SGDClassifier()\n",
      "lin_classifier.fit(train_x, train_y)"
     ],
     "language": "python",
     "metadata": {},
     "outputs": [
      {
       "metadata": {},
       "output_type": "pyout",
       "prompt_number": 19,
       "text": [
        "SGDClassifier(alpha=0.0001, class_weight=None, epsilon=0.1, eta0=0.0,\n",
        "       fit_intercept=True, l1_ratio=0.15, learning_rate='optimal',\n",
        "       loss='hinge', n_iter=5, n_jobs=1, penalty='l2', power_t=0.5,\n",
        "       random_state=None, shuffle=False, verbose=0, warm_start=False)"
       ]
      }
     ],
     "prompt_number": 19
    },
    {
     "cell_type": "code",
     "collapsed": false,
     "input": [
      "# check the overall accuracy\n",
      "def accuracy(data, target, classifier):\n",
      "    return np.sum(np.equal(classifier.predict(data), target)) / float(len(target))\n",
      "\n",
      "# check the class-specific stats\n",
      "def get_stats(class_to_data, classifier):\n",
      "    # per-class misclassification rate\n",
      "    # per-class misclassification identities\n",
      "    class_accuracy = dict()\n",
      "    class_destination = dict()\n",
      "    \n",
      "    for (c, data) in class_to_data.iteritems():\n",
      "        predicted = classifier.predict(data)\n",
      "        predictions_length = float(len(predicted))\n",
      "        \n",
      "        class_accuracy[c] = np.sum(map(lambda x:x==c, predicted)) / predictions_length\n",
      "        \n",
      "        class_destination[c] = dict()\n",
      "        \n",
      "        # initialize the destinations with 0\n",
      "        for d in class_to_data.keys():\n",
      "            class_destination[c][d] = 0\n",
      "        \n",
      "        for predicted_class in predicted:\n",
      "            class_destination[c][predicted_class] += 1\n",
      "\n",
      "    return (class_accuracy, class_destination)\n",
      "\n",
      "print accuracy(train_x, train_y, lin_classifier)\n",
      "print accuracy(test_x, test_y, lin_classifier)\n",
      "\n",
      "train_accuracy, train_classification = get_stats(train_data, lin_classifier)\n",
      "test_accuracy, test_classification = get_stats(test_data, lin_classifier)"
     ],
     "language": "python",
     "metadata": {},
     "outputs": [
      {
       "output_type": "stream",
       "stream": "stdout",
       "text": [
        "0.88928\n",
        "0.8877\n"
       ]
      }
     ],
     "prompt_number": 20
    },
    {
     "cell_type": "code",
     "collapsed": false,
     "input": [
      "def heatmap_classification(classification, name):\n",
      "    data = np.empty((0, 10))\n",
      "    for i in range(0, 10):\n",
      "        row = np.zeros(10)\n",
      "        for j in range(0, 10):\n",
      "            row[j] = classification[i][j]\n",
      "        row /= float(np.sum(row))\n",
      "        data = np.vstack((data, row))\n",
      "    figure(figsize = (10, 10))\n",
      "    plt.title(name)\n",
      "    plt.ylabel(\"image class\")\n",
      "    plt.xlabel(\"predicted class\")\n",
      "    plt.xticks(range(0,10))\n",
      "    plt.yticks(range(0,10))\n",
      "    plt.imshow(data, cmap=plt.cm.summer_r, interpolation='none')\n",
      "    plt.colorbar()\n",
      "    plt.show()\n",
      "    return data"
     ],
     "language": "python",
     "metadata": {},
     "outputs": [],
     "prompt_number": 21
    },
    {
     "cell_type": "code",
     "collapsed": false,
     "input": [
      "train_heatmap = heatmap_classification(train_classification, \"classifications in training set\")\n",
      "test_heatmap  = heatmap_classification(test_classification, \"classification in test set\")\n",
      "\n",
      "for i in range(0, 10):\n",
      "    print test_classification[i]\n",
      "    print test_heatmap[i]\n",
      "    print"
     ],
     "language": "python",
     "metadata": {},
     "outputs": [
      {
       "metadata": {},
       "output_type": "display_data",
       "png": "[encoded data removed]",
       "text": [
        "<matplotlib.figure.Figure at 0x7f4e64bab210>"
       ]
      },
      {
       "metadata": {},
       "output_type": "display_data",
       "png": "[encoded data removed]",
       "text": [
        "<matplotlib.figure.Figure at 0x7f4e650b9b10>"
       ]
      },
      {
       "output_type": "stream",
       "stream": "stdout",
       "text": [
        "{0: 956, 1: 0, 2: 1, 3: 4, 4: 0, 5: 9, 6: 3, 7: 5, 8: 2, 9: 0}\n",
        "[ 0.9755102   0.          0.00102041  0.00408163  0.          0.00918367\n",
        "  0.00306122  0.00510204  0.00204082  0.        ]\n",
        "\n",
        "{0: 0, 1: 1086, 2: 0, 3: 5, 4: 0, 5: 4, 6: 2, 7: 1, 8: 37, 9: 0}\n",
        "[  0.00000000e+00   9.56828194e-01   0.00000000e+00   4.40528634e-03\n",
        "   0.00000000e+00   3.52422907e-03   1.76211454e-03   8.81057269e-04\n",
        "   3.25991189e-02   0.00000000e+00]\n",
        "\n",
        "{0: 18, 1: 17, 2: 838, 3: 41, 4: 11, 5: 11, 6: 6, 7: 20, 8: 64, 9: 6}\n",
        "[ 0.01744186  0.01647287  0.8120155   0.03972868  0.01065891  0.01065891\n",
        "  0.00581395  0.01937984  0.0620155   0.00581395]\n",
        "\n",
        "{0: 9, 1: 0, 2: 16, 3: 894, 4: 5, 5: 32, 6: 0, 7: 11, 8: 27, 9: 16}\n",
        "[ 0.00891089  0.          0.01584158  0.88514851  0.0049505   0.03168317\n",
        "  0.          0.01089109  0.02673267  0.01584158]\n",
        "\n",
        "{0: 1, 1: 6, 2: 5, 3: 1, 4: 878, 5: 1, 6: 2, 7: 2, 8: 18, 9: 68}\n",
        "[ 0.00101833  0.00610998  0.00509165  0.00101833  0.89409369  0.00101833\n",
        "  0.00203666  0.00203666  0.01832994  0.06924644]\n",
        "\n",
        "{0: 16, 1: 5, 2: 1, 3: 40, 4: 13, 5: 748, 6: 5, 7: 14, 8: 42, 9: 8}\n",
        "[ 0.01793722  0.00560538  0.00112108  0.04484305  0.01457399  0.83856502\n",
        "  0.00560538  0.01569507  0.0470852   0.00896861]\n",
        "\n",
        "{0: 19, 1: 3, 2: 5, 3: 1, 4: 11, 5: 52, 6: 847, 7: 3, 8: 16, 9: 1}\n",
        "[ 0.01983299  0.00313152  0.00521921  0.00104384  0.01148225  0.05427975\n",
        "  0.88413361  0.00313152  0.01670146  0.00104384]\n",
        "\n",
        "{0: 2, 1: 12, 2: 15, 3: 8, 4: 11, 5: 2, 6: 0, 7: 945, 8: 4, 9: 29}\n",
        "[ 0.00194553  0.01167315  0.01459144  0.0077821   0.01070039  0.00194553\n",
        "  0.          0.9192607   0.00389105  0.02821012]\n",
        "\n",
        "{0: 13, 1: 22, 2: 5, 3: 20, 4: 17, 5: 59, 6: 5, 7: 13, 8: 799, 9: 21}\n",
        "[ 0.01334702  0.02258727  0.00513347  0.02053388  0.0174538   0.06057495\n",
        "  0.00513347  0.01334702  0.82032854  0.02156057]\n",
        "\n",
        "{0: 11, 1: 12, 2: 0, 3: 9, 4: 31, 5: 14, 6: 0, 7: 32, 8: 14, 9: 886}\n",
        "[ 0.01090188  0.01189296  0.          0.00891972  0.03072349  0.01387512\n",
        "  0.          0.03171457  0.01387512  0.87809713]\n",
        "\n"
       ]
      }
     ],
     "prompt_number": 24
    },
    {
     "cell_type": "code",
     "collapsed": false,
     "input": [
      "print train_accuracy\n",
      "print test_accuracy\n",
      "\n",
      "for i in range(0, 10):\n",
      "    print \"prob well classified {0} = {1}\".format(i, test_heatmap[i][i])"
     ],
     "language": "python",
     "metadata": {},
     "outputs": [
      {
       "output_type": "stream",
       "stream": "stdout",
       "text": [
        "{0: 0.97501266250211038, 1: 0.96024918421833283, 2: 0.82813024504867405, 3: 0.84880117435981084, 4: 0.89763779527559051, 5: 0.85021213798192219, 6: 0.90165596485299082, 7: 0.93870710295291304, 8: 0.82430353785677657, 9: 0.86485123550176501}\n",
        "{0: 0.97551020408163269, 1: 0.95682819383259909, 2: 0.81201550387596899, 3: 0.88514851485148516, 4: 0.8940936863543788, 5: 0.83856502242152464, 6: 0.884133611691023, 7: 0.91926070038910501, 8: 0.82032854209445583, 9: 0.87809712586719524}\n",
        "prob well classified 0 = 0.975510204082\n",
        "prob well classified 1 = 0.956828193833\n",
        "prob well classified 2 = 0.812015503876\n",
        "prob well classified 3 = 0.885148514851\n",
        "prob well classified 4 = 0.894093686354\n",
        "prob well classified 5 = 0.838565022422\n",
        "prob well classified 6 = 0.884133611691\n",
        "prob well classified 7 = 0.919260700389\n",
        "prob well classified 8 = 0.820328542094\n",
        "prob well classified 9 = 0.878097125867\n"
       ]
      }
     ],
     "prompt_number": 23
    },
    {
     "cell_type": "code",
     "collapsed": false,
     "input": [
      "print test_heatmap"
     ],
     "language": "python",
     "metadata": {},
     "outputs": [
      {
       "output_type": "stream",
       "stream": "stdout",
       "text": [
        "[[  9.75510204e-01   0.00000000e+00   1.02040816e-03   4.08163265e-03\n",
        "    0.00000000e+00   9.18367347e-03   3.06122449e-03   5.10204082e-03\n",
        "    2.04081633e-03   0.00000000e+00]\n",
        " [  0.00000000e+00   9.56828194e-01   0.00000000e+00   4.40528634e-03\n",
        "    0.00000000e+00   3.52422907e-03   1.76211454e-03   8.81057269e-04\n",
        "    3.25991189e-02   0.00000000e+00]\n",
        " [  1.74418605e-02   1.64728682e-02   8.12015504e-01   3.97286822e-02\n",
        "    1.06589147e-02   1.06589147e-02   5.81395349e-03   1.93798450e-02\n",
        "    6.20155039e-02   5.81395349e-03]\n",
        " [  8.91089109e-03   0.00000000e+00   1.58415842e-02   8.85148515e-01\n",
        "    4.95049505e-03   3.16831683e-02   0.00000000e+00   1.08910891e-02\n",
        "    2.67326733e-02   1.58415842e-02]\n",
        " [  1.01832994e-03   6.10997963e-03   5.09164969e-03   1.01832994e-03\n",
        "    8.94093686e-01   1.01832994e-03   2.03665988e-03   2.03665988e-03\n",
        "    1.83299389e-02   6.92464358e-02]\n",
        " [  1.79372197e-02   5.60538117e-03   1.12107623e-03   4.48430493e-02\n",
        "    1.45739910e-02   8.38565022e-01   5.60538117e-03   1.56950673e-02\n",
        "    4.70852018e-02   8.96860987e-03]\n",
        " [  1.98329854e-02   3.13152401e-03   5.21920668e-03   1.04384134e-03\n",
        "    1.14822547e-02   5.42797495e-02   8.84133612e-01   3.13152401e-03\n",
        "    1.67014614e-02   1.04384134e-03]\n",
        " [  1.94552529e-03   1.16731518e-02   1.45914397e-02   7.78210117e-03\n",
        "    1.07003891e-02   1.94552529e-03   0.00000000e+00   9.19260700e-01\n",
        "    3.89105058e-03   2.82101167e-02]\n",
        " [  1.33470226e-02   2.25872690e-02   5.13347023e-03   2.05338809e-02\n",
        "    1.74537988e-02   6.05749487e-02   5.13347023e-03   1.33470226e-02\n",
        "    8.20328542e-01   2.15605749e-02]\n",
        " [  1.09018831e-02   1.18929633e-02   0.00000000e+00   8.91972250e-03\n",
        "    3.07234886e-02   1.38751239e-02   0.00000000e+00   3.17145689e-02\n",
        "    1.38751239e-02   8.78097126e-01]]\n"
       ]
      }
     ],
     "prompt_number": 9
    },
    {
     "cell_type": "code",
     "collapsed": false,
     "input": [],
     "language": "python",
     "metadata": {},
     "outputs": [
      {
       "ename": "ImportError",
       "evalue": "No module named plotly",
       "output_type": "pyerr",
       "traceback": [
        "\u001b[1;31m---------------------------------------------------------------------------\u001b[0m\n\u001b[1;31mImportError\u001b[0m                               Traceback (most recent call last)",
        "\u001b[1;32m<ipython-input-39-c27a4132ad2e>\u001b[0m in \u001b[0;36m<module>\u001b[1;34m()\u001b[0m\n\u001b[1;32m----> 1\u001b[1;33m \u001b[1;32mimport\u001b[0m \u001b[0mplotly\u001b[0m\u001b[1;33m\u001b[0m\u001b[0m\n\u001b[0m",
        "\u001b[1;31mImportError\u001b[0m: No module named plotly"
       ]
      }
     ],
     "prompt_number": 39
    },
    {
     "cell_type": "code",
     "collapsed": false,
     "input": [
      "a = dict()\n",
      "a[2] = 3\n",
      "a[5] = 4\n",
      "for i in enumerate(a):\n",
      "    print i\n",
      "a.keys()"
     ],
     "language": "python",
     "metadata": {},
     "outputs": [
      {
       "output_type": "stream",
       "stream": "stdout",
       "text": [
        "(0, 2)\n",
        "(1, 5)\n"
       ]
      },
      {
       "metadata": {},
       "output_type": "pyout",
       "prompt_number": 82,
       "text": [
        "[2, 5]"
       ]
      }
     ],
     "prompt_number": 82
    }
   ],
   "metadata": {}
  }
 ]
}