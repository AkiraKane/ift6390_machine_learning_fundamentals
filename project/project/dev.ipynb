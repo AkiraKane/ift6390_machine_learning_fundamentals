{
 "metadata": {
  "name": "",
  "signature": "sha256:edc72bede8eda6ff9f29dee7951d0a58b3683838b5fa6fc451509d7393b9043d"
 },
 "nbformat": 3,
 "nbformat_minor": 0,
 "worksheets": [
  {
   "cells": [
    {
     "cell_type": "code",
     "collapsed": false,
     "input": [
      "import pyximport; pyximport.install(reload_support=True)\n",
      "import numpy as np"
     ],
     "language": "python",
     "metadata": {},
     "outputs": [],
     "prompt_number": 32
    },
    {
     "cell_type": "code",
     "collapsed": false,
     "input": [
      "import distortion_fast\n",
      "reload(distortion_fast)"
     ],
     "language": "python",
     "metadata": {},
     "outputs": [
      {
       "metadata": {},
       "output_type": "pyout",
       "prompt_number": 39,
       "text": [
        "<module 'distortion_fast' from '/home/gab/.pyxbld/lib.linux-x86_64-2.7/distortion_fast.so.reload4'>"
       ]
      }
     ],
     "prompt_number": 39
    },
    {
     "cell_type": "code",
     "collapsed": false,
     "input": [
      "b = distortion_fast.PixelDist(2, 0.2, 0.4)"
     ],
     "language": "python",
     "metadata": {},
     "outputs": [],
     "prompt_number": 40
    },
    {
     "cell_type": "code",
     "collapsed": false,
     "input": [
      "print(b)"
     ],
     "language": "python",
     "metadata": {},
     "outputs": [
      {
       "output_type": "stream",
       "stream": "stdout",
       "text": [
        "2; 0.2; 0.0\n"
       ]
      }
     ],
     "prompt_number": 23
    },
    {
     "cell_type": "code",
     "collapsed": false,
     "input": [
      "print b.get_gradient_cost()\n",
      "print b.can_update()\n",
      "print b\n",
      "print b.add_distortion()\n",
      "print b.can_update()\n",
      "print b\n",
      "\n",
      "a = distortion_fast.PixelDist(2, 0.2, 0.4)\n",
      "b = distortion_fast.PixelDist(3, 0.2, 0.4)\n",
      "\n",
      "print a == b"
     ],
     "language": "python",
     "metadata": {},
     "outputs": [
      {
       "output_type": "stream",
       "stream": "stdout",
       "text": [
        "-13107.2\n",
        "True\n",
        "3; 0.2; 0.0\n",
        "0.00078125\n",
        "True\n",
        "3; 0.2; 0.00390625\n",
        "True\n"
       ]
      }
     ],
     "prompt_number": 31
    },
    {
     "cell_type": "code",
     "collapsed": false,
     "input": [],
     "language": "python",
     "metadata": {},
     "outputs": []
    }
   ],
   "metadata": {}
  }
 ]
}