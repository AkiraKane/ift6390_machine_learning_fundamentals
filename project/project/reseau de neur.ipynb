{
 "metadata": {
  "name": "",
  "signature": "sha256:6a38ba512e69df886e62f121588ed4e51797b569ccdac12a438d2a642fcfc49f"
 },
 "nbformat": 3,
 "nbformat_minor": 0,
 "worksheets": [
  {
   "cells": [
    {
     "cell_type": "code",
     "collapsed": false,
     "input": [
      "# je fais juste copier coller a chaque fois...\n",
      "%load_ext autoreload\n",
      "%autoreload 2\n",
      "%pylab inline\n",
      "%aimport numpy\n",
      "np=numpy"
     ],
     "language": "python",
     "metadata": {},
     "outputs": [
      {
       "output_type": "stream",
       "stream": "stdout",
       "text": [
        "Populating the interactive namespace from numpy and matplotlib\n"
       ]
      }
     ],
     "prompt_number": 1
    },
    {
     "cell_type": "code",
     "collapsed": false,
     "input": [
      "# je sais jamais pourquoi il faut faire les imports...\n",
      "import numpy\n",
      "import cPickle\n",
      "import time\n",
      "import utilitaires7 as utilitaires"
     ],
     "language": "python",
     "metadata": {},
     "outputs": [],
     "prompt_number": 2
    },
    {
     "cell_type": "code",
     "collapsed": false,
     "input": [
      "# s'occupe du data mnist (droit d'auteur a fracta)\n",
      "f = open(\"/home/dora/Desktop/Project IFT/mnist.pkl\", \"rb\")\n",
      "train_set, valid_set, test_set = cPickle.load(f)"
     ],
     "language": "python",
     "metadata": {},
     "outputs": [],
     "prompt_number": 3
    },
    {
     "cell_type": "code",
     "collapsed": false,
     "input": [
      "# affiche une image (droit d'auteur fracta)\n",
      "def show(data):\n",
      "    pylab.imshow(data.reshape((28,28)), cmap=\"gray\")\n",
      "    pylab.show()"
     ],
     "language": "python",
     "metadata": {},
     "outputs": [],
     "prompt_number": 4
    },
    {
     "cell_type": "code",
     "collapsed": false,
     "input": [
      "# Prend un petit data de mnist\n",
      "[train_x, train_y], [valid_x, valid_y], [test_x, test_y] = utilitaires.load_mini_mnist()"
     ],
     "language": "python",
     "metadata": {},
     "outputs": [],
     "prompt_number": 5
    },
    {
     "cell_type": "code",
     "collapsed": false,
     "input": [
      "# Les data complete de mnist (transformer a int32 car int64 etait trop lourd.)\n",
      "full_train_x=np.int32(train_set[0])\n",
      "full_train_y=np.int32(train_set[1])\n",
      "full_valid_x=np.int32(valid_set[0])\n",
      "full_valid_y=np.int32(valid_set[1])\n",
      "full_test_x=np.int32(test_set[0])\n",
      "full_test_y=np.int32(test_set[1])"
     ],
     "language": "python",
     "metadata": {},
     "outputs": [],
     "prompt_number": 10
    },
    {
     "cell_type": "code",
     "collapsed": false,
     "input": [
      "# Envoye le % derreur du model avec les images non fuzz et ensuite avec les images fuzzer.\n",
      "def test_classification(modele,data_original,data_fuzz,label):\n",
      "    print \"Voici le taux de r\u00e9ussite du model avec les images normale\"\n",
      "    print (modele.compute_predictions(data_original) != label).mean() * 100, \"%\", \"\\n\"\n",
      "    print \"voici le taux le taux d'erreur du model avec les images fuzzer\"\n",
      "    print (modele.compute_predictions(data_fuzz) != label).mean() * 100, \"%\", \"\\n\""
     ],
     "language": "python",
     "metadata": {},
     "outputs": [],
     "prompt_number": 7
    },
    {
     "cell_type": "code",
     "collapsed": false,
     "input": [
      "# Train le modelle avec 800 hidden layer, non linearite = tanh, max epoch= 500 et batch size = 1000\n",
      "#(le m\u00eame model quand dans le papier \"Better digit recognition with a committee of simple Neural Nets\")\n",
      "n_in = train_x.shape[1]\n",
      "n_classes = np.unique(train_y).shape[0]\n",
      "learning_rate = 0.1\n",
      "\n",
      "modele = utilitaires.FeedForwardNeuralNet(n_in, n_hids=[800], n_out=n_classes, non_linearities=\"tanh\")\n",
      "modele.train(train_data=train_x, train_labels=train_y, learning_rate=learning_rate, max_epoch=500, batch_size=1000,\n",
      "             monitoring_data={\"ensemble de validation\": (valid_x, valid_y)})\n",
      "\n",
      "print modele.compute_cost(test_x, test_y)"
     ],
     "language": "python",
     "metadata": {},
     "outputs": [
      {
       "output_type": "stream",
       "stream": "stdout",
       "text": [
        "\r",
        "  1% : \u00e9poque 6 : perte = 1.195156 "
       ]
      },
      {
       "output_type": "stream",
       "stream": "stdout",
       "text": [
        "\r",
        "  2% : \u00e9poque 12 : perte = 0.875494 "
       ]
      },
      {
       "output_type": "stream",
       "stream": "stdout",
       "text": [
        "\r",
        "  3% : \u00e9poque 18 : perte = 0.719152 "
       ]
      },
      {
       "output_type": "stream",
       "stream": "stdout",
       "text": [
        "\r",
        "  4% : \u00e9poque 24 : perte = 0.624235 "
       ]
      },
      {
       "output_type": "stream",
       "stream": "stdout",
       "text": [
        "\r",
        "  6% : \u00e9poque 30 : perte = 0.558770 "
       ]
      },
      {
       "output_type": "stream",
       "stream": "stdout",
       "text": [
        "\r",
        "  7% : \u00e9poque 36 : perte = 0.509853 "
       ]
      },
      {
       "output_type": "stream",
       "stream": "stdout",
       "text": [
        "\r",
        "  8% : \u00e9poque 42 : perte = 0.471281 "
       ]
      },
      {
       "output_type": "stream",
       "stream": "stdout",
       "text": [
        "\r",
        "  9% : \u00e9poque 48 : perte = 0.439681 "
       ]
      },
      {
       "output_type": "stream",
       "stream": "stdout",
       "text": [
        "\r",
        " 10% : \u00e9poque 54 : perte = 0.413050 "
       ]
      },
      {
       "output_type": "stream",
       "stream": "stdout",
       "text": [
        "\r",
        " 12% : \u00e9poque 60 : perte = 0.390111 "
       ]
      },
      {
       "output_type": "stream",
       "stream": "stdout",
       "text": [
        "\r",
        " 13% : \u00e9poque 66 : perte = 0.370012 "
       ]
      },
      {
       "output_type": "stream",
       "stream": "stdout",
       "text": [
        "\r",
        " 14% : \u00e9poque 72 : perte = 0.352155 "
       ]
      },
      {
       "output_type": "stream",
       "stream": "stdout",
       "text": [
        "\r",
        " 15% : \u00e9poque 78 : perte = 0.336109 "
       ]
      },
      {
       "output_type": "stream",
       "stream": "stdout",
       "text": [
        "\r",
        " 16% : \u00e9poque 84 : perte = 0.321551 "
       ]
      },
      {
       "output_type": "stream",
       "stream": "stdout",
       "text": [
        "\r",
        " 18% : \u00e9poque 90 : perte = 0.308237 "
       ]
      },
      {
       "output_type": "stream",
       "stream": "stdout",
       "text": [
        "\r",
        " 19% : \u00e9poque 96 : perte = 0.295977 "
       ]
      },
      {
       "output_type": "stream",
       "stream": "stdout",
       "text": [
        "\r",
        " 20% : \u00e9poque 102 : perte = 0.284620 "
       ]
      },
      {
       "output_type": "stream",
       "stream": "stdout",
       "text": [
        "\r",
        " 21% : \u00e9poque 108 : perte = 0.274047 "
       ]
      },
      {
       "output_type": "stream",
       "stream": "stdout",
       "text": [
        "\r",
        " 22% : \u00e9poque 114 : perte = 0.264160 "
       ]
      },
      {
       "output_type": "stream",
       "stream": "stdout",
       "text": [
        "\r",
        " 24% : \u00e9poque 120 : perte = 0.254878 "
       ]
      },
      {
       "output_type": "stream",
       "stream": "stdout",
       "text": [
        "\r",
        " 25% : \u00e9poque 126 : perte = 0.246135 "
       ]
      },
      {
       "output_type": "stream",
       "stream": "stdout",
       "text": [
        "\r",
        " 26% : \u00e9poque 132 : perte = 0.237875 "
       ]
      },
      {
       "output_type": "stream",
       "stream": "stdout",
       "text": [
        "\r",
        " 27% : \u00e9poque 138 : perte = 0.230051 "
       ]
      },
      {
       "output_type": "stream",
       "stream": "stdout",
       "text": [
        "\r",
        " 28% : \u00e9poque 144 : perte = 0.222624 "
       ]
      },
      {
       "output_type": "stream",
       "stream": "stdout",
       "text": [
        "\r",
        " 30% : \u00e9poque 150 : perte = 0.215560 "
       ]
      },
      {
       "output_type": "stream",
       "stream": "stdout",
       "text": [
        "\r",
        " 31% : \u00e9poque 156 : perte = 0.208828 "
       ]
      },
      {
       "output_type": "stream",
       "stream": "stdout",
       "text": [
        "\r",
        " 32% : \u00e9poque 162 : perte = 0.202403 "
       ]
      },
      {
       "output_type": "stream",
       "stream": "stdout",
       "text": [
        "\r",
        " 33% : \u00e9poque 168 : perte = 0.196264 "
       ]
      },
      {
       "output_type": "stream",
       "stream": "stdout",
       "text": [
        "\r",
        " 34% : \u00e9poque 174 : perte = 0.190389 "
       ]
      },
      {
       "output_type": "stream",
       "stream": "stdout",
       "text": [
        "\r",
        " 36% : \u00e9poque 180 : perte = 0.184762 "
       ]
      },
      {
       "output_type": "stream",
       "stream": "stdout",
       "text": [
        "\r",
        " 37% : \u00e9poque 186 : perte = 0.179367 "
       ]
      },
      {
       "output_type": "stream",
       "stream": "stdout",
       "text": [
        "\r",
        " 38% : \u00e9poque 192 : perte = 0.174190 "
       ]
      },
      {
       "output_type": "stream",
       "stream": "stdout",
       "text": [
        "\r",
        " 39% : \u00e9poque 198 : perte = 0.169218 "
       ]
      },
      {
       "output_type": "stream",
       "stream": "stdout",
       "text": [
        "\r",
        " 40% : \u00e9poque 204 : perte = 0.164441 "
       ]
      },
      {
       "output_type": "stream",
       "stream": "stdout",
       "text": [
        "\r",
        " 42% : \u00e9poque 210 : perte = 0.159846 "
       ]
      },
      {
       "output_type": "stream",
       "stream": "stdout",
       "text": [
        "\r",
        " 43% : \u00e9poque 216 : perte = 0.155426 "
       ]
      },
      {
       "output_type": "stream",
       "stream": "stdout",
       "text": [
        "\r",
        " 44% : \u00e9poque 222 : perte = 0.151171 "
       ]
      },
      {
       "output_type": "stream",
       "stream": "stdout",
       "text": [
        "\r",
        " 45% : \u00e9poque 228 : perte = 0.147073 "
       ]
      },
      {
       "output_type": "stream",
       "stream": "stdout",
       "text": [
        "\r",
        " 46% : \u00e9poque 234 : perte = 0.143125 "
       ]
      },
      {
       "output_type": "stream",
       "stream": "stdout",
       "text": [
        "\r",
        " 48% : \u00e9poque 240 : perte = 0.139320 "
       ]
      },
      {
       "output_type": "stream",
       "stream": "stdout",
       "text": [
        "\r",
        " 49% : \u00e9poque 246 : perte = 0.135652 "
       ]
      },
      {
       "output_type": "stream",
       "stream": "stdout",
       "text": [
        "\r",
        " 50% : \u00e9poque 252 : perte = 0.132114 "
       ]
      },
      {
       "output_type": "stream",
       "stream": "stdout",
       "text": [
        "\r",
        " 51% : \u00e9poque 258 : perte = 0.128701 "
       ]
      },
      {
       "output_type": "stream",
       "stream": "stdout",
       "text": [
        "\r",
        " 52% : \u00e9poque 264 : perte = 0.125408 "
       ]
      },
      {
       "output_type": "stream",
       "stream": "stdout",
       "text": [
        "\r",
        " 54% : \u00e9poque 270 : perte = 0.122229 "
       ]
      },
      {
       "output_type": "stream",
       "stream": "stdout",
       "text": [
        "\r",
        " 55% : \u00e9poque 276 : perte = 0.119161 "
       ]
      },
      {
       "output_type": "stream",
       "stream": "stdout",
       "text": [
        "\r",
        " 56% : \u00e9poque 282 : perte = 0.116199 "
       ]
      },
      {
       "output_type": "stream",
       "stream": "stdout",
       "text": [
        "\r",
        " 57% : \u00e9poque 288 : perte = 0.113338 "
       ]
      },
      {
       "output_type": "stream",
       "stream": "stdout",
       "text": [
        "\r",
        " 58% : \u00e9poque 294 : perte = 0.110575 "
       ]
      },
      {
       "output_type": "stream",
       "stream": "stdout",
       "text": [
        "\r",
        " 60% : \u00e9poque 300 : perte = 0.107906 "
       ]
      },
      {
       "output_type": "stream",
       "stream": "stdout",
       "text": [
        "\r",
        " 61% : \u00e9poque 306 : perte = 0.105327 "
       ]
      },
      {
       "output_type": "stream",
       "stream": "stdout",
       "text": [
        "\r",
        " 62% : \u00e9poque 312 : perte = 0.102835 "
       ]
      },
      {
       "output_type": "stream",
       "stream": "stdout",
       "text": [
        "\r",
        " 63% : \u00e9poque 318 : perte = 0.100426 "
       ]
      },
      {
       "output_type": "stream",
       "stream": "stdout",
       "text": [
        "\r",
        " 64% : \u00e9poque 324 : perte = 0.098098 "
       ]
      },
      {
       "output_type": "stream",
       "stream": "stdout",
       "text": [
        "\r",
        " 66% : \u00e9poque 330 : perte = 0.095847 "
       ]
      },
      {
       "output_type": "stream",
       "stream": "stdout",
       "text": [
        "\r",
        " 67% : \u00e9poque 336 : perte = 0.093670 "
       ]
      },
      {
       "output_type": "stream",
       "stream": "stdout",
       "text": [
        "\r",
        " 68% : \u00e9poque 342 : perte = 0.091564 "
       ]
      },
      {
       "output_type": "stream",
       "stream": "stdout",
       "text": [
        "\r",
        " 69% : \u00e9poque 348 : perte = 0.089527 "
       ]
      },
      {
       "output_type": "stream",
       "stream": "stdout",
       "text": [
        "\r",
        " 70% : \u00e9poque 354 : perte = 0.087557 "
       ]
      },
      {
       "output_type": "stream",
       "stream": "stdout",
       "text": [
        "\r",
        " 72% : \u00e9poque 360 : perte = 0.085650 "
       ]
      },
      {
       "output_type": "stream",
       "stream": "stdout",
       "text": [
        "\r",
        " 73% : \u00e9poque 366 : perte = 0.083805 "
       ]
      },
      {
       "output_type": "stream",
       "stream": "stdout",
       "text": [
        "\r",
        " 74% : \u00e9poque 372 : perte = 0.082019 "
       ]
      },
      {
       "output_type": "stream",
       "stream": "stdout",
       "text": [
        "\r",
        " 75% : \u00e9poque 378 : perte = 0.080289 "
       ]
      },
      {
       "output_type": "stream",
       "stream": "stdout",
       "text": [
        "\r",
        " 76% : \u00e9poque 384 : perte = 0.078615 "
       ]
      },
      {
       "output_type": "stream",
       "stream": "stdout",
       "text": [
        "\r",
        " 78% : \u00e9poque 390 : perte = 0.076993 "
       ]
      },
      {
       "output_type": "stream",
       "stream": "stdout",
       "text": [
        "\r",
        " 79% : \u00e9poque 396 : perte = 0.075421 "
       ]
      },
      {
       "output_type": "stream",
       "stream": "stdout",
       "text": [
        "\r",
        " 80% : \u00e9poque 402 : perte = 0.073899 "
       ]
      },
      {
       "output_type": "stream",
       "stream": "stdout",
       "text": [
        "\r",
        " 81% : \u00e9poque 408 : perte = 0.072424 "
       ]
      },
      {
       "output_type": "stream",
       "stream": "stdout",
       "text": [
        "\r",
        " 82% : \u00e9poque 414 : perte = 0.070993 "
       ]
      },
      {
       "output_type": "stream",
       "stream": "stdout",
       "text": [
        "\r",
        " 84% : \u00e9poque 420 : perte = 0.069607 "
       ]
      },
      {
       "output_type": "stream",
       "stream": "stdout",
       "text": [
        "\r",
        " 85% : \u00e9poque 426 : perte = 0.068262 "
       ]
      },
      {
       "output_type": "stream",
       "stream": "stdout",
       "text": [
        "\r",
        " 86% : \u00e9poque 432 : perte = 0.066958 "
       ]
      },
      {
       "output_type": "stream",
       "stream": "stdout",
       "text": [
        "\r",
        " 87% : \u00e9poque 438 : perte = 0.065692 "
       ]
      },
      {
       "output_type": "stream",
       "stream": "stdout",
       "text": [
        "\r",
        " 88% : \u00e9poque 444 : perte = 0.064464 "
       ]
      },
      {
       "output_type": "stream",
       "stream": "stdout",
       "text": [
        "\r",
        " 90% : \u00e9poque 450 : perte = 0.063272 "
       ]
      },
      {
       "output_type": "stream",
       "stream": "stdout",
       "text": [
        "\r",
        " 91% : \u00e9poque 456 : perte = 0.062115 "
       ]
      },
      {
       "output_type": "stream",
       "stream": "stdout",
       "text": [
        "\r",
        " 92% : \u00e9poque 462 : perte = 0.060991 "
       ]
      },
      {
       "output_type": "stream",
       "stream": "stdout",
       "text": [
        "\r",
        " 93% : \u00e9poque 468 : perte = 0.059900 "
       ]
      },
      {
       "output_type": "stream",
       "stream": "stdout",
       "text": [
        "\r",
        " 94% : \u00e9poque 474 : perte = 0.058839 "
       ]
      },
      {
       "output_type": "stream",
       "stream": "stdout",
       "text": [
        "\r",
        " 96% : \u00e9poque 480 : perte = 0.057809 "
       ]
      },
      {
       "output_type": "stream",
       "stream": "stdout",
       "text": [
        "\r",
        " 97% : \u00e9poque 486 : perte = 0.056807 "
       ]
      },
      {
       "output_type": "stream",
       "stream": "stdout",
       "text": [
        "\r",
        " 98% : \u00e9poque 492 : perte = 0.055833 "
       ]
      },
      {
       "output_type": "stream",
       "stream": "stdout",
       "text": [
        "\r",
        " 99% : \u00e9poque 498 : perte = 0.054886 "
       ]
      },
      {
       "output_type": "stream",
       "stream": "stdout",
       "text": [
        "\n",
        "0.136"
       ]
      },
      {
       "output_type": "stream",
       "stream": "stdout",
       "text": [
        "\n"
       ]
      }
     ],
     "prompt_number": 8
    },
    {
     "cell_type": "code",
     "collapsed": false,
     "input": [
      "# Train le modelle avec 800 hidden layer, non linearite = tanh, max epoch= 500 et batch size = 1000\n",
      "#(le m\u00eame model quand dans le papier \"Better digit recognition with a committee of simple Neural Nets\")\n",
      "#ici on essaye de faire le model avec le set mnist complet.\n",
      "n_in = full_train_x.shape[1]\n",
      "n_classes = np.unique(full_train_y).shape[0]\n",
      "learning_rate = 0.1\n",
      "\n",
      "modele_full = utilitaires.FeedForwardNeuralNet(n_in, n_hids=[800], n_out=n_classes, non_linearities=\"tanh\")\n",
      "modele_full.train(train_data=full_train_x, train_labels=full_train_y, learning_rate=learning_rate, max_epoch=500, batch_size=1000,\n",
      "             monitoring_data={\"ensemble de validation\": (full_valid_x, full_valid_y)})\n",
      "\n",
      "print modele.compute_cost(test_x, test_y)"
     ],
     "language": "python",
     "metadata": {},
     "outputs": []
    },
    {
     "cell_type": "code",
     "collapsed": false,
     "input": [],
     "language": "python",
     "metadata": {},
     "outputs": []
    }
   ],
   "metadata": {}
  }
 ]
}