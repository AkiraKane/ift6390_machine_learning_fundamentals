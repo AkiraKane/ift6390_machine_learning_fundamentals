{
 "metadata": {
  "name": "",
  "signature": "sha256:d984afcdffb9ec5586fba2df49c65338283e8543e00fbb89a5c63f2ce0eec2a8"
 },
 "nbformat": 3,
 "nbformat_minor": 0,
 "worksheets": [
  {
   "cells": [
    {
     "cell_type": "markdown",
     "metadata": {},
     "source": [
      "# Experiment 3"
     ]
    },
    {
     "cell_type": "code",
     "collapsed": false,
     "input": [
      "%load_ext autoreload\n",
      "%autoreload 2\n",
      "%pylab inline\n",
      "%aimport numpy\n",
      "np=numpy"
     ],
     "language": "python",
     "metadata": {},
     "outputs": [
      {
       "output_type": "stream",
       "stream": "stdout",
       "text": [
        "Populating the interactive namespace from numpy and matplotlib\n"
       ]
      }
     ],
     "prompt_number": 1
    },
    {
     "cell_type": "code",
     "collapsed": false,
     "input": [
      "import numpy as np\n",
      "import cPickle\n",
      "import sklearn.linear_model\n",
      "import sklearn.datasets\n",
      "import sklearn.cross_validation\n",
      "\n",
      "# get the general utilities\n",
      "import utility\n",
      "reload(utility)\n",
      "\n",
      "# preprocessing functions\n",
      "import preprocessing\n",
      "reload(preprocessing)\n",
      "\n",
      "# performance measure functions\n",
      "import analysis\n",
      "reload(analysis)\n",
      "\n",
      "# better print function\n",
      "from __future__ import print_function\n",
      "\n",
      "# plotting functions\n",
      "import seaborn\n",
      "\n",
      "# cython performance\n",
      "import pyximport; pyximport.install(reload_support=True)"
     ],
     "language": "python",
     "metadata": {},
     "outputs": [
      {
       "metadata": {},
       "output_type": "pyout",
       "prompt_number": 2,
       "text": [
        "(None, <pyximport.pyximport.PyxImporter at 0x7f54ba019ed0>)"
       ]
      }
     ],
     "prompt_number": 2
    },
    {
     "cell_type": "markdown",
     "metadata": {},
     "source": [
      "## Load data"
     ]
    },
    {
     "cell_type": "code",
     "collapsed": false,
     "input": [
      "# GENERAL DATA HANDLING\n",
      "\n",
      "# load the mnist dataset\n",
      "mnist = sklearn.datasets.fetch_mldata('MNIST original', data_home='.')\n",
      "mnist.data = map(lambda x: x / 256., mnist.data)  # bring to float\n",
      "\n",
      "\n",
      "# preprocessing (deskew and to 8-bit)\n",
      "preprocess = lambda x: preprocessing.to8bit(preprocessing.deskew(x))\n",
      "mnist.data = np.reshape(map(preprocess, mnist.data), (len(mnist.data), 784))"
     ],
     "language": "python",
     "metadata": {},
     "outputs": [],
     "prompt_number": 3
    },
    {
     "cell_type": "markdown",
     "metadata": {},
     "source": [
      "## Experiment"
     ]
    },
    {
     "cell_type": "code",
     "collapsed": false,
     "input": [],
     "language": "python",
     "metadata": {},
     "outputs": []
    }
   ],
   "metadata": {}
  }
 ]
}