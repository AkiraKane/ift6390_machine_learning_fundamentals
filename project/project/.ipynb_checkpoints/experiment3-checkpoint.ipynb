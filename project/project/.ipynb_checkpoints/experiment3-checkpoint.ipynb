{
 "metadata": {
  "name": "",
  "signature": "sha256:d9ae707cabf823ecb8bb2bb1e19be041b9fecfd13292bd5ac34a094bb8de509b"
 },
 "nbformat": 3,
 "nbformat_minor": 0,
 "worksheets": [
  {
   "cells": [
    {
     "cell_type": "markdown",
     "metadata": {},
     "source": [
      "# Experiment 3"
     ]
    },
    {
     "cell_type": "code",
     "collapsed": false,
     "input": [
      "%load_ext autoreload\n",
      "%autoreload 2\n",
      "%pylab inline\n",
      "%aimport numpy\n",
      "np=numpy"
     ],
     "language": "python",
     "metadata": {},
     "outputs": [
      {
       "output_type": "stream",
       "stream": "stdout",
       "text": [
        "Populating the interactive namespace from numpy and matplotlib\n"
       ]
      }
     ],
     "prompt_number": 1
    },
    {
     "cell_type": "code",
     "collapsed": false,
     "input": [
      "import numpy as np\n",
      "import cPickle\n",
      "import sklearn.linear_model\n",
      "import sklearn.datasets\n",
      "import sklearn.cross_validation\n",
      "\n",
      "# get the general utilities\n",
      "import utility\n",
      "reload(utility)\n",
      "\n",
      "# preprocessing functions\n",
      "import preprocessing\n",
      "reload(preprocessing)\n",
      "\n",
      "# performance measure functions\n",
      "import analysis\n",
      "reload(analysis)\n",
      "\n",
      "# better print function\n",
      "from __future__ import print_function\n",
      "\n",
      "# plotting functions\n",
      "import seaborn\n",
      "\n",
      "# cython performance\n",
      "import pyximport; pyximport.install(reload_support=True)"
     ],
     "language": "python",
     "metadata": {},
     "outputs": [
      {
       "metadata": {},
       "output_type": "pyout",
       "prompt_number": 2,
       "text": [
        "(None, <pyximport.pyximport.PyxImporter at 0x7f612a4a8ad0>)"
       ]
      }
     ],
     "prompt_number": 2
    },
    {
     "cell_type": "markdown",
     "metadata": {},
     "source": [
      "## Load data"
     ]
    },
    {
     "cell_type": "code",
     "collapsed": false,
     "input": [
      "# GENERAL DATA HANDLING\n",
      "\n",
      "# load the mnist dataset\n",
      "mnist = sklearn.datasets.fetch_mldata('MNIST original', data_home='.')\n",
      "mnist.data = map(lambda x: x / 256., mnist.data)  # bring to float\n",
      "\n",
      "\n",
      "# preprocessing (deskew and to 8-bit)\n",
      "preprocess = lambda x: preprocessing.to8bit(preprocessing.deskew(x))\n",
      "mnist.data = np.reshape(map(preprocess, mnist.data), (len(mnist.data), 784))"
     ],
     "language": "python",
     "metadata": {},
     "outputs": [],
     "prompt_number": 3
    },
    {
     "cell_type": "markdown",
     "metadata": {},
     "source": [
      "## Experiment"
     ]
    },
    {
     "cell_type": "markdown",
     "metadata": {},
     "source": [
      "verify if there is correlation between class accuracy and the transition probabilities. We'll use only \"close\" examples, that is adversarial examples generated below a threshold which we consider to be low."
     ]
    },
    {
     "cell_type": "code",
     "collapsed": false,
     "input": [
      "train_x, test_x, train_y, test_y = \\\n",
      "            sklearn.cross_validation.train_test_split(mnist.data,\n",
      "                                                      mnist.target,\n",
      "                                                      train_size=int(6.*len(mnist.target)/7.),\n",
      "                                                      random_state=42)\n",
      "train_x = np.reshape(train_x, (len(train_x), 784))\n",
      "test_x = np.reshape(test_x, (len(test_x), 784))"
     ],
     "language": "python",
     "metadata": {},
     "outputs": [],
     "prompt_number": 4
    },
    {
     "cell_type": "code",
     "collapsed": false,
     "input": [
      "classifier = sklearn.linear_model.SGDClassifier(loss='hinge', penalty='l2', alpha=0.5)\n",
      "classifier.fit(train_x, train_y)"
     ],
     "language": "python",
     "metadata": {},
     "outputs": [
      {
       "metadata": {},
       "output_type": "pyout",
       "prompt_number": 5,
       "text": [
        "SGDClassifier(alpha=0.5, class_weight=None, epsilon=0.1, eta0=0.0,\n",
        "       fit_intercept=True, l1_ratio=0.15, learning_rate='optimal',\n",
        "       loss='hinge', n_iter=5, n_jobs=1, penalty='l2', power_t=0.5,\n",
        "       random_state=None, shuffle=False, verbose=0, warm_start=False)"
       ]
      }
     ],
     "prompt_number": 5
    },
    {
     "cell_type": "code",
     "collapsed": false,
     "input": [
      "# extract the class based accuracy (for confusion matrix)\n",
      "confusion_matrix = analysis.get_class_performance(test_x, test_y, classifier)"
     ],
     "language": "python",
     "metadata": {},
     "outputs": [],
     "prompt_number": 6
    },
    {
     "cell_type": "code",
     "collapsed": false,
     "input": [
      "import distortion_fast\n",
      "reload(distortion_fast)\n",
      "result = distortion_fast.distances_and_class(mnist.data, mnist.target, classifier, 1000, 1337)"
     ],
     "language": "python",
     "metadata": {},
     "outputs": [],
     "prompt_number": 41
    },
    {
     "cell_type": "code",
     "collapsed": false,
     "input": [
      "# filter out the adversarial examples above threshold\n",
      "result2 = np.sort(np.copy(result), order=[\"squared_norm\", \"adv_class\", \"index\"])"
     ],
     "language": "python",
     "metadata": {},
     "outputs": [],
     "prompt_number": 42
    },
    {
     "cell_type": "code",
     "collapsed": false,
     "input": [
      "result3 = result2[\"squared_norm\"]"
     ],
     "language": "python",
     "metadata": {},
     "outputs": [],
     "prompt_number": 48
    },
    {
     "cell_type": "code",
     "collapsed": false,
     "input": [
      "quantiles = []"
     ],
     "language": "python",
     "metadata": {},
     "outputs": [],
     "prompt_number": 49
    },
    {
     "cell_type": "code",
     "collapsed": false,
     "input": [
      "for i in range(0, 10):\n",
      "    perc = np.percentile(result3[i], [0, 25, 50, 75, 100])\n",
      "    quantiles.append(perc)"
     ],
     "language": "python",
     "metadata": {},
     "outputs": [],
     "prompt_number": 50
    },
    {
     "cell_type": "code",
     "collapsed": false,
     "input": [
      "pal = seaborn.cubehelix_palette(8,start=2, rot=0, dark=0, light=.95, reverse=True, as_cmap=True)\n",
      "plt.figure(figsize=(8, 12))\n",
      "\n",
      "\n",
      "seaborn.heatmap(quantiles, annot=True, fmt='.2g', cmap=\"Blues\")\n",
      "plt.ylabel(\"true class\")\n",
      "plt.xlabel(\"adversarial class quantile squared euclidean norm, n={0}\".format(len(result2[0])))\n",
      "plt.savefig(\"../draft/figs/sup4.eps\")\n",
      "plt.show()"
     ],
     "language": "python",
     "metadata": {},
     "outputs": [
      {
       "metadata": {},
       "output_type": "display_data",
       "png": "[encoded data removed]",
       "text": [
        "<matplotlib.figure.Figure at 0x7f6127100d90>"
       ]
      }
     ],
     "prompt_number": 63
    },
    {
     "cell_type": "code",
     "collapsed": false,
     "input": [],
     "language": "python",
     "metadata": {},
     "outputs": []
    }
   ],
   "metadata": {}
  }
 ]
}