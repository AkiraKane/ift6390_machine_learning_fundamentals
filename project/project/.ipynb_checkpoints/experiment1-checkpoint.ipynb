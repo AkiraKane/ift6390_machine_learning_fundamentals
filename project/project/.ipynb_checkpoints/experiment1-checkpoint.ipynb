{
 "metadata": {
  "name": "",
  "signature": "sha256:147ae4dfa2ee28200b2203664a5acd724327a7eb81f94946dc52d75fc2baee77"
 },
 "nbformat": 3,
 "nbformat_minor": 0,
 "worksheets": [
  {
   "cells": [
    {
     "cell_type": "code",
     "collapsed": false,
     "input": [
      "%load_ext autoreload\n",
      "%autoreload 2\n",
      "%pylab inline\n",
      "%aimport numpy\n",
      "np=numpy"
     ],
     "language": "python",
     "metadata": {},
     "outputs": [
      {
       "output_type": "stream",
       "stream": "stdout",
       "text": [
        "Populating the interactive namespace from numpy and matplotlib\n"
       ]
      }
     ],
     "prompt_number": 2
    },
    {
     "cell_type": "code",
     "collapsed": false,
     "input": [
      "import numpy as np\n",
      "import cPickle\n",
      "import sklearn.linear_model\n",
      "import sklearn.datasets\n",
      "import sklearn.cross_validation  # we'll use stratified kfold\n",
      "\n",
      "# get the general utilities\n",
      "import utility\n",
      "reload(utility)\n",
      "\n",
      "# preprocessing functions\n",
      "import preprocessing\n",
      "reload(preprocessing)\n",
      "\n",
      "# performance measure functions\n",
      "import analysis\n",
      "reload(analysis)\n",
      "\n",
      "# better print function\n",
      "from __future__ import print_function\n",
      "\n",
      "# plotting functions\n",
      "import seaborn\n"
     ],
     "language": "python",
     "metadata": {},
     "outputs": [],
     "prompt_number": 3
    },
    {
     "cell_type": "code",
     "collapsed": false,
     "input": [
      "# GENERAL DATA HANDLING\n",
      "\n",
      "# load the mnist dataset\n",
      "mnist = sklearn.datasets.fetch_mldata('MNIST original', data_home='.')\n",
      "mnist.data = map(lambda x: x / 256., mnist.data)  # bring to float\n",
      "\n",
      "\n",
      "# preprocessing (deskew and to 8-bit)\n",
      "preprocess = lambda x: preprocessing.to8bit(preprocessing.deskew(x))\n",
      "mnist.data = np.reshape(map(preprocess, mnist.data), (len(mnist.data), 784))"
     ],
     "language": "python",
     "metadata": {},
     "outputs": [],
     "prompt_number": 4
    },
    {
     "cell_type": "markdown",
     "metadata": {},
     "source": [
      "# Experiment 1\n",
      "verify that the size of the interval on the true value of $\\lVert{r} \\rVert^2$ is always small\n",
      "\n",
      "to assess that, we make sure that the relative size of the interval to the distance calculated is small\n",
      "\n"
     ]
    },
    {
     "cell_type": "code",
     "collapsed": false,
     "input": [
      "# generate the data\n",
      "train_x, test_x, train_y, test_y = \\\n",
      "            sklearn.cross_validation.train_test_split(mnist.data,\n",
      "                                                      mnist.target,\n",
      "                                                      train_size=int(6.*len(mnist.target)/7.),\n",
      "                                                      random_state=1)\n",
      "train_x = np.reshape(train_x, (len(train_x), 784))\n",
      "test_x = np.reshape(test_x, (len(test_x), 784))\n",
      "\n",
      "# train the classifiers\n",
      "reg = ['l2', 'l1', 'elasticnet']\n",
      "classifiers = [sklearn.linear_model.SGDClassifier(loss='hinge', penalty=r, alpha=0.001) for r in reg] # initialize the linear svm\n",
      "map(lambda x: x.fit(train_x, train_y), classifiers)\n",
      "\n",
      "# check the accuracy of the classifiers\n",
      "map(lambda x: print(\"precision = \" + str(analysis.get_global_accuracy(test_x, test_y, x))), classifiers)\n"
     ],
     "language": "python",
     "metadata": {},
     "outputs": [
      {
       "output_type": "stream",
       "stream": "stdout",
       "text": [
        "precision = 0.9405\n",
        "precision = 0.9257\n",
        "precision = 0.9391"
       ]
      },
      {
       "output_type": "stream",
       "stream": "stdout",
       "text": [
        "\n"
       ]
      },
      {
       "metadata": {},
       "output_type": "pyout",
       "prompt_number": 5,
       "text": [
        "[None, None, None]"
       ]
      }
     ],
     "prompt_number": 5
    },
    {
     "cell_type": "code",
     "collapsed": false,
     "input": [
      "import distortion\n",
      "reload(distortion)\n",
      "# we'll use 100 different images from the whole dataset\n",
      "\n",
      "\n",
      "def get_interval(X, Y, classifier, num_per_class=10, seed=42):\n",
      "    \n",
      "    np.random.seed(seed)\n",
      "    indices = np.arange(0, len(Y))\n",
      "    np.random.shuffle(indices)\n",
      "\n",
      "    values = []\n",
      "    num_done = np.zeros(10, dtype='i')\n",
      "    num_total = num_per_class * 10\n",
      "    index=0\n",
      "    while np.sum(num_done) < num_total:\n",
      "        scramble_index = indices[index]\n",
      "        original_class = Y[scramble_index]\n",
      "        digit = X[scramble_index]\n",
      "        # check if need more of the specific class\n",
      "        if num_done[original_class] < num_per_class:\n",
      "            # we will check if the class matches\n",
      "            predicted_class = classifier.predict(digit)\n",
      "            if predicted_class == original_class:\n",
      "                # we'll add the observation\n",
      "                low, high = distortion.get_squared_norm_adversarial(digit, original_class, classifier)\n",
      "                values.append(high - low)\n",
      "                \n",
      "                # update the count\n",
      "                num_done[original_class] += 1\n",
      "        index += 1\n",
      "    return values\n"
     ],
     "language": "python",
     "metadata": {},
     "outputs": [],
     "prompt_number": 6
    },
    {
     "cell_type": "code",
     "collapsed": false,
     "input": [
      "values = [get_interval(mnist.data, mnist.target, classifier, num_per_class=25) for classifier in classifiers]"
     ],
     "language": "python",
     "metadata": {},
     "outputs": [],
     "prompt_number": 7
    },
    {
     "cell_type": "code",
     "collapsed": false,
     "input": [
      "# save to intermediate result to text\n",
      "import cPickle\n",
      "with open(\"experiment_1.pkl\", \"wb\") as f:\n",
      "    cPickle.dump(values, f)"
     ],
     "language": "python",
     "metadata": {},
     "outputs": [],
     "prompt_number": 9
    },
    {
     "cell_type": "code",
     "collapsed": false,
     "input": [
      "# plot the data and save the figure\n",
      "# note that the data is equidistributed (100 per class for each classifier)\n",
      "\n",
      "seaborn.set(style=\"white\")\n",
      "\n",
      "names = [u'{1}\\n\u03b1 ={0}'.format(c.alpha, c.penalty) for c in classifiers]\n",
      "seaborn.boxplot(values, names=names, color=\"skyblue\", vert=False)\n",
      "plt.xlabel(\"interval width around true squared norm\")\n",
      "plt.ylabel(\"classifier penalty types and weight, n = {0}\".format(len(values[0])))\n",
      "savefig('../draft/figs/experiment_1.eps')"
     ],
     "language": "python",
     "metadata": {},
     "outputs": [
      {
       "metadata": {},
       "output_type": "display_data",
       "png": "[encoded data removed]",
       "text": [
        "<matplotlib.figure.Figure at 0x7fe732e71e50>"
       ]
      }
     ],
     "prompt_number": 8
    }
   ],
   "metadata": {}
  }
 ]
}