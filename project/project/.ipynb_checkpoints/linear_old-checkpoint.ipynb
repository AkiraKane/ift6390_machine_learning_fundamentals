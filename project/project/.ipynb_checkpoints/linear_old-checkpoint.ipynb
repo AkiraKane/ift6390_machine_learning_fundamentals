{
 "metadata": {
  "name": "",
  "signature": "sha256:4597c7ca6d64a6fbdfb3bb69c6d17f44df1cdfd0d97fd3fe9e3e6cc55488367d"
 },
 "nbformat": 3,
 "nbformat_minor": 0,
 "worksheets": [
  {
   "cells": [
    {
     "cell_type": "code",
     "collapsed": false,
     "input": [
      "%load_ext autoreload\n",
      "%autoreload 2\n",
      "%pylab inline\n",
      "%aimport numpy\n",
      "np=numpy"
     ],
     "language": "python",
     "metadata": {},
     "outputs": [
      {
       "output_type": "stream",
       "stream": "stdout",
       "text": [
        "Populating the interactive namespace from numpy and matplotlib\n"
       ]
      }
     ],
     "prompt_number": 1
    },
    {
     "cell_type": "code",
     "collapsed": false,
     "input": [
      "import numpy as np\n",
      "import cPickle\n",
      "from sklearn import linear_model\n",
      "#import pylab"
     ],
     "language": "python",
     "metadata": {},
     "outputs": [],
     "prompt_number": 2
    },
    {
     "cell_type": "code",
     "collapsed": false,
     "input": [
      "f = open(\"mnist.pkl\", \"rb\")\n",
      "(train_x, train_y), (valid_x, valid_y), (test_x, test_y)= cPickle.load(f)\n",
      "train_x = np.concatenate((train_x, valid_x))\n",
      "train_y = np.concatenate((train_y, valid_y))\n",
      "f.close()"
     ],
     "language": "python",
     "metadata": {},
     "outputs": [],
     "prompt_number": 3
    },
    {
     "cell_type": "code",
     "collapsed": false,
     "input": [
      "lin_classifier = linear_model.SGDClassifier()\n",
      "lin_classifier.fit(train_x, train_y)"
     ],
     "language": "python",
     "metadata": {},
     "outputs": [
      {
       "metadata": {},
       "output_type": "pyout",
       "prompt_number": 4,
       "text": [
        "SGDClassifier(alpha=0.0001, class_weight=None, epsilon=0.1, eta0=0.0,\n",
        "       fit_intercept=True, l1_ratio=0.15, learning_rate='optimal',\n",
        "       loss='hinge', n_iter=5, n_jobs=1, penalty='l2', power_t=0.5,\n",
        "       random_state=None, shuffle=False, verbose=0, warm_start=False)"
       ]
      }
     ],
     "prompt_number": 4
    },
    {
     "cell_type": "code",
     "collapsed": false,
     "input": [
      "# separate the set per class\n",
      "\n",
      "def separate_data_per_class(data, classes):\n",
      "    # will return a dict {class -> data}\n",
      "    separated_data = dict()\n",
      "    for i in range(0, len(classes)):\n",
      "        if (classes[i] in separated_data):\n",
      "            separated_data[classes[i]] = np.vstack((separated_data[classes[i]], data[i]))\n",
      "        else:\n",
      "            separated_data[classes[i]] = data[i]\n",
      "    return separated_data\n",
      "\n"
     ],
     "language": "python",
     "metadata": {},
     "outputs": [],
     "prompt_number": 5
    },
    {
     "cell_type": "code",
     "collapsed": false,
     "input": [
      "class_to_data = separate_data_per_class(train_x, train_y)"
     ],
     "language": "python",
     "metadata": {},
     "outputs": [],
     "prompt_number": 6
    },
    {
     "cell_type": "code",
     "collapsed": false,
     "input": [
      "classes_test = separate_data_per_class(test_x, test_y)"
     ],
     "language": "python",
     "metadata": {},
     "outputs": [],
     "prompt_number": 7
    },
    {
     "cell_type": "code",
     "collapsed": false,
     "input": [
      "# check the overall accuracy\n",
      "def accuracy(data, target, classifier):\n",
      "    return np.sum(np.equal(classifier.predict(data), target)) / float(len(target))\n",
      "\n",
      "train_accuracy = accuracy(train_x, train_y, lin_classifier)\n",
      "test_accuracy = accuracy(test_x, test_y, lin_classifier)\n",
      "\n",
      "print train_accuracy\n",
      "print test_accuracy"
     ],
     "language": "python",
     "metadata": {},
     "outputs": [
      {
       "output_type": "stream",
       "stream": "stdout",
       "text": [
        "0.883716666667\n",
        "0.878\n"
       ]
      }
     ],
     "prompt_number": 8
    },
    {
     "cell_type": "code",
     "collapsed": false,
     "input": [
      "# check the class-specific information\n",
      "# per-class misclassification rate\n",
      "# per-class misclassification identities\n",
      "def class_stats(class_to_data, classifier):\n",
      "    class_accuracy = dict()\n",
      "    class_destination = dict()\n",
      "    \n",
      "    for (c, data) in class_to_data.iteritems():\n",
      "        predicted = classifier.predict(data)\n",
      "        predictions_length = float(len(predicted))\n",
      "        \n",
      "        class_accuracy[c] = np.sum(map(lambda x:x==c, predicted)) / predictions_length\n",
      "        \n",
      "        class_destination[c] = dict()\n",
      "        \n",
      "        # initialize the destinations with 0\n",
      "        for d in class_to_data.keys():\n",
      "            class_destination[c][d] = 0\n",
      "        \n",
      "        for predicted_class in predicted:\n",
      "            class_destination[c][predicted_class] += 1\n",
      "            \n",
      "        \n",
      "    return (class_accuracy, class_destination)\n",
      "\n",
      "class_acc, class_desti = class_stats(class_to_data, lin_classifier)\n",
      "class_acc_t, class_desti_t = class_stats(classes_test, lin_classifier)"
     ],
     "language": "python",
     "metadata": {},
     "outputs": [],
     "prompt_number": 9
    },
    {
     "cell_type": "code",
     "collapsed": false,
     "input": [
      "def heatmap_classification(classified_stats, name):\n",
      "    data = np.empty((0, 10))\n",
      "    for i in range(0, 10):\n",
      "        row = np.zeros(10)\n",
      "        for j in range(0, 10):\n",
      "            row[j] = classified_stats[i][j]\n",
      "        row /= float(np.sum(row))\n",
      "        data = np.vstack((data, row))\n",
      "    figure(figsize = (10, 10))\n",
      "    plt.title(name)\n",
      "    plt.ylabel(\"image class\")\n",
      "    plt.xlabel(\"predicted class\")\n",
      "    plt.xticks(range(0,10))\n",
      "    plt.yticks(range(0,10))\n",
      "    plt.imshow(data, cmap=plt.cm.summer_r, interpolation='none')\n",
      "    plt.colorbar()\n",
      "    plt.show()\n",
      "    return data"
     ],
     "language": "python",
     "metadata": {},
     "outputs": [],
     "prompt_number": 12
    },
    {
     "cell_type": "code",
     "collapsed": false,
     "input": [
      "for i in class_desti_t.iteritems():\n",
      "    print i\n"
     ],
     "language": "python",
     "metadata": {},
     "outputs": [
      {
       "output_type": "stream",
       "stream": "stdout",
       "text": [
        "(0, {0: 942, 1: 0, 2: 9, 3: 3, 4: 0, 5: 5, 6: 11, 7: 6, 8: 3, 9: 1})\n",
        "(1, {0: 0, 1: 1108, 2: 1, 3: 4, 4: 1, 5: 1, 6: 4, 7: 1, 8: 15, 9: 0})\n",
        "(2, {0: 4, 1: 35, 2: 820, 3: 101, 4: 11, 5: 5, 6: 10, 7: 15, 8: 24, 9: 7})\n",
        "(3, {0: 5, 1: 2, 2: 10, 3: 948, 4: 2, 5: 10, 6: 2, 7: 12, 8: 9, 9: 10})\n",
        "(4, {0: 1, 1: 3, 2: 3, 3: 3, 4: 840, 5: 0, 6: 14, 7: 1, 8: 10, 9: 107})\n",
        "(5, {0: 7, 1: 3, 2: 4, 3: 120, 4: 17, 5: 643, 6: 28, 7: 10, 8: 37, 9: 23})\n",
        "(6, {0: 4, 1: 6, 2: 6, 3: 2, 4: 5, 5: 19, 6: 911, 7: 3, 8: 2, 9: 0})\n",
        "(7, {0: 2, 1: 13, 2: 18, 3: 13, 4: 8, 5: 1, 6: 1, 7: 925, 8: 5, 9: 42})\n",
        "(8, {0: 6, 1: 33, 2: 11, 3: 103, 4: 22, 5: 19, 6: 18, 7: 10, 8: 722, 9: 30})\n",
        "(9, {0: 4, 1: 6, 2: 6, 3: 22, 4: 20, 5: 5, 6: 1, 7: 17, 8: 7, 9: 921})\n"
       ]
      }
     ],
     "prompt_number": 14
    },
    {
     "cell_type": "code",
     "collapsed": false,
     "input": [
      "train_heatmap = heatmap_classification(class_desti, \"classifications in training set\")\n",
      "test_heatmap  = heatmap_classification(class_desti_t, \"classification in test set\")\n",
      "for i in range(0, 10):\n",
      "    print \"prob well classified {0} = {1}\".format(i, test_heatmap[i][i])"
     ],
     "language": "python",
     "metadata": {},
     "outputs": [
      {
       "metadata": {},
       "output_type": "display_data",
       "png": "[encoded data removed]",
       "text": [
        "<matplotlib.figure.Figure at 0x7f313b0d71d0>"
       ]
      },
      {
       "metadata": {},
       "output_type": "display_data",
       "png": "[encoded data removed]",
       "text": [
        "<matplotlib.figure.Figure at 0x7f313ad1aed0>"
       ]
      },
      {
       "output_type": "stream",
       "stream": "stdout",
       "text": [
        "prob well classified 0 = 0.961224489796\n",
        "prob well classified 1 = 0.976211453744\n",
        "prob well classified 2 = 0.794573643411\n",
        "prob well classified 3 = 0.938613861386\n",
        "prob well classified 4 = 0.855397148676\n",
        "prob well classified 5 = 0.720852017937\n",
        "prob well classified 6 = 0.950939457203\n",
        "prob well classified 7 = 0.899805447471\n",
        "prob well classified 8 = 0.741273100616\n",
        "prob well classified 9 = 0.91278493558\n"
       ]
      }
     ],
     "prompt_number": 11
    },
    {
     "cell_type": "code",
     "collapsed": false,
     "input": [
      "for i in class_desti_t.items():\n",
      "    print i\n",
      "print\n",
      "for i in class_desti.items():\n",
      "    print i\n",
      "    \n",
      "plot_hist_dict(class_desti_t)"
     ],
     "language": "python",
     "metadata": {},
     "outputs": [
      {
       "output_type": "stream",
       "stream": "stdout",
       "text": [
        "(0, {0: 942, 1: 0, 2: 9, 3: 3, 4: 0, 5: 5, 6: 11, 7: 6, 8: 3, 9: 1})\n",
        "(1, {0: 0, 1: 1108, 2: 1, 3: 4, 4: 1, 5: 1, 6: 4, 7: 1, 8: 15, 9: 0})\n",
        "(2, {0: 4, 1: 35, 2: 820, 3: 101, 4: 11, 5: 5, 6: 10, 7: 15, 8: 24, 9: 7})\n",
        "(3, {0: 5, 1: 2, 2: 10, 3: 948, 4: 2, 5: 10, 6: 2, 7: 12, 8: 9, 9: 10})\n",
        "(4, {0: 1, 1: 3, 2: 3, 3: 3, 4: 840, 5: 0, 6: 14, 7: 1, 8: 10, 9: 107})\n",
        "(5, {0: 7, 1: 3, 2: 4, 3: 120, 4: 17, 5: 643, 6: 28, 7: 10, 8: 37, 9: 23})\n",
        "(6, {0: 4, 1: 6, 2: 6, 3: 2, 4: 5, 5: 19, 6: 911, 7: 3, 8: 2, 9: 0})\n",
        "(7, {0: 2, 1: 13, 2: 18, 3: 13, 4: 8, 5: 1, 6: 1, 7: 925, 8: 5, 9: 42})\n",
        "(8, {0: 6, 1: 33, 2: 11, 3: 103, 4: 22, 5: 19, 6: 18, 7: 10, 8: 722, 9: 30})\n",
        "(9, {0: 4, 1: 6, 2: 6, 3: 22, 4: 20, 5: 5, 6: 1, 7: 17, 8: 7, 9: 921})\n",
        "\n",
        "(0, {0: 5686, 1: 2, 2: 44, 3: 29, 4: 14, 5: 33, 6: 54, 7: 15, 8: 29, 9: 17})\n",
        "(1, {0: 1, 1: 6563, 2: 19, 3: 37, 4: 11, 5: 10, 6: 4, 7: 12, 8: 71, 9: 14})\n",
        "(2, {0: 24, 1: 193, 2: 4936, 3: 410, 4: 73, 5: 11, 6: 83, 7: 79, 8: 121, 9: 28})\n",
        "(3, {0: 22, 1: 22, 2: 83, 3: 5718, 4: 11, 5: 78, 6: 32, 7: 51, 8: 56, 9: 58})\n",
        "(4, {0: 3, 1: 18, 2: 43, 3: 18, 4: 5059, 5: 4, 6: 63, 7: 15, 8: 92, 9: 527})\n",
        "(5, {0: 35, 1: 46, 2: 49, 3: 737, 4: 82, 5: 3864, 6: 145, 7: 31, 8: 201, 9: 231})\n",
        "(6, {0: 28, 1: 58, 2: 38, 3: 13, 4: 24, 5: 82, 6: 5637, 7: 8, 8: 24, 9: 6})\n",
        "(7, {0: 2, 1: 35, 2: 57, 3: 52, 4: 56, 5: 7, 6: 3, 7: 5773, 8: 18, 9: 262})\n",
        "(8, {0: 19, 1: 290, 2: 88, 3: 604, 4: 84, 5: 90, 6: 46, 7: 34, 8: 4389, 9: 207})\n",
        "(9, {0: 13, 1: 18, 2: 43, 3: 137, 4: 107, 5: 9, 6: 4, 7: 173, 8: 47, 9: 5398})\n"
       ]
      },
      {
       "ename": "NameError",
       "evalue": "global name 'data' is not defined",
       "output_type": "pyerr",
       "traceback": [
        "\u001b[1;31m---------------------------------------------------------------------------\u001b[0m\n\u001b[1;31mNameError\u001b[0m                                 Traceback (most recent call last)",
        "\u001b[1;32m<ipython-input-42-44e2a877c188>\u001b[0m in \u001b[0;36m<module>\u001b[1;34m()\u001b[0m\n\u001b[0;32m      5\u001b[0m     \u001b[1;32mprint\u001b[0m \u001b[0mi\u001b[0m\u001b[1;33m\u001b[0m\u001b[0m\n\u001b[0;32m      6\u001b[0m \u001b[1;33m\u001b[0m\u001b[0m\n\u001b[1;32m----> 7\u001b[1;33m \u001b[0mplot_hist_dict\u001b[0m\u001b[1;33m(\u001b[0m\u001b[0mclass_desti_t\u001b[0m\u001b[1;33m)\u001b[0m\u001b[1;33m\u001b[0m\u001b[0m\n\u001b[0m",
        "\u001b[1;32m<ipython-input-41-4e2abcbc1552>\u001b[0m in \u001b[0;36mplot_hist_dict\u001b[1;34m(D)\u001b[0m\n\u001b[0;32m      5\u001b[0m         \u001b[0mplot_data\u001b[0m \u001b[1;33m=\u001b[0m \u001b[1;33m[\u001b[0m\u001b[1;33m]\u001b[0m\u001b[1;33m\u001b[0m\u001b[0m\n\u001b[0;32m      6\u001b[0m         \u001b[1;32mfor\u001b[0m \u001b[0mpred\u001b[0m \u001b[1;32min\u001b[0m \u001b[0mrange\u001b[0m\u001b[1;33m(\u001b[0m\u001b[1;36m0\u001b[0m\u001b[1;33m,\u001b[0m \u001b[1;36m10\u001b[0m\u001b[1;33m)\u001b[0m\u001b[1;33m:\u001b[0m\u001b[1;33m\u001b[0m\u001b[0m\n\u001b[1;32m----> 7\u001b[1;33m             \u001b[0mplot_data\u001b[0m\u001b[1;33m.\u001b[0m\u001b[0mappend\u001b[0m\u001b[1;33m(\u001b[0m\u001b[0mdata\u001b[0m\u001b[1;33m[\u001b[0m\u001b[0mpred\u001b[0m\u001b[1;33m]\u001b[0m\u001b[1;33m)\u001b[0m\u001b[1;33m\u001b[0m\u001b[0m\n\u001b[0m\u001b[0;32m      8\u001b[0m         \u001b[0mplt\u001b[0m\u001b[1;33m.\u001b[0m\u001b[0mbar\u001b[0m\u001b[1;33m(\u001b[0m\u001b[0mrange\u001b[0m\u001b[1;33m(\u001b[0m\u001b[1;36m0\u001b[0m\u001b[1;33m,\u001b[0m \u001b[1;36m10\u001b[0m\u001b[1;33m)\u001b[0m\u001b[1;33m,\u001b[0m \u001b[0mplot_data\u001b[0m\u001b[1;33m)\u001b[0m\u001b[1;33m\u001b[0m\u001b[0m\n\u001b[0;32m      9\u001b[0m         \u001b[0mplt\u001b[0m\u001b[1;33m.\u001b[0m\u001b[0mtitle\u001b[0m\u001b[1;33m(\u001b[0m\u001b[1;34m\"classifications for images of {0}\"\u001b[0m\u001b[1;33m.\u001b[0m\u001b[0mformat\u001b[0m\u001b[1;33m(\u001b[0m\u001b[0mi\u001b[0m\u001b[1;33m)\u001b[0m\u001b[1;33m)\u001b[0m\u001b[1;33m\u001b[0m\u001b[0m\n",
        "\u001b[1;31mNameError\u001b[0m: global name 'data' is not defined"
       ]
      }
     ],
     "prompt_number": 42
    },
    {
     "cell_type": "code",
     "collapsed": false,
     "input": [
      "import plotly\n"
     ],
     "language": "python",
     "metadata": {},
     "outputs": [
      {
       "ename": "ImportError",
       "evalue": "No module named plotly",
       "output_type": "pyerr",
       "traceback": [
        "\u001b[1;31m---------------------------------------------------------------------------\u001b[0m\n\u001b[1;31mImportError\u001b[0m                               Traceback (most recent call last)",
        "\u001b[1;32m<ipython-input-39-c27a4132ad2e>\u001b[0m in \u001b[0;36m<module>\u001b[1;34m()\u001b[0m\n\u001b[1;32m----> 1\u001b[1;33m \u001b[1;32mimport\u001b[0m \u001b[0mplotly\u001b[0m\u001b[1;33m\u001b[0m\u001b[0m\n\u001b[0m",
        "\u001b[1;31mImportError\u001b[0m: No module named plotly"
       ]
      }
     ],
     "prompt_number": 39
    },
    {
     "cell_type": "code",
     "collapsed": false,
     "input": [
      "a = dict()\n",
      "a[2] = 3\n",
      "a[5] = 4\n",
      "for i in enumerate(a):\n",
      "    print i\n",
      "a.keys()"
     ],
     "language": "python",
     "metadata": {},
     "outputs": [
      {
       "output_type": "stream",
       "stream": "stdout",
       "text": [
        "(0, 2)\n",
        "(1, 5)\n"
       ]
      },
      {
       "metadata": {},
       "output_type": "pyout",
       "prompt_number": 82,
       "text": [
        "[2, 5]"
       ]
      }
     ],
     "prompt_number": 82
    }
   ],
   "metadata": {}
  }
 ]
}