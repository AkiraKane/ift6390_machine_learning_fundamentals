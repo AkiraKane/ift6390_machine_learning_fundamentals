{
 "metadata": {
  "name": "",
  "signature": "sha256:af6bd8cb230047cacb4f5dac84503f4e0e20cdf92cb360ecb187a15ad1dd558b"
 },
 "nbformat": 3,
 "nbformat_minor": 0,
 "worksheets": [
  {
   "cells": [
    {
     "cell_type": "heading",
     "level": 1,
     "metadata": {},
     "source": [
      "Homework 2: multilayer perceptron (single hidden layer)"
     ]
    },
    {
     "cell_type": "markdown",
     "metadata": {},
     "source": [
      "## parameters\n",
      "\n",
      "- 3 layers (input -> hidden -> output)\n",
      "    - input: 784 neurons (1 for each pixel)\n",
      "    - hidden: not fixed\n",
      "    - output: 10 neurons (1 for each digit)\n",
      "\n",
      "- tanh(sum(input)) for each layer\n",
      "\n"
     ]
    },
    {
     "cell_type": "heading",
     "level": 2,
     "metadata": {},
     "source": [
      "Introduction to Multi-Layer Perceptrons (Feedforward Neural Networks)"
     ]
    },
    {
     "cell_type": "markdown",
     "metadata": {},
     "source": [
      "## from input layer to hidden layer\n",
      "\n",
      "$$g(x) = b + W \\cdot tanh(c + Vx)$$\n",
      "\n",
      "$$dim(x) = d \\times 1$$\n",
      "\n",
      "$$dim(V) = k \\times d$$\n",
      "\n",
      "$$dim(b) = m \\times 1$$\n",
      "\n",
      "$$dim(c) = k \\times 1$$\n",
      "\n",
      "$$dim(W) = m \\times h$$\n",
      "\n",
      "\n",
      "## from hidden layer to output layer\n",
      "\n",
      "$$h(x) = tanh(c + Vx)$$\n"
     ]
    },
    {
     "cell_type": "markdown",
     "metadata": {},
     "source": [
      "$$ \\sum_{i=1}^{10} t_i $$\n",
      "taken from: http://www.iro.umontreal.ca/~pift6266/H10/notes/mlp.html\n",
      "$$ g(x) = b + W\\cdot tanh(c + Vx) $$"
     ]
    },
    {
     "cell_type": "code",
     "collapsed": false,
     "input": [],
     "language": "python",
     "metadata": {},
     "outputs": []
    },
    {
     "cell_type": "code",
     "collapsed": false,
     "input": [],
     "language": "python",
     "metadata": {},
     "outputs": []
    },
    {
     "cell_type": "code",
     "collapsed": false,
     "input": [],
     "language": "python",
     "metadata": {},
     "outputs": []
    }
   ],
   "metadata": {}
  }
 ]
}