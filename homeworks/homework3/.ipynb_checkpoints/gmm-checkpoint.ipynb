{
 "metadata": {
  "name": "",
  "signature": "sha256:c5b6da42ea972a2a257b21433cd49530a06029d0d73a2b190ad1c5e39183b60a"
 },
 "nbformat": 3,
 "nbformat_minor": 0,
 "worksheets": [
  {
   "cells": [
    {
     "cell_type": "code",
     "collapsed": false,
     "input": [
      "import numpy as np\n",
      "from scipy import linalg\n",
      "\n",
      "from ..base import BaseEstimator\n",
      "from ..utils import check_random_state\n",
      "from .. import cluster\n",
      "\n",
      "from sklearn.externals.six.moves import zip"
     ],
     "language": "python",
     "metadata": {},
     "outputs": []
    },
    {
     "cell_type": "code",
     "collapsed": false,
     "input": [
      "def logsumexp(arr, axis=0):\n",
      "    \"\"\"Computes the sum of arr assuming arr is in the log domain.\n",
      "    Returns log(sum(exp(arr))) while minimizing the possibility of\n",
      "    over/underflow.\n",
      "    \"\"\"\n",
      "    arr = np.rollaxis(arr, axis)\n",
      "    # Use the max to normalize, as with the log this is what accumulates the less errors\n",
      "    vmax = arr.max(axis=0)\n",
      "    out = np.log(np.sum(np.exp(arr - vmax), axis=0))\n",
      "    out += vmax\n",
      "    return out"
     ],
     "language": "python",
     "metadata": {},
     "outputs": [],
     "prompt_number": 2
    },
    {
     "cell_type": "code",
     "collapsed": false,
     "input": [
      "def pinvh(a, cond=None, rcond=None, lower=True):\n",
      "    \"\"\"Compute the (Moore-Penrose) pseudo-inverse of a hermetian matrix.\n",
      "    Calculate a generalized inverse of a symmetric matrix using its\n",
      "    eigenvalue decomposition and including all 'large' eigenvalues.\n",
      "    Parameters\n",
      "    ----------\n",
      "    a : array, shape (N, N)\n",
      "        Real symmetric or complex hermetian matrix to be pseudo-inverted\n",
      "    cond, rcond : float or None\n",
      "        Cutoff for 'small' eigenvalues.\n",
      "        Singular values smaller than rcond * largest_eigenvalue are considered\n",
      "        zero.\n",
      "        If None or -1, suitable machine precision is used.\n",
      "    lower : boolean\n",
      "        Whether the pertinent array data is taken from the lower or upper\n",
      "        triangle of a. (Default: lower)\n",
      "    \"\"\"\n",
      "    a = np.asarray_chkfinite(a)\n",
      "    s, u = linalg.eigh(a, lower=lower)\n",
      "\n",
      "    if rcond is not None:\n",
      "        cond = rcond\n",
      "    if cond in [None, -1]:\n",
      "        t = u.dtype.char.lower()\n",
      "        factor = {'f': 1E3, 'd': 1E6}\n",
      "        cond = factor[t] * np.finfo(t).eps\n",
      "\n",
      "    # unlike svd case, eigh can lead to negative eigenvalues\n",
      "    above_cutoff = (abs(s) > cond * np.max(abs(s)))\n",
      "    psigma_diag = np.zeros_like(s)\n",
      "    psigma_diag[above_cutoff] = 1.0 / s[above_cutoff]\n",
      "\n",
      "    return np.dot(u * psigma_diag, np.conjugate(u).T)"
     ],
     "language": "python",
     "metadata": {},
     "outputs": [],
     "prompt_number": 3
    },
    {
     "cell_type": "code",
     "collapsed": false,
     "input": [],
     "language": "python",
     "metadata": {},
     "outputs": []
    },
    {
     "cell_type": "markdown",
     "metadata": {},
     "source": [
      "Implement a function that, given the parameters and a matrix of N D-dimensional\n",
      "data-points, returns L, the log-probability of the data"
     ]
    },
    {
     "cell_type": "code",
     "collapsed": false,
     "input": [
      "def _log_multivariate_normal_density_full(X, means, covars, min_covar=1.e-7):\n",
      "    \"\"\" Log probability for full covariance matrices. \"\"\"\n",
      "    n_samples, n_dim = X.shape\n",
      "    nmix = len(means)\n",
      "    log_prob = np.empty((n_samples, nmix))\n",
      "    for index, (mu, cv) in enumerate(zip(means, covars)):\n",
      "        try:\n",
      "            cv_chol = linalg.cholesky(cv, lower=True)\n",
      "        except linalg.LinAlgError:\n",
      "            # The model is most probably stuck in a component with too\n",
      "            # few observations, we need to reinitialize this components\n",
      "            cv_chol = linalg.cholesky(cv + min_covar * np.eye(n_dim),\n",
      "                                      lower=True)\n",
      "        cv_log_det = 2 * np.sum(np.log(np.diagonal(cv_chol)))\n",
      "        cv_sol = linalg.solve_triangular(cv_chol, (X - mu).T, lower=True).T\n",
      "        log_prob[:, index] = - .5 * (np.sum(cv_sol ** 2, axis=1) + n_dim * np.log(2 * np.pi) + cv_log_det)\n",
      "\n",
      "    return log_prob"
     ],
     "language": "python",
     "metadata": {},
     "outputs": []
    }
   ],
   "metadata": {}
  }
 ]
}