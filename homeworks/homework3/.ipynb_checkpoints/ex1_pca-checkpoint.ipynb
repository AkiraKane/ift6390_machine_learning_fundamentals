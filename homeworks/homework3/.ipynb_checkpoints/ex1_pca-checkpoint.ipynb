{
 "metadata": {
  "name": "",
  "signature": "sha256:81045fb2b227b0abed42fc4f3aedf8cb431358a46e560a4f629128537fffb8d1"
 },
 "nbformat": 3,
 "nbformat_minor": 0,
 "worksheets": [
  {
   "cells": [
    {
     "cell_type": "code",
     "collapsed": false,
     "input": [
      "%load_ext autoreload\n",
      "%autoreload 2\n",
      "%pylab inline\n",
      "%aimport numpy\n",
      "np=numpy"
     ],
     "language": "python",
     "metadata": {},
     "outputs": [
      {
       "output_type": "stream",
       "stream": "stdout",
       "text": [
        "Populating the interactive namespace from numpy and matplotlib\n"
       ]
      }
     ],
     "prompt_number": 1
    },
    {
     "cell_type": "code",
     "collapsed": false,
     "input": [
      "import numpy\n",
      "from sklearn.decomposition import PCA\n",
      "import matplotlib.pyplot as plt"
     ],
     "language": "python",
     "metadata": {},
     "outputs": [],
     "prompt_number": 2
    },
    {
     "cell_type": "code",
     "collapsed": false,
     "input": [
      "train_x = numpy.loadtxt(\"train_images.txt\", delimiter=\",\")\n",
      "train_y =  numpy.array(map(numpy.argmax, numpy.loadtxt(\"train_labels.txt\", delimiter=\",\")))"
     ],
     "language": "python",
     "metadata": {},
     "outputs": [],
     "prompt_number": 3
    },
    {
     "cell_type": "code",
     "collapsed": false,
     "input": [
      "classifier = PCA(n_components=20)\n",
      "classifier.fit(train_x)\n",
      "transformed_data = classifier.transform(train_x)"
     ],
     "language": "python",
     "metadata": {},
     "outputs": [],
     "prompt_number": 4
    },
    {
     "cell_type": "code",
     "collapsed": false,
     "input": [
      "retransformed_data = classifier.inverse_transform(transformed_data)"
     ],
     "language": "python",
     "metadata": {},
     "outputs": [],
     "prompt_number": 5
    },
    {
     "cell_type": "code",
     "collapsed": false,
     "input": [
      "def show(data):\n",
      "    pylab.imshow(data.reshape((28,28)), cmap=\"gray\")\n",
      "    pylab.show()"
     ],
     "language": "python",
     "metadata": {},
     "outputs": [],
     "prompt_number": 6
    }
   ],
   "metadata": {}
  }
 ]
}