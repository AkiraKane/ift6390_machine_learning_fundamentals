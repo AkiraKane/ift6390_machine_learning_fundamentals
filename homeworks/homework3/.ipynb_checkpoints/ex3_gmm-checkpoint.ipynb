{
 "metadata": {
  "name": "",
  "signature": "sha256:928473c03a117e33d3b3fea03b142d1642a6749588aea0b9aedc2b9bf1a5f3d6"
 },
 "nbformat": 3,
 "nbformat_minor": 0,
 "worksheets": [
  {
   "cells": [
    {
     "cell_type": "code",
     "collapsed": false,
     "input": [
      "%load_ext autoreload\n",
      "%autoreload 2\n",
      "#import pylab\n",
      "%pylab inline\n",
      "%aimport numpy\n",
      "np=numpy"
     ],
     "language": "python",
     "metadata": {},
     "outputs": [
      {
       "output_type": "stream",
       "stream": "stdout",
       "text": [
        "Populating the interactive namespace from numpy and matplotlib\n"
       ]
      }
     ],
     "prompt_number": 1
    },
    {
     "cell_type": "code",
     "collapsed": false,
     "input": [
      "import numpy\n",
      "import numpy.linalg\n",
      "from sklearn.mixture.gmm import GMM\n",
      "import matplotlib.pyplot as plt"
     ],
     "language": "python",
     "metadata": {},
     "outputs": [],
     "prompt_number": 2
    },
    {
     "cell_type": "code",
     "collapsed": false,
     "input": [
      "# get old faithful data (and see what it looks like)\n",
      "oldfaithful = numpy.loadtxt(\"faithful.txt\")\n",
      "plt.plot(oldfaithful[:, 0], oldfaithful[:,1], ls='', marker='o', color='0.8')\n",
      "plt.title(\"old faithful data\")\n",
      "plt.xlabel(\"eruption time in mins\")\n",
      "plt.ylabel(\"waiting time to next eruption (in mins)\")\n",
      "plt.show()"
     ],
     "language": "python",
     "metadata": {},
     "outputs": [
      {
       "metadata": {},
       "output_type": "display_data",
       "png": "[encoded data removed]",
       "text": [
        "<matplotlib.figure.Figure at 0x7feb29eccc90>"
       ]
      }
     ],
     "prompt_number": 3
    },
    {
     "cell_type": "code",
     "collapsed": false,
     "input": [
      "# the function to plot the gaussian mixture (at 1 standard deviation)\n",
      "def plotGaussian(mean, covariance):\n",
      "    \"\"\" Plot a 2d gaussian with given mean and covariance. \"\"\"\n",
      "\n",
      "    t = numpy.arange(-numpy.pi, numpy.pi, 0.01)\n",
      "    k = len(t)\n",
      "    x = numpy.sin(t)[:, numpy.newaxis]\n",
      "    y = numpy.cos(t)[:, numpy.newaxis]\n",
      "\n",
      "    D, V = numpy.linalg.eigh(covariance)\n",
      "    A = numpy.real(numpy.dot(V, numpy.diag(numpy.sqrt(D))).T)\n",
      "    z = numpy.dot(numpy.hstack([x, y]), A)\n",
      "\n",
      "    pylab.hold('on')\n",
      "    pylab.plot(z[:,0]+mean[0], z[:,1]+mean[1], linewidth=2)\n",
      "    pylab.plot(numpy.array([mean[0]]), numpy.array([mean[1]]), \"kx\")\n",
      "    pylab.hold('off')"
     ],
     "language": "python",
     "metadata": {},
     "outputs": [],
     "prompt_number": 4
    },
    {
     "cell_type": "code",
     "collapsed": false,
     "input": [
      "# training function for the gaussian mixture model\n",
      "# the prng is set at initialization of the model\n",
      "def gmm(data, n_components, n_init, covariance_type='full'):\n",
      "    # train and return a gmm model on the old faithful dataset\n",
      "    if covariance_type != 'full':\n",
      "        raise ValueError(\"{0} covariance type not implemented yet\".format(covariance_type))\n",
      "    gmm = GMM(n_components, covariance_type, n_init, )\n",
      "    gmm.fit(data)\n",
      "    for i in zip(gmm.means_, gmm.covars_):\n",
      "        plt.plot(i[0][0], i[0][1], marker='o', color='r')\n",
      "        plotGaussian(i[0], i[1])\n",
      "        \n",
      "    plt.plot(data[:, 0], data[:,1], ls='', marker='o', color='0.8')\n",
      "    plt.title(\"old faithful data, GMM with K = {0}\".format(n_components))\n",
      "    plt.xlabel(\"eruption time in mins\")\n",
      "    plt.ylabel(\"waiting time to next eruption (in mins)\")\n",
      "    plt.show()\n",
      "    print(\"log likelihood {0}\\n\".format(gmm.score(data).sum()))\n",
      "    for i in range(0, len(gmm.means_)):\n",
      "        m1, m2 = gmm.means_[i]\n",
      "        c1,c2,c3,c4 = numpy.ndarray.flatten(gmm.covars_[i])\n",
      "        print(\"cluster {0}\".format(i+1))\n",
      "        print(\"mean =       [{0}  {1}]\".format(m1, m2))\n",
      "        print(\"covariance = [{0}, {1}\\n              {2}, {3}]\\n\").format(c1, c2, c3, c4)\n",
      "    return gmm"
     ],
     "language": "python",
     "metadata": {},
     "outputs": [],
     "prompt_number": 5
    },
    {
     "cell_type": "code",
     "collapsed": false,
     "input": [
      "# this function is used to give the likelihood\n",
      "def log_multivariate_normal_density_full(X, means, covars, min_covar=1.e-7):\n",
      "    \"\"\"Log probability for full covariance matrices.\n",
      "    \"\"\"\n",
      "    n_samples, n_dim = X.shape\n",
      "    nmix = len(means)\n",
      "    log_prob = np.empty((n_samples, nmix))\n",
      "    for c, (mu, cv) in enumerate(zip(means, covars)):\n",
      "        try:\n",
      "            cv_chol = numpy.linalg.cholesky(cv, lower=True)\n",
      "        except numpy.linalg.LinAlgError:\n",
      "            # The model is most probably stuck in a component with too\n",
      "            # few observations, we need to reinitialize this components\n",
      "            cv_chol = numpy.linalg.cholesky(cv + min_covar * np.eye(n_dim),\n",
      "                                      lower=True)\n",
      "        cv_log_det = 2 * np.sum(np.log(np.diagonal(cv_chol)))\n",
      "        cv_sol = numpy.linalg.solve_triangular(cv_chol, (X - mu).T, lower=True).T\n",
      "        log_prob[:, c] = - .5 * (np.sum(cv_sol ** 2, axis=1) +\n",
      "                                 n_dim * np.log(2 * np.pi) + cv_log_det)\n",
      "\n",
      "    return log_prob\n"
     ],
     "language": "python",
     "metadata": {},
     "outputs": [],
     "prompt_number": 10
    },
    {
     "cell_type": "code",
     "collapsed": false,
     "input": [
      "np.eye(2)"
     ],
     "language": "python",
     "metadata": {},
     "outputs": [
      {
       "metadata": {},
       "output_type": "pyout",
       "prompt_number": 19,
       "text": [
        "array([[ 1.,  0.],\n",
        "       [ 0.,  1.]])"
       ]
      }
     ],
     "prompt_number": 19
    },
    {
     "cell_type": "code",
     "collapsed": false,
     "input": [
      "def prob(k, mean, cov, point):\n",
      "    left = (1.0 / k)\n",
      "    middle = (1./np.linalg.norm(2.0 * np.pi * cov))\n",
      "    \n",
      "    inner_dot = np.dot((point - mean).T, np.linalg.inv(cov))\n",
      "\n",
      "    outer_dot = np.dot(inner_dot, (point - mean))\n",
      "    \n",
      "    right = (-.5 * outer_dot)\n",
      "\n",
      "    return np.log(left) + np.log(middle) + right\n",
      "\n",
      "def of_log_prob(data):\n",
      "    total_log_prob = 0.\n",
      "    for i in range(0, data.shape[0]):\n",
      "        #print data[i,:]\n",
      "        p = prob(1., np.array([0., 0.]), np.eye(2), data[i,:])\n",
      "        print p\n",
      "        total_log_prob += (p)\n",
      "    return total_log_prob\n",
      "\n",
      "\n",
      "def direct_dora(k, data):\n",
      "    #\n",
      "    left = 1 * np.log(1. / (np.sqrt(2) * 2. * np.pi))\n",
      "    print left\n",
      "    right= -0.5 * np.sum(np.square(data))\n",
      "    print right\n",
      "    return left + right"
     ],
     "language": "python",
     "metadata": {},
     "outputs": [],
     "prompt_number": 133
    },
    {
     "cell_type": "code",
     "collapsed": false,
     "input": [
      "of_log_prob(oldfaithful)"
     ],
     "language": "python",
     "metadata": {},
     "outputs": [
      {
       "output_type": "stream",
       "stream": "stdout",
       "text": [
        "-3129.16445066\n",
        "-1461.80445066\n",
        "-2745.73889516\n",
        "-1926.79049516\n",
        "-3624.95849516\n",
        "-1518.84029516\n",
        "-3885.22945066\n",
        "-3621.16445066\n",
        "-1304.58570066\n",
        "-3624.14570066\n",
        "-1461.86439516\n",
        "-3537.85589516\n",
        "-3053.00445066\n",
        "-1108.21570066\n",
        "-3457.72945066\n",
        "-1356.53239516\n",
        "-1925.71570066\n",
        "-3541.70445066\n",
        "-1355.46445066\n",
        "-3131.71570066\n",
        "-1304.30445066\n",
        "-1108.21570066\n",
        "-3050.13570066\n",
        "-2387.38769516\n",
        "-2750.45849516\n",
        "-3453.16445066\n",
        "-1516.61899516\n",
        "-2898.51989516\n",
        "-3051.59570066\n",
        "-3132.51019516\n",
        "-2675.92945066\n",
        "-2976.66149516\n",
        "-2185.85279516\n",
        "-3210.31699516\n",
        "-2747.53039516\n",
        "-1356.21859516\n",
        "-1155.92729516\n",
        "-3213.86339516\n",
        "-1744.36439516\n",
        "-4063.62299516\n",
        "-3211.64570066\n",
        "-1685.95729516\n",
        "-3540.61319516\n",
        "-1685.71570066\n",
        "-2676.95849516\n",
        "-3452.18569516\n",
        "-2057.53039516\n",
        "-1408.88945066\n",
        "-3374.91679516\n",
        "-1744.68445066\n",
        "-2826.20445066\n",
        "-4063.30477866\n",
        "-1461.86439516\n",
        "-3213.86339516\n",
        "-1461.68609516\n",
        "-3458.60629516\n",
        "-2529.59249516\n",
        "-2051.57389516\n",
        "-2977.11319516\n",
        "-3292.00269516\n",
        "-1745.17759516\n",
        "-3540.30945066\n",
        "-1155.71570066\n",
        "-3375.70445066\n",
        "-1803.83519516\n",
        "-4243.86445066\n",
        "-3052.86639516\n",
        "-3055.22945066\n",
        "-2116.82069516\n",
        "-2677.72945066\n",
        "-3372.31699516\n",
        "-1572.11899516\n",
        "-3132.80945066\n",
        "-2530.68445066\n",
        "-1926.15059516\n",
        "-2903.02169516\n",
        "-1804.21859516\n",
        "-3054.61319516\n",
        "-2897.72329516\n",
        "-3453.16445066\n",
        "-2823.22529516\n",
        "-3373.57189516\n",
        "-2460.58945066\n",
        "-2118.15079516\n",
        "-2674.95469516\n",
        "-3886.35169516\n",
        "-2897.98570066\n",
        "-3212.38609516\n",
        "-1156.53239516\n",
        "-3708.18445066\n",
        "-1804.60445066\n",
        "-4061.57189516\n",
        "-1253.92729516\n",
        "-3055.78619516\n",
        "-1988.36439516\n",
        "-2603.42945066\n",
        "-3541.07489516\n",
        "-2821.71570066\n",
        "-1304.42729516\n",
        "-3376.18945066\n",
        "-1927.26709516\n",
        "-3883.71979516\n",
        "-1204.88945066\n",
        "-3456.80945066\n",
        "-3290.88570066\n",
        "-1108.42729516\n",
        "-3541.22945066\n",
        "-1355.77399516\n",
        "-3711.94570066\n",
        "-3289.46669516\n",
        "-2825.88509516\n",
        "-1745.32945066\n",
        "-3974.68945066\n",
        "-3132.43939516\n",
        "-1744.12945066\n",
        "-3293.41679516\n",
        "-1254.86869516\n",
        "-3625.26445066\n",
        "-1744.33519516\n",
        "-3796.43939516\n",
        "-1410.10879516\n",
        "-2390.95469516\n",
        "-2975.71570066\n",
        "-1572.11899516\n",
        "-3884.76445066\n",
        "-3289.77959516\n",
        "-1016.52189516\n",
        "-3374.30945066\n",
        "-1517.25409516\n",
        "-4062.99570066\n",
        "-1016.42729516\n",
        "-3455.36639516\n",
        "-1574.10445066\n",
        "-3972.07189516\n",
        "-1061.86439516\n",
        "-3373.78979516\n",
        "-1304.45729516\n",
        "-3712.35169516\n",
        "-1408.75099516\n",
        "-3129.65209516\n",
        "-3291.64359516\n",
        "-1804.67759516\n",
        "-3374.45849516\n",
        "-2978.28619516\n",
        "-2899.57189516\n",
        "-1744.65059516\n",
        "-3212.91679516\n",
        "-1204.71859516\n",
        "-4623.18945066\n",
        "-1408.30445066\n",
        "-2979.34999516\n",
        "-2974.68445066\n",
        "-2117.56445066\n",
        "-3293.26445066\n",
        "-2529.04619516\n",
        "-2460.18445066\n",
        "-3292.80945066\n",
        "-4335.01989516\n",
        "-1408.30445066\n",
        "-3970.55299516\n",
        "-1017.10445066\n",
        "-3708.79570066\n",
        "-1686.18445066\n",
        "-3051.53039516\n",
        "-2186.30945066\n",
        "-2900.68639516\n",
        "-1989.48579516\n",
        "-3886.68445066\n",
        "-1356.05269516\n",
        "-4337.34279516\n",
        "-1204.52189516\n",
        "-1628.85389516\n",
        "-2977.18639516\n",
        "-2319.73889516\n",
        "-3291.36639516\n",
        "-3292.07189516\n",
        "-2676.80945066\n",
        "-1255.10539516\n",
        "-3622.68445066\n",
        "-2748.86639516\n",
        "-1516.45729516\n",
        "-2977.18639516\n",
        "-3455.71570066\n",
        "-3453.77959516\n",
        "-1304.75099516\n",
        "-3054.01019516\n",
        "-3538.51989516\n",
        "-1061.86439516\n",
        "-3456.43939516\n",
        "-1517.06719516\n",
        "-3294.20445066\n",
        "-1628.36439516\n",
        "-2901.70445066\n",
        "-3538.58945066\n",
        "-2974.54902866\n",
        "-3291.64359516\n",
        "-3792.80945066\n",
        "-2976.21542866\n",
        "-1305.21570066\n",
        "-3055.07489516\n",
        "-1804.38945066\n",
        "-3373.64570066\n",
        "-4151.22529516\n",
        "-1408.42729516\n",
        "-3054.76445066\n",
        "-1061.77399516\n",
        "-2976.21979516\n",
        "-3537.59570066\n",
        "-1204.55269516\n",
        "-3456.80945066\n",
        "-2525.52379516\n",
        "-3213.22945066\n",
        "-1204.42729516\n",
        "-2822.03039516\n",
        "-2056.02239516\n",
        "-2899.14359516\n",
        "-1409.56445066\n",
        "-4431.70445066\n",
        "-1516.68445066\n",
        "-2898.79570066\n",
        "-1253.92729516\n",
        "-3373.28809516\n",
        "-1461.71570066\n",
        "-2824.73309516\n",
        "-3052.18445066\n",
        "-3131.15929516\n",
        "-3052.51989516\n",
        "-3053.28809516\n",
        "-2459.85589516\n",
        "-3133.03570066\n",
        "-2460.51989516\n",
        "-1463.10539516\n",
        "-3708.93319516\n",
        "-1254.64199516\n",
        "-4062.08570066\n",
        "-1461.95729516\n",
        "-1461.89570066\n",
        "-2975.85649516\n",
        "-3130.48570066\n",
        "-2052.90589516\n",
        "-2823.29570066\n",
        "-1109.44570066\n",
        "-3712.35169516\n",
        "-1990.88945066\n",
        "-3625.18639516\n",
        "-3371.53039516\n",
        "-1628.85389516\n",
        "-3373.71979516\n",
        "-2248.95929516\n",
        "-2749.64570066\n",
        "-1462.60445066\n",
        "-3456.58570066\n",
        "-2673.04619516\n",
        "-2676.80945066\n",
        "-3882.79570066\n",
        "-3209.46919516\n",
        "-2530.35589516\n",
        "-3456.58570066\n",
        "-1572.18445066\n",
        "-3131.85649516\n",
        "-3055.54659516\n",
        "-3540.45849516\n",
        "-1685.89570066\n",
        "-3455.71570066\n",
        "-928.650595157\n",
        "-1804.71570066\n",
        "-2825.96570066\n",
        "-3291.15929516\n",
        "-1062.49570066\n",
        "-4061.93939516\n",
        "-1061.83519516\n",
        "-2750.16149516\n"
       ]
      },
      {
       "metadata": {},
       "output_type": "pyout",
       "prompt_number": 134,
       "text": [
        "-711058.08006611932"
       ]
      }
     ],
     "prompt_number": 134
    },
    {
     "cell_type": "code",
     "collapsed": false,
     "input": [
      "direct_dora(1, oldfaithful)"
     ],
     "language": "python",
     "metadata": {},
     "outputs": [
      {
       "output_type": "stream",
       "stream": "stdout",
       "text": [
        "-2.18445065669\n",
        "-710463.909487\n"
       ]
      },
      {
       "metadata": {},
       "output_type": "pyout",
       "prompt_number": 139,
       "text": [
        "-710466.09393815661"
       ]
      }
     ],
     "prompt_number": 139
    },
    {
     "cell_type": "code",
     "collapsed": false,
     "input": [
      "prob(5, np.array([0., 0.]), np.eye(2), np.array([  2.267,55.]))"
     ],
     "language": "python",
     "metadata": {},
     "outputs": [
      {
       "metadata": {},
       "output_type": "pyout",
       "prompt_number": 128,
       "text": [
        "-1518.8635330691236"
       ]
      }
     ],
     "prompt_number": 128
    },
    {
     "cell_type": "code",
     "collapsed": false,
     "input": [
      "log_multivariate_normal_density_full(oldfaithful, [0, 0], [np.eye(2) for _ in range(0, 2)])"
     ],
     "language": "python",
     "metadata": {},
     "outputs": [
      {
       "ename": "TypeError",
       "evalue": "cholesky() got an unexpected keyword argument 'lower'",
       "output_type": "pyerr",
       "traceback": [
        "\u001b[1;31m---------------------------------------------------------------------------\u001b[0m\n\u001b[1;31mTypeError\u001b[0m                                 Traceback (most recent call last)",
        "\u001b[1;32m<ipython-input-34-681d31836f6b>\u001b[0m in \u001b[0;36m<module>\u001b[1;34m()\u001b[0m\n\u001b[1;32m----> 1\u001b[1;33m \u001b[0mlog_multivariate_normal_density_full\u001b[0m\u001b[1;33m(\u001b[0m\u001b[0moldfaithful\u001b[0m\u001b[1;33m,\u001b[0m \u001b[1;33m[\u001b[0m\u001b[1;36m0\u001b[0m\u001b[1;33m,\u001b[0m \u001b[1;36m0\u001b[0m\u001b[1;33m]\u001b[0m\u001b[1;33m,\u001b[0m \u001b[1;33m[\u001b[0m\u001b[0mnp\u001b[0m\u001b[1;33m.\u001b[0m\u001b[0meye\u001b[0m\u001b[1;33m(\u001b[0m\u001b[1;36m2\u001b[0m\u001b[1;33m)\u001b[0m \u001b[1;32mfor\u001b[0m \u001b[0m_\u001b[0m \u001b[1;32min\u001b[0m \u001b[0mrange\u001b[0m\u001b[1;33m(\u001b[0m\u001b[1;36m0\u001b[0m\u001b[1;33m,\u001b[0m \u001b[1;36m2\u001b[0m\u001b[1;33m)\u001b[0m\u001b[1;33m]\u001b[0m\u001b[1;33m)\u001b[0m\u001b[1;33m\u001b[0m\u001b[0m\n\u001b[0m",
        "\u001b[1;32m<ipython-input-10-3bbba873020b>\u001b[0m in \u001b[0;36mlog_multivariate_normal_density_full\u001b[1;34m(X, means, covars, min_covar)\u001b[0m\n\u001b[0;32m      8\u001b[0m     \u001b[1;32mfor\u001b[0m \u001b[0mc\u001b[0m\u001b[1;33m,\u001b[0m \u001b[1;33m(\u001b[0m\u001b[0mmu\u001b[0m\u001b[1;33m,\u001b[0m \u001b[0mcv\u001b[0m\u001b[1;33m)\u001b[0m \u001b[1;32min\u001b[0m \u001b[0menumerate\u001b[0m\u001b[1;33m(\u001b[0m\u001b[0mzip\u001b[0m\u001b[1;33m(\u001b[0m\u001b[0mmeans\u001b[0m\u001b[1;33m,\u001b[0m \u001b[0mcovars\u001b[0m\u001b[1;33m)\u001b[0m\u001b[1;33m)\u001b[0m\u001b[1;33m:\u001b[0m\u001b[1;33m\u001b[0m\u001b[0m\n\u001b[0;32m      9\u001b[0m         \u001b[1;32mtry\u001b[0m\u001b[1;33m:\u001b[0m\u001b[1;33m\u001b[0m\u001b[0m\n\u001b[1;32m---> 10\u001b[1;33m             \u001b[0mcv_chol\u001b[0m \u001b[1;33m=\u001b[0m \u001b[0mnumpy\u001b[0m\u001b[1;33m.\u001b[0m\u001b[0mlinalg\u001b[0m\u001b[1;33m.\u001b[0m\u001b[0mcholesky\u001b[0m\u001b[1;33m(\u001b[0m\u001b[0mcv\u001b[0m\u001b[1;33m,\u001b[0m \u001b[0mlower\u001b[0m\u001b[1;33m=\u001b[0m\u001b[0mTrue\u001b[0m\u001b[1;33m)\u001b[0m\u001b[1;33m\u001b[0m\u001b[0m\n\u001b[0m\u001b[0;32m     11\u001b[0m         \u001b[1;32mexcept\u001b[0m \u001b[0mnumpy\u001b[0m\u001b[1;33m.\u001b[0m\u001b[0mlinalg\u001b[0m\u001b[1;33m.\u001b[0m\u001b[0mLinAlgError\u001b[0m\u001b[1;33m:\u001b[0m\u001b[1;33m\u001b[0m\u001b[0m\n\u001b[0;32m     12\u001b[0m             \u001b[1;31m# The model is most probably stuck in a component with too\u001b[0m\u001b[1;33m\u001b[0m\u001b[1;33m\u001b[0m\u001b[0m\n",
        "\u001b[1;31mTypeError\u001b[0m: cholesky() got an unexpected keyword argument 'lower'"
       ]
      }
     ],
     "prompt_number": 34
    },
    {
     "cell_type": "code",
     "collapsed": true,
     "input": [],
     "language": "python",
     "metadata": {},
     "outputs": []
    },
    {
     "cell_type": "code",
     "collapsed": false,
     "input": [
      "model2 = gmm(oldfaithful, 2, 1000)"
     ],
     "language": "python",
     "metadata": {},
     "outputs": [
      {
       "ename": "ValueError",
       "evalue": "mc covariance type not implemented yet",
       "output_type": "pyerr",
       "traceback": [
        "\u001b[1;31m---------------------------------------------------------------------------\u001b[0m\n\u001b[1;31mValueError\u001b[0m                                Traceback (most recent call last)",
        "\u001b[1;32m<ipython-input-138-a931168fdd48>\u001b[0m in \u001b[0;36m<module>\u001b[1;34m()\u001b[0m\n\u001b[1;32m----> 1\u001b[1;33m \u001b[0mmodel2\u001b[0m \u001b[1;33m=\u001b[0m \u001b[0mgmm\u001b[0m\u001b[1;33m(\u001b[0m\u001b[0moldfaithful\u001b[0m\u001b[1;33m,\u001b[0m \u001b[1;36m2\u001b[0m\u001b[1;33m,\u001b[0m \u001b[1;36m1000\u001b[0m\u001b[1;33m,\u001b[0m \u001b[1;34m\"mc\"\u001b[0m\u001b[1;33m)\u001b[0m\u001b[1;33m\u001b[0m\u001b[0m\n\u001b[0m",
        "\u001b[1;32m<ipython-input-5-3b36f1f48ecf>\u001b[0m in \u001b[0;36mgmm\u001b[1;34m(data, n_components, n_init, covariance_type)\u001b[0m\n\u001b[0;32m      4\u001b[0m     \u001b[1;31m# train and return a gmm model on the old faithful dataset\u001b[0m\u001b[1;33m\u001b[0m\u001b[1;33m\u001b[0m\u001b[0m\n\u001b[0;32m      5\u001b[0m     \u001b[1;32mif\u001b[0m \u001b[0mcovariance_type\u001b[0m \u001b[1;33m!=\u001b[0m \u001b[1;34m'full'\u001b[0m\u001b[1;33m:\u001b[0m\u001b[1;33m\u001b[0m\u001b[0m\n\u001b[1;32m----> 6\u001b[1;33m         \u001b[1;32mraise\u001b[0m \u001b[0mValueError\u001b[0m\u001b[1;33m(\u001b[0m\u001b[1;34m\"{0} covariance type not implemented yet\"\u001b[0m\u001b[1;33m.\u001b[0m\u001b[0mformat\u001b[0m\u001b[1;33m(\u001b[0m\u001b[0mcovariance_type\u001b[0m\u001b[1;33m)\u001b[0m\u001b[1;33m)\u001b[0m\u001b[1;33m\u001b[0m\u001b[0m\n\u001b[0m\u001b[0;32m      7\u001b[0m     \u001b[0mgmm\u001b[0m \u001b[1;33m=\u001b[0m \u001b[0mGMM\u001b[0m\u001b[1;33m(\u001b[0m\u001b[0mn_components\u001b[0m\u001b[1;33m,\u001b[0m \u001b[0mcovariance_type\u001b[0m\u001b[1;33m,\u001b[0m \u001b[0mn_init\u001b[0m\u001b[1;33m)\u001b[0m\u001b[1;33m\u001b[0m\u001b[0m\n\u001b[0;32m      8\u001b[0m     \u001b[0mgmm\u001b[0m\u001b[1;33m.\u001b[0m\u001b[0mfit\u001b[0m\u001b[1;33m(\u001b[0m\u001b[0mdata\u001b[0m\u001b[1;33m)\u001b[0m\u001b[1;33m\u001b[0m\u001b[0m\n",
        "\u001b[1;31mValueError\u001b[0m: mc covariance type not implemented yet"
       ]
      }
     ],
     "prompt_number": 138
    },
    {
     "cell_type": "code",
     "collapsed": false,
     "input": [
      "print model2.weights_"
     ],
     "language": "python",
     "metadata": {},
     "outputs": [
      {
       "output_type": "stream",
       "stream": "stdout",
       "text": [
        "[ 0.64400716  0.35599284]\n"
       ]
      }
     ],
     "prompt_number": 137
    },
    {
     "cell_type": "code",
     "collapsed": false,
     "input": [
      "model3 = gmm(oldfaithful, 3, 1000)"
     ],
     "language": "python",
     "metadata": {},
     "outputs": [
      {
       "output_type": "stream",
       "stream": "stdout",
       "text": [
        "log likelihood -1119.30521641\n",
        "\n",
        "cluster 1\n",
        "mean =       [3.71123095004  72.2547849922]\n",
        "covariance = [0.519558647418, 7.27159596757\n",
        "              7.27159596757, 126.739145127]\n",
        "\n",
        "cluster 2\n",
        "mean =       [1.99935696875  54.3621573515]\n",
        "covariance = [0.0459132409758, 0.341833995808\n",
        "              0.341833995808, 33.7636268829]\n",
        "\n",
        "cluster 3\n",
        "mean =       [4.33786034667  80.5490157076]\n",
        "covariance = [0.135103413992, 0.294598422882\n",
        "              0.294598422882, 27.5999511975]\n",
        "\n"
       ]
      }
     ],
     "prompt_number": 7
    },
    {
     "cell_type": "code",
     "collapsed": false,
     "input": [
      "model5 = gmm(oldfaithful, 5, 1000)"
     ],
     "language": "python",
     "metadata": {},
     "outputs": [
      {
       "output_type": "stream",
       "stream": "stdout",
       "text": [
        "log likelihood -1104.40352784\n",
        "\n",
        "cluster 1\n",
        "mean =       [2.20327272656  56.1746899764]\n",
        "covariance = [0.0630123830676, 0.248101605455\n",
        "              0.248101605455, 37.6382149055]\n",
        "\n",
        "cluster 2\n",
        "mean =       [4.49753869841  78.841317168]\n",
        "covariance = [0.0672204575485, 0.0923863465976\n",
        "              0.0923863465975, 12.6504574223]\n",
        "\n",
        "cluster 3\n",
        "mean =       [1.86453564416  52.7702802748]\n",
        "covariance = [0.010926322799, -0.0238098821237\n",
        "              -0.0238098821237, 24.0371520751]\n",
        "\n",
        "cluster 4\n",
        "mean =       [4.00960484193  74.3640805027]\n",
        "covariance = [0.207914266836, 2.03802497729\n",
        "              2.03802497729, 36.654292749]\n",
        "\n",
        "cluster 5\n",
        "mean =       [4.22241146018  84.6278284725]\n",
        "covariance = [0.182382607068, 1.06209686624\n",
        "              1.06209686624, 22.6370938415]\n",
        "\n"
       ]
      }
     ],
     "prompt_number": 8
    }
   ],
   "metadata": {}
  }
 ]
}