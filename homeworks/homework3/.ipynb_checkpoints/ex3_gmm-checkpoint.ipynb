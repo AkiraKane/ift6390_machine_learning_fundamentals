{
 "metadata": {
  "name": "",
  "signature": "sha256:70f2f40d303193d8e27894a8a932f8f923952696a1ccc41764ad11178598154d"
 },
 "nbformat": 3,
 "nbformat_minor": 0,
 "worksheets": [
  {
   "cells": [
    {
     "cell_type": "code",
     "collapsed": false,
     "input": [
      "%load_ext autoreload\n",
      "%autoreload 2\n",
      "import pylab\n",
      "%aimport numpy\n",
      "np=numpy"
     ],
     "language": "python",
     "metadata": {},
     "outputs": [],
     "prompt_number": 1
    },
    {
     "cell_type": "code",
     "collapsed": false,
     "input": [
      "import numpy\n",
      "import numpy.linalg\n",
      "from sklearn.mixture.gmm import GMM\n",
      "import matplotlib.pyplot as plt"
     ],
     "language": "python",
     "metadata": {},
     "outputs": [],
     "prompt_number": 2
    },
    {
     "cell_type": "code",
     "collapsed": false,
     "input": [
      "# get old faithful data (and see what it looks like)\n",
      "oldfaithful = numpy.loadtxt(\"faithful.txt\")\n",
      "plt.plot(oldfaithful[:, 0], oldfaithful[:,1], ls='', marker='o', color='0.8')\n",
      "plt.title(\"old faithful data\")\n",
      "plt.xlabel(\"eruption time in mins\")\n",
      "plt.ylabel(\"waiting time to next eruption (in mins)\")\n",
      "plt.show()"
     ],
     "language": "python",
     "metadata": {},
     "outputs": [],
     "prompt_number": 3
    },
    {
     "cell_type": "code",
     "collapsed": false,
     "input": [
      "# the function to plot the gaussian mixture (at 1 standard deviation)\n",
      "def plotGaussian(mean, covariance):\n",
      "    \"\"\" Plot a 2d gaussian with given mean and covariance. \"\"\"\n",
      "\n",
      "    t = numpy.arange(-numpy.pi, numpy.pi, 0.01)\n",
      "    k = len(t)\n",
      "    x = numpy.sin(t)[:, numpy.newaxis]\n",
      "    y = numpy.cos(t)[:, numpy.newaxis]\n",
      "\n",
      "    D, V = numpy.linalg.eigh(covariance)\n",
      "    A = numpy.real(numpy.dot(V, numpy.diag(numpy.sqrt(D))).T)\n",
      "    z = numpy.dot(numpy.hstack([x, y]), A)\n",
      "\n",
      "    pylab.hold('on')\n",
      "    pylab.plot(z[:,0]+mean[0], z[:,1]+mean[1], linewidth=2)\n",
      "    pylab.plot(numpy.array([mean[0]]), numpy.array([mean[1]]), \"kx\")\n",
      "    pylab.hold('off')"
     ],
     "language": "python",
     "metadata": {},
     "outputs": [],
     "prompt_number": 4
    },
    {
     "cell_type": "code",
     "collapsed": false,
     "input": [
      "# training function for the gaussian mixture model\n",
      "# the prng is set at initialization of the model\n",
      "def gmm(data, n_components, n_init, covariance_type='full'):\n",
      "    # train and return a gmm model on the old faithful dataset\n",
      "    if covariance_type != 'full':\n",
      "        raise ValueError(\"{0} covariance type not implemented yet\".format(covariance_type))\n",
      "    gmm = GMM(n_components, covariance_type, n_init)\n",
      "    gmm.fit(data)\n",
      "    for i in zip(gmm.means_, gmm.covars_):\n",
      "        plt.plot(i[0][0], i[0][1], marker='o', color='r')\n",
      "        plotGaussian(i[0], i[1])\n",
      "        \n",
      "    plt.plot(data[:, 0], data[:,1], ls='', marker='o', color='0.8')\n",
      "    plt.title(\"old faithful data, GMM with K = {0}\".format(n_components))\n",
      "    plt.xlabel(\"eruption time in mins\")\n",
      "    plt.ylabel(\"waiting time to next eruption (in mins)\")\n",
      "    plt.show()\n",
      "    print(\"log likelihood {0}\\n\".format(gmm.score(data).sum()))\n",
      "    for i in range(0, len(gmm.means_)):\n",
      "        m1, m2 = gmm.means_[i]\n",
      "        c1,c2,c3,c4 = numpy.ndarray.flatten(gmm.covars_[i])\n",
      "        print(\"cluster {0}\".format(i+1))\n",
      "        print(\"mean =       [{0}  {1}]\".format(m1, m2))\n",
      "        print(\"covariance = [{0}, {1}\\n              {2}, {3}]\\n\").format(c1, c2, c3, c4)\n",
      "    return gmm"
     ],
     "language": "python",
     "metadata": {},
     "outputs": [],
     "prompt_number": 5
    },
    {
     "cell_type": "code",
     "collapsed": false,
     "input": [
      "model2 = gmm(oldfaithful, 2, 1000)"
     ],
     "language": "python",
     "metadata": {},
     "outputs": [
      {
       "output_type": "stream",
       "stream": "stdout",
       "text": [
        "log likelihood -1130.27331034\n",
        "\n",
        "cluster 1\n",
        "mean =       [4.28991862055  79.9712275961]\n",
        "covariance = [0.170645503856, 0.936475696686\n",
        "              0.936475696686, 36.0005780255]\n",
        "\n",
        "cluster 2\n",
        "mean =       [2.03668359346  54.4814766795]\n",
        "covariance = [0.0704045010167, 0.437649451329\n",
        "              0.437649451329, 33.7153465963]\n",
        "\n"
       ]
      }
     ],
     "prompt_number": 6
    },
    {
     "cell_type": "code",
     "collapsed": false,
     "input": [
      "model3 = gmm(oldfaithful, 3, 1000)"
     ],
     "language": "python",
     "metadata": {},
     "outputs": [
      {
       "output_type": "stream",
       "stream": "stdout",
       "text": [
        "log likelihood -1119.30521641\n",
        "\n",
        "cluster 1\n",
        "mean =       [3.71123095004  72.2547849922]\n",
        "covariance = [0.519558647418, 7.27159596757\n",
        "              7.27159596757, 126.739145127]\n",
        "\n",
        "cluster 2\n",
        "mean =       [1.99935696875  54.3621573515]\n",
        "covariance = [0.0459132409758, 0.341833995808\n",
        "              0.341833995808, 33.7636268829]\n",
        "\n",
        "cluster 3\n",
        "mean =       [4.33786034667  80.5490157076]\n",
        "covariance = [0.135103413992, 0.294598422882\n",
        "              0.294598422882, 27.5999511975]\n",
        "\n"
       ]
      }
     ],
     "prompt_number": 7
    },
    {
     "cell_type": "code",
     "collapsed": false,
     "input": [
      "model5 = gmm(oldfaithful, 5, 1000)"
     ],
     "language": "python",
     "metadata": {},
     "outputs": [
      {
       "output_type": "stream",
       "stream": "stdout",
       "text": [
        "log likelihood -1104.40352784\n",
        "\n",
        "cluster 1\n",
        "mean =       [2.20327272656  56.1746899764]\n",
        "covariance = [0.0630123830676, 0.248101605455\n",
        "              0.248101605455, 37.6382149055]\n",
        "\n",
        "cluster 2\n",
        "mean =       [4.49753869841  78.841317168]\n",
        "covariance = [0.0672204575485, 0.0923863465976\n",
        "              0.0923863465975, 12.6504574223]\n",
        "\n",
        "cluster 3\n",
        "mean =       [1.86453564416  52.7702802748]\n",
        "covariance = [0.010926322799, -0.0238098821237\n",
        "              -0.0238098821237, 24.0371520751]\n",
        "\n",
        "cluster 4\n",
        "mean =       [4.00960484193  74.3640805027]\n",
        "covariance = [0.207914266836, 2.03802497729\n",
        "              2.03802497729, 36.654292749]\n",
        "\n",
        "cluster 5\n",
        "mean =       [4.22241146018  84.6278284725]\n",
        "covariance = [0.182382607068, 1.06209686624\n",
        "              1.06209686624, 22.6370938415]\n",
        "\n"
       ]
      }
     ],
     "prompt_number": 8
    }
   ],
   "metadata": {}
  }
 ]
}