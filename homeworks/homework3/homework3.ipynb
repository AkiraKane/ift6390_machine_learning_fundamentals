{
 "metadata": {
  "name": "",
  "signature": "sha256:0be9278d45b37eac5fb2f5a621f243a878d39e352e1944cf89d8287a7b08cce7"
 },
 "nbformat": 3,
 "nbformat_minor": 0,
 "worksheets": [
  {
   "cells": [
    {
     "cell_type": "code",
     "collapsed": false,
     "input": [
      "%load_ext autoreload\n",
      "%autoreload 2\n",
      "#%pylab inline\n",
      "%aimport numpy\n",
      "np=numpy"
     ],
     "language": "python",
     "metadata": {},
     "outputs": [],
     "prompt_number": 1
    },
    {
     "cell_type": "code",
     "collapsed": false,
     "input": [
      "import numpy\n",
      "from sklearn.decomposition import PCA\n",
      "import matplotlib.pyplot as plt"
     ],
     "language": "python",
     "metadata": {},
     "outputs": [],
     "prompt_number": 2
    },
    {
     "cell_type": "code",
     "collapsed": false,
     "input": [
      "train_x = numpy.loadtxt(\"train_images.txt\", delimiter=\",\")\n",
      "train_y =  numpy.array(map(numpy.argmax, numpy.loadtxt(\"train_labels.txt\", delimiter=\",\")))\n",
      "test_x = numpy.loadtxt(\"test_images.txt\", delimiter=\",\")\n",
      "test_y =  numpy.array(map(numpy.argmax, numpy.loadtxt(\"test_labels.txt\", delimiter=\",\")))"
     ],
     "language": "python",
     "metadata": {},
     "outputs": [],
     "prompt_number": 3
    },
    {
     "cell_type": "code",
     "collapsed": false,
     "input": [
      "# fit the PCA on the training data, 2 components\n",
      "classifier = PCA(n_components=2)\n",
      "classifier.fit(train_x)\n",
      "transformed_data = classifier.transform(test_x)"
     ],
     "language": "python",
     "metadata": {},
     "outputs": [],
     "prompt_number": 4
    },
    {
     "cell_type": "code",
     "collapsed": false,
     "input": [
      "# separate the set per class\n",
      "separated_data = dict()\n",
      "\n",
      "for i in range(0, len(test_y)):\n",
      "    if (test_y[i] in separated_data):\n",
      "        separated_data[test_y[i]] = np.vstack((separated_data[test_y[i]], transformed_data[i]))\n",
      "    else:\n",
      "        separated_data[test_y[i]] = transformed_data[i]"
     ],
     "language": "python",
     "metadata": {},
     "outputs": [],
     "prompt_number": 5
    },
    {
     "cell_type": "code",
     "collapsed": false,
     "input": [
      "# let's plot it\n",
      "for i in range(0, 10):\n",
      "    plt.figure(i+1)\n",
      "    data = separated_data[i]\n",
      "    plt.scatter(data[:, 0], data[:, 1], color='black', marker='o')\n",
      "    plt.xlabel('first component')\n",
      "    plt.ylabel('second component')\n",
      "    plt.title('tranformed data for class {0}'.format(i))\n",
      "    plt.show()"
     ],
     "language": "python",
     "metadata": {},
     "outputs": [],
     "prompt_number": 8
    }
   ],
   "metadata": {}
  }
 ]
}