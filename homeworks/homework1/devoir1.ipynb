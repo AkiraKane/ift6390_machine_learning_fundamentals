{
 "metadata": {
  "name": "",
  "signature": "sha256:c4c9d1f239f6cf97fbdb6088a489720c3295a21e4f519cfd84f8346ca3b4bbae"
 },
 "nbformat": 3,
 "nbformat_minor": 0,
 "worksheets": [
  {
   "cells": [
    {
     "cell_type": "heading",
     "level": 1,
     "metadata": {},
     "source": [
      "IFT3395/6390 Devoir 1"
     ]
    },
    {
     "cell_type": "heading",
     "level": 2,
     "metadata": {},
     "source": [
      "Q.1"
     ]
    },
    {
     "cell_type": "markdown",
     "metadata": {},
     "source": [
      "La distribution de bernouilli est d\u00e9finie par \n",
      "$$P(x) = p^x(1-p)^{1-x}$$\n",
      "o\u00f9 $x \\in \\{0, 1\\}$ et $p \\in (0, 1)$.\n",
      "\n",
      "La log vraisemblance se calcul selon\n",
      "\n",
      "$$\\begin{array}[b]{l}\n",
      "    E &= \\log \\prod_n P(x_n) \\\\\n",
      "      &= \\sum_n \\log P(x_n) \\\\\n",
      "      &= \\sum_n \\log\\left(p^x_n(1-p)^{1-x_n}\\right) \\\\\n",
      "      &= \\sum_n \\log p^x_n + \\log (1-p)^{1-x_n} \\\\\n",
      "      &= \\sum_n x_n\\log p + (1-x_n)\\log (1-p) \\\\\n",
      "\\end{array}$$\n",
      "\n",
      "\n",
      "\n",
      "On peut donc calculer la d\u00e9riv\u00e9 de $E$ par rapport \u00e0 $p$.\n",
      "\n",
      "\n",
      "$$\\begin{array}[b]{l}\n",
      "  \\frac{\\partial E}{\\partial p} &= \\sum_n \\frac{\\partial}{\\partial p} &x_n\\log p &+ \n",
      "                                       \\frac{\\partial}{\\partial p} &(1-x_n)\\log (1-p) \\\\\n",
      "                                &= \\sum_n &\\frac{x_n}{p} &+ &\\frac{1-x_n}{1-p}(-1) \\\\\n",
      "\\end{array}$$\n",
      "\n",
      "En simplifiant\n",
      "\n",
      "$$\\begin{array}[b]{l}\n",
      "  \\frac{\\partial E}{\\partial p} &= \\sum_n \\frac{(1-p)x_n - p(1-x_n)}{p(1-p)}\\\\\n",
      "                                &= \\sum_n \\frac{x_n - px_n - p + x_n}{p(1-p)}\\\\\n",
      "                                &= \\sum_n \\frac{x_n - p}{p(1-p)}\\\\\n",
      "\\end{array}$$\n",
      "\n",
      "On fixe \u00e0 0\n",
      "\n",
      "$$\\frac{\\partial E}{\\partial p} = \\sum_n \\frac{x_n - p}{p(1-p)} = 0$$\n",
      "\n",
      "On annule le d\u00e9nominateur\n",
      "\n",
      "$$\\sum_n x_n - p = 0$$\n",
      "\n",
      "Et on retire $p$ de la somme\n",
      "\n",
      "$$\\sum_n x_n - \\sum_n p = \\sum_n x_n - np = 0$$\n",
      "\n",
      "Et voil\u00e0\n",
      "\n",
      "$$p = \\frac{1}{n}\\sum_n x_n$$"
     ]
    },
    {
     "cell_type": "heading",
     "level": 2,
     "metadata": {},
     "source": [
      "Q.2"
     ]
    },
    {
     "cell_type": "markdown",
     "metadata": {},
     "source": [
      "1. On entra\u00eene une gaussienne diff\u00e9rente avec une variance diagonale sur les donn\u00e9es de chaque classes\n",
      "2. On calcule les probabilit\u00e9s \u00e0 priori de chaque classe. (l'ordre de 1. et 2. n'importe pas)\n",
      "2. On calcule la probabilit\u00e9 p(x|C_k) d'un exemple pour chaque gaussienne et la pr\u00e9diction du mod\u00e8le est k tel que p(x|c_k) est maximal\n",
      "\n",
      "Pour chaque gaussienne, on a $d$ param\u00e8tres pour la moyenne et $d$ param\u00e8tres pour la variance puisqu'il s'agit d'une gausienne diagonale (classifieur na\u00eff). Soit $c$ le nombre de classes, on a donc $2cd$ param\u00e8tres. On peut compter aussi les probabilit\u00e9 \u00e0 priori, ce qui m\u00e8ne \u00e0 $2cd + c$ param\u00e8tres.\n",
      "\n",
      "Estimations du maximum de vraisemblance:\n",
      "\n",
      "$$\\vec{\\mu} = \\frac{1}{n}\\sum_{i=1}^n X_i$$\n",
      "$$diag(\\Sigma) = \\frac{1}{n}\\sum_{i=1}^n (X_i-\\vec{\\mu})^2$$"
     ]
    },
    {
     "cell_type": "heading",
     "level": 2,
     "metadata": {},
     "source": [
      "Q.3"
     ]
    },
    {
     "cell_type": "code",
     "collapsed": false,
     "input": [
      "%pylab inline\n",
      "import numpy as np\n",
      "\n",
      "train_x = np.loadtxt(\"train_images.txt\", delimiter=\",\")\n",
      "train_y = np.loadtxt(\"train_labels.txt\", delimiter=\",\")\n",
      "test_x = np.loadtxt(\"test_images.txt\", delimiter=\",\")\n",
      "test_y = np.loadtxt(\"test_labels.txt\", delimiter=\",\")\n",
      "\n",
      "X = train_x\n",
      "\n",
      "l=0.1\n",
      "\n",
      "def train(X, T, l):\n",
      "    W = np.dot(np.dot(np.linalg.inv(np.dot(X.T, X) + l*np.identity(784)),X.T),T)\n",
      "    return W\n",
      "\n",
      "def test(W, X, T):\n",
      "    predictions = np.dot(X, W).argmax(1)\n",
      "    truth_value = T.argmax(1)\n",
      "    return (predictions != truth_value).mean() * 100.\n",
      "    \n",
      "lambdas = np.logspace(np.log10(10e-5), np.log10(10e5), 20.)\n",
      "train_error_rates = []\n",
      "test_error_rates = []\n",
      "\n",
      "for l in lambdas:\n",
      "    print l,\n",
      "    W = train(train_x, train_y, l)\n",
      "    train_error_rates.append(test(W, train_x, train_y))\n",
      "    test_error_rates.append(test(W, test_x, test_y))\n",
      "    print train_error_rates[-1],\n",
      "    print test_error_rates[-1]"
     ],
     "language": "python",
     "metadata": {},
     "outputs": [
      {
       "output_type": "stream",
       "stream": "stdout",
       "text": [
        "Populating the interactive namespace from numpy and matplotlib\n",
        "0.0001"
       ]
      },
      {
       "output_type": "stream",
       "stream": "stdout",
       "text": [
        " 0.3 33.5\n",
        "0.000335981828628 "
       ]
      },
      {
       "output_type": "stream",
       "stream": "stdout",
       "text": [
        "0.3 33.6\n",
        "0.00112883789168 "
       ]
      },
      {
       "output_type": "stream",
       "stream": "stdout",
       "text": [
        "0.3 33.6\n",
        "0.00379269019073 "
       ]
      },
      {
       "output_type": "stream",
       "stream": "stdout",
       "text": [
        "0.3 33.2\n",
        "0.012742749857 "
       ]
      },
      {
       "output_type": "stream",
       "stream": "stdout",
       "text": [
        "0.3 33.4\n",
        "0.0428133239872 "
       ]
      },
      {
       "output_type": "stream",
       "stream": "stdout",
       "text": [
        "0.3 32.6\n",
        "0.143844988829 "
       ]
      },
      {
       "output_type": "stream",
       "stream": "stdout",
       "text": [
        "0.3 31.4\n",
        "0.483293023857 "
       ]
      },
      {
       "output_type": "stream",
       "stream": "stdout",
       "text": [
        "0.6 29.1\n",
        "1.62377673919 "
       ]
      },
      {
       "output_type": "stream",
       "stream": "stdout",
       "text": [
        "0.7 26.5\n",
        "5.45559478117 "
       ]
      },
      {
       "output_type": "stream",
       "stream": "stdout",
       "text": [
        "1.4 21.1\n",
        "18.3298071083 "
       ]
      },
      {
       "output_type": "stream",
       "stream": "stdout",
       "text": [
        "2.9 17.9\n",
        "61.5848211066 "
       ]
      },
      {
       "output_type": "stream",
       "stream": "stdout",
       "text": [
        "5.5 16.8\n",
        "206.913808111 "
       ]
      },
      {
       "output_type": "stream",
       "stream": "stdout",
       "text": [
        "10.4 16.2\n",
        "695.192796178 "
       ]
      },
      {
       "output_type": "stream",
       "stream": "stdout",
       "text": [
        "14.8 17.7\n",
        "2335.72146909 "
       ]
      },
      {
       "output_type": "stream",
       "stream": "stdout",
       "text": [
        "17.9 20.7\n",
        "7847.59970351 "
       ]
      },
      {
       "output_type": "stream",
       "stream": "stdout",
       "text": [
        "22.1 26.2\n",
        "26366.5089873 "
       ]
      },
      {
       "output_type": "stream",
       "stream": "stdout",
       "text": [
        "23.9 27.6\n",
        "88586.679041 "
       ]
      },
      {
       "output_type": "stream",
       "stream": "stdout",
       "text": [
        "25.5 29.1\n",
        "297635.144163 "
       ]
      },
      {
       "output_type": "stream",
       "stream": "stdout",
       "text": [
        "26.7 30.3\n",
        "1000000.0 "
       ]
      },
      {
       "output_type": "stream",
       "stream": "stdout",
       "text": [
        "27.2 30.6\n"
       ]
      }
     ],
     "prompt_number": 1
    },
    {
     "cell_type": "code",
     "collapsed": false,
     "input": [
      "fig, ax = plt.subplots()\n",
      "\n",
      "line1, = ax.plot(lambdas, train_error_rates, linewidth=2)\n",
      "line2, = ax.plot(lambdas, test_error_rates, linewidth=2)\n",
      "\n",
      "ax.set_xscale(\"log\")\n",
      "ax.set_xticks(np.logspace(np.log10(min(lambdas)), np.log10(max(lambdas)), 6.))\n",
      "\n",
      "ax.set_xlabel(\"lambda\")\n",
      "\n",
      "ax.set_yticks(np.linspace(0, 40, 5))\n",
      "ax.set_yticklabels([\"%d%%\" % i for i in np.linspace(0, 40, 5)])\n",
      "\n",
      "ax.set_ylabel(\"Taux d'erreur\")\n",
      "\n",
      "ax.set_title(\"Courbe d'apprentissage\")\n",
      "\n",
      "legend = ax.legend([line1, line2], [u\"Ensemble d'entra\u00eenement\", \"Ensemble de test\"],\n",
      "                loc=\"upper center\", ncol=2, bbox_to_anchor=(0.5, -0.17))"
     ],
     "language": "python",
     "metadata": {},
     "outputs": [
      {
       "metadata": {},
       "output_type": "display_data",
       "png": "[encoded data removed]",
       "text": [
        "<matplotlib.figure.Figure at 0x58059d0>"
       ]
      }
     ],
     "prompt_number": 3
    },
    {
     "cell_type": "heading",
     "level": 2,
     "metadata": {},
     "source": [
      "Q.4"
     ]
    },
    {
     "cell_type": "code",
     "collapsed": false,
     "input": [
      "%pylab inline\n",
      "import numpy as np\n",
      "\n",
      "images_train = numpy.loadtxt(\"./train_images.txt\", delimiter=\",\")\n",
      "labels_train = numpy.loadtxt(\"./train_labels.txt\", delimiter=\",\")\n",
      "images_test = numpy.loadtxt(\"./test_images.txt\", delimiter=\",\")\n",
      "labels_test = numpy.loadtxt(\"./test_labels.txt\", delimiter=\",\")\n",
      "\n",
      "numcases_train, numclasses = labels_train.shape\n",
      "numcases_test, numdims = images_test.shape\n",
      "\n",
      "#NAIVE BAYES:\n",
      "classconditionals = numpy.zeros((numclasses, numdims))\n",
      "classpriors = labels_train.sum(0) / float(numcases_train)\n",
      "for k in range(numclasses):\n",
      "    classconditionals[k, :] = (images_train[labels_train[:,k]==1, :].sum(0) + 1.0 + 0.0) / ((labels_train[:,k]==1).sum()+2.0)\n",
      "\n",
      "#visualize class prior probabilities:\n",
      "ax = pylab.subplot2grid((2, numclasses), (0,0), colspan=numclasses)\n",
      "bars = ax.bar(range(numclasses), classpriors)\n",
      "pylab.xlabel(\"class\")\n",
      "pylab.ylabel(\"prior probability\")\n",
      "\n",
      "\n",
      "#visualize class-conditional probabilities:\n",
      "for k in range(numclasses):\n",
      "    ax = pylab.subplot2grid((2, numclasses), (1, k))\n",
      "    ax.imshow(classconditionals[k, :].reshape(28, 28), interpolation='nearest')\n",
      "    pylab.gray()\n",
      "    pylab.axis(\"off\")\n",
      "\n",
      "pylab.show()\n",
      "\n",
      "\n",
      "#do classification: \n",
      "scores_train = numpy.zeros((numcases_train, numclasses))\n",
      "scores_test = numpy.zeros((images_test.shape[0], numclasses))\n",
      "for k in range(numclasses):\n",
      "    scores_train[:, k] = (images_train*numpy.log(classconditionals[k, :]) + (1-images_train) * numpy.log(1-classconditionals[k, :])).sum(1)+numpy.log(classpriors[k])\n",
      "    scores_test[:, k] = (images_test*numpy.log(classconditionals[k, :]) + (1-images_test) * numpy.log(1-classconditionals[k, :])).sum(1)+numpy.log(classpriors[k])\n",
      "\n",
      "print \"NAIVE BAYES: \"\n",
      "print \"error rate train: \", 1.0 - (numpy.argmax(scores_train, 1) == numpy.argmax(labels_train, 1)).sum() / numpy.float(numcases_train)\n",
      "print \"error rate test: \", 1.0 - (numpy.argmax(scores_test, 1) == numpy.argmax(labels_test, 1)).sum() / numpy.float(numcases_test)\n"
     ],
     "language": "python",
     "metadata": {},
     "outputs": [
      {
       "output_type": "stream",
       "stream": "stdout",
       "text": [
        "Populating the interactive namespace from numpy and matplotlib\n"
       ]
      },
      {
       "metadata": {},
       "output_type": "display_data",
       "png": "[encoded data removed]",
       "text": [
        "<matplotlib.figure.Figure at 0x7f09b6f4a490>"
       ]
      },
      {
       "output_type": "stream",
       "stream": "stdout",
       "text": [
        "NAIVE BAYES: \n",
        "error rate train:  0.149\n",
        "error rate test:  0.198\n"
       ]
      }
     ],
     "prompt_number": 158
    },
    {
     "cell_type": "heading",
     "level": 1,
     "metadata": {},
     "source": [
      "Q.5"
     ]
    },
    {
     "cell_type": "markdown",
     "metadata": {},
     "source": [
      "$$\\begin{array}[b]{l}\n",
      "    \\frac{\\partial}{\\partial y_k} \\log p(t_n | x_n) \n",
      "                 &= \\frac{\\partial}{\\partial y_k}\\log\\frac{\\exp(y_k(x_n))}{\\sum_j\\exp(y_j(x_n))} \\\\\n",
      "                 &= \\frac{\\partial}{\\partial y_k} \\left(\\log \\exp(y_k(x_n)) - \\log \\sum_j\\exp(y_j(x_n))\\right) \\\\\n",
      "                 &= \\frac{\\partial}{\\partial y_k} \\left(y_k(x_n) - \\log \\sum_j\\exp(y_j(x_n))\\right) \\\\\n",
      "                 &= \\left(1 - \\frac{1}{\\sum_j\\exp(y_j(x_n))}\\exp(y_k(x_n)) \\right) \\\\\n",
      "                 &= \\left(1 - p(C_k | x)) \\right) \\\\\n",
      "\\end{array}$$"
     ]
    }
   ],
   "metadata": {}
  }
 ]
}