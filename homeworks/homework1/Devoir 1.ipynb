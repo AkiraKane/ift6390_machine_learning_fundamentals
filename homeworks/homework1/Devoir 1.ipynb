{
 "metadata": {
  "name": ""
 },
 "nbformat": 3,
 "nbformat_minor": 0,
 "worksheets": [
  {
   "cells": [
    {
     "cell_type": "heading",
     "level": 1,
     "metadata": {},
     "source": [
      "IFT6390\n",
      "Homework 1\n",
      "Gabriel C-Parent"
     ]
    },
    {
     "cell_type": "heading",
     "level": 2,
     "metadata": {},
     "source": [
      "Setting up the context"
     ]
    },
    {
     "cell_type": "code",
     "collapsed": false,
     "input": [
      "# libs and context\n",
      "%load_ext autoreload\n",
      "%autoreload 2\n",
      "%pylab inline\n",
      "%aimport numpy\n",
      "np=numpy"
     ],
     "language": "python",
     "metadata": {},
     "outputs": [
      {
       "output_type": "stream",
       "stream": "stdout",
       "text": [
        "Populating the interactive namespace from numpy and matplotlib\n"
       ]
      }
     ],
     "prompt_number": 2
    },
    {
     "cell_type": "code",
     "collapsed": false,
     "input": [
      "# data (train and test both)\n",
      "train_set = np.loadtxt(\"train_images.txt\", delimiter=\",\")\n",
      "train_labels = np.loadtxt(\"train_labels.txt\", delimiter=\",\")\n",
      "\n",
      "test_set = np.loadtxt(\"test_images.txt\", delimiter=\",\")\n",
      "test_labels = np.loadtxt(\"test_labels.txt\", delimiter=\",\")"
     ],
     "language": "python",
     "metadata": {},
     "outputs": [],
     "prompt_number": 3
    },
    {
     "cell_type": "heading",
     "level": 2,
     "metadata": {},
     "source": [
      "The linear classifier model"
     ]
    },
    {
     "cell_type": "code",
     "collapsed": false,
     "input": [
      "class linearClassifier(object):\n",
      "    def __init__(self, shape):\n",
      "        self.shape = shape\n",
      "        self.W = np.zeros((shape[0], shape[1]))\n",
      "    \n",
      "    def train(self, lmb, x, y):\n",
      "        \"\"\"train the weights on the data, given the regularization parameter\n",
      "           using ridge regression\n",
      "           inspired by mlpy ridge regression's code\n",
      "           https://github.com/sauliusl/mlpy/blob/master/mlpy/ridge.py\"\"\"\n",
      "        \n",
      "        # (X'X + lambda I)^-1 X'Y\n",
      "        left = np.dot(x.T, x)\n",
      "        left = left + (lmb * np.identity(x.shape[1]))\n",
      "        left = np.linalg.inv(left)\n",
      "        right = np.dot(x.T, y)\n",
      "        self.W = np.dot(left, right)\n",
      "        \n",
      "    def compute_predictions(self, test_data):\n",
      "        return np.argmax(np.dot(test_data, self.W), axis=1)\n",
      "    \n",
      "    def check_fit(self, x, y):\n",
      "        number_of_examples = x.shape[0]\n",
      "        number_of_successful = np.sum(self.compute_predictions(x) == np.argmax(y, axis=1))\n",
      "        \n",
      "        return (number_of_successful, number_of_examples, float(number_of_successful)/number_of_examples)\n",
      "        "
     ],
     "language": "python",
     "metadata": {},
     "outputs": [],
     "prompt_number": 4
    },
    {
     "cell_type": "heading",
     "level": 2,
     "metadata": {},
     "source": [
      "Training the classifier\n"
     ]
    },
    {
     "cell_type": "code",
     "collapsed": false,
     "input": [
      "def train_classifier(lmbd):\n",
      "    \"\"\"train a linear classifier on the training set @ lmbd of regularization penalty\"\"\"\n",
      "    classifier = linearClassifier((784, 10))\n",
      "    classifier.train(lmbd, train_set, train_labels)\n",
      "    return classifier\n"
     ],
     "language": "python",
     "metadata": {},
     "outputs": [],
     "prompt_number": 5
    },
    {
     "cell_type": "heading",
     "level": 2,
     "metadata": {},
     "source": [
      "Testing the classifier"
     ]
    },
    {
     "cell_type": "code",
     "collapsed": false,
     "input": [
      "def test_classifier(classifier):\n",
      "    training_perf = classifier.check_fit(train_set, train_labels)\n",
      "    testing_perf = classifier.check_fit(test_set, test_labels)\n",
      "    print \"performance on training: \" + str(training_perf)\n",
      "    print \"performance on testing : \" + str(testing_perf) + \"\\n\"\n",
      "    return (training_perf, testing_perf)\n",
      "\n"
     ],
     "language": "python",
     "metadata": {},
     "outputs": [],
     "prompt_number": 6
    },
    {
     "cell_type": "heading",
     "level": 2,
     "metadata": {},
     "source": [
      "Testing all the classifiers! (not all... but many)"
     ]
    },
    {
     "cell_type": "code",
     "collapsed": false,
     "input": [
      "classifiers = [train_classifier(lmbd) for lmbd in range(1, 100)]"
     ],
     "language": "python",
     "metadata": {},
     "outputs": [],
     "prompt_number": 7
    },
    {
     "cell_type": "code",
     "collapsed": false,
     "input": [
      "performances = [test_classifier(classifier) for classifier in classifiers]"
     ],
     "language": "python",
     "metadata": {},
     "outputs": [
      {
       "output_type": "stream",
       "stream": "stdout",
       "text": [
        "performance on training: (993, 1000, 0.993)\n",
        "performance on testing : (719, 1000, 0.719)\n",
        "\n",
        "performance on training: (992, 1000, 0.992)\n",
        "performance on testing : (747, 1000, 0.747)\n",
        "\n",
        "performance on training: (990, 1000, 0.99)\n",
        "performance on testing : (764, 1000, 0.764)\n",
        "\n",
        "performance on training: (988, 1000, 0.988)\n",
        "performance on testing : (776, 1000, 0.776)\n",
        "\n",
        "performance on training: (986, 1000, 0.986)\n",
        "performance on testing : (783, 1000, 0.783)\n",
        "\n",
        "performance on training: (984, 1000, 0.984)\n",
        "performance on testing : (792, 1000, 0.792)\n",
        "\n",
        "performance on training: (982, 1000, 0.982)\n",
        "performance on testing : (799, 1000, 0.799)\n",
        "\n",
        "performance on training: (981, 1000, 0.981)\n",
        "performance on testing : (801, 1000, 0.801)\n",
        "\n",
        "performance on training: (980, 1000, 0.98)"
       ]
      },
      {
       "output_type": "stream",
       "stream": "stdout",
       "text": [
        "\n",
        "performance on testing : (806, 1000, 0.806)\n",
        "\n",
        "performance on training: (980, 1000, 0.98)\n",
        "performance on testing : (809, 1000, 0.809)\n",
        "\n",
        "performance on training: (979, 1000, 0.979)\n",
        "performance on testing : (808, 1000, 0.808)\n",
        "\n",
        "performance on training: (978, 1000, 0.978)\n",
        "performance on testing : (809, 1000, 0.809)\n",
        "\n",
        "performance on training: (977, 1000, 0.977)\n",
        "performance on testing : (811, 1000, 0.811)\n",
        "\n",
        "performance on training: (976, 1000, 0.976)\n",
        "performance on testing : (812, 1000, 0.812)\n",
        "\n",
        "performance on training: (972, 1000, 0.972)\n",
        "performance on testing : (815, 1000, 0.815)\n",
        "\n",
        "performance on training: (972, 1000, 0.972)\n",
        "performance on testing : (820, 1000, 0.82)\n",
        "\n",
        "performance on training: (972, 1000, 0.972)"
       ]
      },
      {
       "output_type": "stream",
       "stream": "stdout",
       "text": [
        "\n",
        "performance on testing : (820, 1000, 0.82)\n",
        "\n",
        "performance on training: (971, 1000, 0.971)\n",
        "performance on testing : (821, 1000, 0.821)\n",
        "\n",
        "performance on training: (971, 1000, 0.971)\n",
        "performance on testing : (821, 1000, 0.821)\n",
        "\n",
        "performance on training: (971, 1000, 0.971)\n",
        "performance on testing : (823, 1000, 0.823)\n",
        "\n",
        "performance on training: (971, 1000, 0.971)\n",
        "performance on testing : (825, 1000, 0.825)\n",
        "\n",
        "performance on training: (970, 1000, 0.97)\n",
        "performance on testing : (826, 1000, 0.826)\n",
        "\n",
        "performance on training: (968, 1000, 0.968)\n",
        "performance on testing : (827, 1000, 0.827)\n",
        "\n",
        "performance on training: (968, 1000, 0.968)\n",
        "performance on testing : (828, 1000, 0.828)\n",
        "\n",
        "performance on training: (967, 1000, 0.967)"
       ]
      },
      {
       "output_type": "stream",
       "stream": "stdout",
       "text": [
        "\n",
        "performance on testing : (829, 1000, 0.829)\n",
        "\n",
        "performance on training: (967, 1000, 0.967)\n",
        "performance on testing : (829, 1000, 0.829)\n",
        "\n",
        "performance on training: (966, 1000, 0.966)\n",
        "performance on testing : (829, 1000, 0.829)\n",
        "\n",
        "performance on training: (966, 1000, 0.966)\n",
        "performance on testing : (828, 1000, 0.828)\n",
        "\n",
        "performance on training: (965, 1000, 0.965)\n",
        "performance on testing : (829, 1000, 0.829)\n",
        "\n",
        "performance on training: (965, 1000, 0.965)\n",
        "performance on testing : (829, 1000, 0.829)\n",
        "\n",
        "performance on training: (964, 1000, 0.964)\n",
        "performance on testing : (828, 1000, 0.828)\n",
        "\n",
        "performance on training: (963, 1000, 0.963)\n",
        "performance on testing : (828, 1000, 0.828)\n",
        "\n",
        "performance on training: (963, 1000, 0.963)"
       ]
      },
      {
       "output_type": "stream",
       "stream": "stdout",
       "text": [
        "\n",
        "performance on testing : (831, 1000, 0.831)\n",
        "\n",
        "performance on training: (962, 1000, 0.962)\n",
        "performance on testing : (831, 1000, 0.831)\n",
        "\n",
        "performance on training: (962, 1000, 0.962)\n",
        "performance on testing : (832, 1000, 0.832)\n",
        "\n",
        "performance on training: (962, 1000, 0.962)\n",
        "performance on testing : (833, 1000, 0.833)\n",
        "\n",
        "performance on training: (960, 1000, 0.96)\n",
        "performance on testing : (833, 1000, 0.833)\n",
        "\n",
        "performance on training: (959, 1000, 0.959)\n",
        "performance on testing : (833, 1000, 0.833)\n",
        "\n",
        "performance on training: (957, 1000, 0.957)\n",
        "performance on testing : (833, 1000, 0.833)\n",
        "\n",
        "performance on training: (957, 1000, 0.957)\n",
        "performance on testing : (833, 1000, 0.833)\n",
        "\n",
        "performance on training: (956, 1000, 0.956)"
       ]
      },
      {
       "output_type": "stream",
       "stream": "stdout",
       "text": [
        "\n",
        "performance on testing : (832, 1000, 0.832)\n",
        "\n",
        "performance on training: (955, 1000, 0.955)\n",
        "performance on testing : (831, 1000, 0.831)\n",
        "\n",
        "performance on training: (954, 1000, 0.954)\n",
        "performance on testing : (833, 1000, 0.833)\n",
        "\n",
        "performance on training: (953, 1000, 0.953)\n",
        "performance on testing : (832, 1000, 0.832)\n",
        "\n",
        "performance on training: (950, 1000, 0.95)\n",
        "performance on testing : (831, 1000, 0.831)\n",
        "\n",
        "performance on training: (950, 1000, 0.95)\n",
        "performance on testing : (831, 1000, 0.831)\n",
        "\n",
        "performance on training: (950, 1000, 0.95)\n",
        "performance on testing : (831, 1000, 0.831)\n",
        "\n",
        "performance on training: (950, 1000, 0.95)\n",
        "performance on testing : (831, 1000, 0.831)\n",
        "\n",
        "performance on training: (949, 1000, 0.949)"
       ]
      },
      {
       "output_type": "stream",
       "stream": "stdout",
       "text": [
        "\n",
        "performance on testing : (830, 1000, 0.83)\n",
        "\n",
        "performance on training: (948, 1000, 0.948)\n",
        "performance on testing : (831, 1000, 0.831)\n",
        "\n",
        "performance on training: (948, 1000, 0.948)\n",
        "performance on testing : (831, 1000, 0.831)\n",
        "\n",
        "performance on training: (948, 1000, 0.948)\n",
        "performance on testing : (831, 1000, 0.831)\n",
        "\n",
        "performance on training: (948, 1000, 0.948)\n",
        "performance on testing : (830, 1000, 0.83)\n",
        "\n",
        "performance on training: (946, 1000, 0.946)\n",
        "performance on testing : (830, 1000, 0.83)\n",
        "\n",
        "performance on training: (946, 1000, 0.946)\n",
        "performance on testing : (831, 1000, 0.831)\n",
        "\n",
        "performance on training: (946, 1000, 0.946)\n",
        "performance on testing : (832, 1000, 0.832)\n",
        "\n",
        "performance on training: (946, 1000, 0.946)"
       ]
      },
      {
       "output_type": "stream",
       "stream": "stdout",
       "text": [
        "\n",
        "performance on testing : (832, 1000, 0.832)\n",
        "\n",
        "performance on training: (946, 1000, 0.946)\n",
        "performance on testing : (832, 1000, 0.832)\n",
        "\n",
        "performance on training: (946, 1000, 0.946)\n",
        "performance on testing : (832, 1000, 0.832)\n",
        "\n",
        "performance on training: (945, 1000, 0.945)\n",
        "performance on testing : (832, 1000, 0.832)\n",
        "\n",
        "performance on training: (945, 1000, 0.945)\n",
        "performance on testing : (832, 1000, 0.832)\n",
        "\n",
        "performance on training: (944, 1000, 0.944)\n",
        "performance on testing : (832, 1000, 0.832)\n",
        "\n",
        "performance on training: (944, 1000, 0.944)\n",
        "performance on testing : (833, 1000, 0.833)\n",
        "\n",
        "performance on training: (944, 1000, 0.944)\n",
        "performance on testing : (833, 1000, 0.833)\n",
        "\n",
        "performance on training: (944, 1000, 0.944)"
       ]
      },
      {
       "output_type": "stream",
       "stream": "stdout",
       "text": [
        "\n",
        "performance on testing : (833, 1000, 0.833)\n",
        "\n",
        "performance on training: (943, 1000, 0.943)\n",
        "performance on testing : (833, 1000, 0.833)\n",
        "\n",
        "performance on training: (943, 1000, 0.943)\n",
        "performance on testing : (833, 1000, 0.833)\n",
        "\n",
        "performance on training: (943, 1000, 0.943)\n",
        "performance on testing : (833, 1000, 0.833)\n",
        "\n",
        "performance on training: (943, 1000, 0.943)\n",
        "performance on testing : (832, 1000, 0.832)\n",
        "\n",
        "performance on training: (942, 1000, 0.942)\n",
        "performance on testing : (832, 1000, 0.832)\n",
        "\n",
        "performance on training: (942, 1000, 0.942)\n",
        "performance on testing : (832, 1000, 0.832)\n",
        "\n",
        "performance on training: (942, 1000, 0.942)\n",
        "performance on testing : (833, 1000, 0.833)\n",
        "\n",
        "performance on training: (942, 1000, 0.942)"
       ]
      },
      {
       "output_type": "stream",
       "stream": "stdout",
       "text": [
        "\n",
        "performance on testing : (834, 1000, 0.834)\n",
        "\n",
        "performance on training: (942, 1000, 0.942)\n",
        "performance on testing : (834, 1000, 0.834)\n",
        "\n",
        "performance on training: (941, 1000, 0.941)\n",
        "performance on testing : (835, 1000, 0.835)\n",
        "\n",
        "performance on training: (941, 1000, 0.941)\n",
        "performance on testing : (835, 1000, 0.835)\n",
        "\n",
        "performance on training: (940, 1000, 0.94)\n",
        "performance on testing : (835, 1000, 0.835)\n",
        "\n",
        "performance on training: (940, 1000, 0.94)\n",
        "performance on testing : (835, 1000, 0.835)\n",
        "\n",
        "performance on training: (940, 1000, 0.94)\n",
        "performance on testing : (835, 1000, 0.835)\n",
        "\n",
        "performance on training: (940, 1000, 0.94)\n",
        "performance on testing : (834, 1000, 0.834)\n",
        "\n",
        "performance on training: (940, 1000, 0.94)"
       ]
      },
      {
       "output_type": "stream",
       "stream": "stdout",
       "text": [
        "\n",
        "performance on testing : (834, 1000, 0.834)\n",
        "\n",
        "performance on training: (940, 1000, 0.94)\n",
        "performance on testing : (834, 1000, 0.834)\n",
        "\n",
        "performance on training: (940, 1000, 0.94)\n",
        "performance on testing : (834, 1000, 0.834)\n",
        "\n",
        "performance on training: (940, 1000, 0.94)\n",
        "performance on testing : (834, 1000, 0.834)\n",
        "\n",
        "performance on training: (940, 1000, 0.94)\n",
        "performance on testing : (833, 1000, 0.833)\n",
        "\n",
        "performance on training: (939, 1000, 0.939)\n",
        "performance on testing : (833, 1000, 0.833)\n",
        "\n",
        "performance on training: (937, 1000, 0.937)\n",
        "performance on testing : (834, 1000, 0.834)\n",
        "\n",
        "performance on training: (937, 1000, 0.937)\n",
        "performance on testing : (834, 1000, 0.834)\n",
        "\n",
        "performance on training: (937, 1000, 0.937)"
       ]
      },
      {
       "output_type": "stream",
       "stream": "stdout",
       "text": [
        "\n",
        "performance on testing : (834, 1000, 0.834)\n",
        "\n",
        "performance on training: (936, 1000, 0.936)\n",
        "performance on testing : (833, 1000, 0.833)\n",
        "\n",
        "performance on training: (936, 1000, 0.936)\n",
        "performance on testing : (834, 1000, 0.834)\n",
        "\n",
        "performance on training: (936, 1000, 0.936)\n",
        "performance on testing : (834, 1000, 0.834)\n",
        "\n",
        "performance on training: (936, 1000, 0.936)\n",
        "performance on testing : (835, 1000, 0.835)\n",
        "\n",
        "performance on training: (936, 1000, 0.936)\n",
        "performance on testing : (835, 1000, 0.835)\n",
        "\n",
        "performance on training: (934, 1000, 0.934)\n",
        "performance on testing : (835, 1000, 0.835)\n",
        "\n",
        "performance on training: (934, 1000, 0.934)\n",
        "performance on testing : (836, 1000, 0.836)\n",
        "\n",
        "performance on training: (933, 1000, 0.933)"
       ]
      },
      {
       "output_type": "stream",
       "stream": "stdout",
       "text": [
        "\n",
        "performance on testing : (836, 1000, 0.836)\n",
        "\n",
        "performance on training: (933, 1000, 0.933)\n",
        "performance on testing : (836, 1000, 0.836)\n",
        "\n",
        "performance on training: (933, 1000, 0.933)\n",
        "performance on testing : (836, 1000, 0.836)\n",
        "\n"
       ]
      }
     ],
     "prompt_number": 8
    },
    {
     "cell_type": "code",
     "collapsed": false,
     "input": [
      "# let's plot it to see what it looks like! \n",
      "import matplotlib.pyplot as plt\n",
      "training = []\n",
      "testing = []\n",
      "for i in performances:\n",
      "    training.append(i[0][2])\n",
      "    testing.append(i[1][2])\n",
      "\n",
      "plt.plot(range(0, len(performances)), training, 'rs',\\\n",
      "         range(0, len(performances)), testing, 'bs')\n",
      "\n",
      "plt.xlabel(\"lambda parameter\")\n",
      "plt.ylabel(\"ratio success / total\")\n",
      "plt.show()"
     ],
     "language": "python",
     "metadata": {},
     "outputs": [
      {
       "metadata": {},
       "output_type": "display_data",
       "png": "[encoded data removed]",
       "text": [
        "<matplotlib.figure.Figure at 0x7fe4381b03d0>"
       ]
      }
     ],
     "prompt_number": 9
    }
   ],
   "metadata": {}
  }
 ]
}